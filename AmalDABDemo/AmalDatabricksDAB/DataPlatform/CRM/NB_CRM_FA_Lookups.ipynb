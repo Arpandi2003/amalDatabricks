{
 "cells": [
  {
   "cell_type": "code",
   "execution_count": 0,
   "metadata": {
    "application/vnd.databricks.v1+cell": {
     "cellMetadata": {
      "byteLimit": 2048000,
      "rowLimit": 10000
     },
     "inputWidgets": {},
     "nuid": "d8dfaf7e-5b13-45ae-884a-9e7244913800",
     "showTitle": false,
     "tableResultSettingsMap": {},
     "title": ""
    }
   },
   "outputs": [],
   "source": [
    "%run \"../General/NB_Configuration\""
   ]
  },
  {
   "cell_type": "code",
   "execution_count": 0,
   "metadata": {
    "application/vnd.databricks.v1+cell": {
     "cellMetadata": {
      "byteLimit": 2048000,
      "rowLimit": 10000
     },
     "inputWidgets": {},
     "nuid": "b4971252-b01b-4058-8c0d-e189f4d36fad",
     "showTitle": false,
     "tableResultSettingsMap": {},
     "title": ""
    }
   },
   "outputs": [],
   "source": [
    "spark.sql(f\"use catalog {catalog}\")"
   ]
  },
  {
   "cell_type": "code",
   "execution_count": 0,
   "metadata": {
    "application/vnd.databricks.v1+cell": {
     "cellMetadata": {
      "byteLimit": 2048000,
      "implicitDf": true,
      "rowLimit": 10000
     },
     "inputWidgets": {},
     "nuid": "aa32756d-281d-4c0e-9090-85b20944c7cf",
     "showTitle": false,
     "tableResultSettingsMap": {},
     "title": ""
    }
   },
   "outputs": [],
   "source": [
    "# %sql\n",
    "# TRUNCATE TABLE crm.financial_account_address;"
   ]
  },
  {
   "cell_type": "code",
   "execution_count": 0,
   "metadata": {
    "application/vnd.databricks.v1+cell": {
     "cellMetadata": {
      "byteLimit": 2048000,
      "rowLimit": 10000
     },
     "inputWidgets": {},
     "nuid": "7ca70307-9e07-4c83-b18b-7257f11b84b7",
     "showTitle": true,
     "tableResultSettingsMap": {},
     "title": "FA FEE"
    }
   },
   "outputs": [],
   "source": [
    "basetable = spark.sql('''\n",
    "SELECT fee.*\n",
    "FROM silver.financial_account_fee fee\n",
    "INNER JOIN crm.financial_account acct\n",
    "    ON fee.FinancialAccountNumber = acct.FinancialAccountNumber\n",
    "    AND acct.CurrentRecord = fee.CurrentRecord\n",
    "''')\n",
    "basetable.createOrReplaceTempView(\"FA_fee_vw\")\n",
    "basetable.display()"
   ]
  },
  {
   "cell_type": "code",
   "execution_count": 0,
   "metadata": {
    "application/vnd.databricks.v1+cell": {
     "cellMetadata": {
      "byteLimit": 2048000,
      "rowLimit": 10000
     },
     "inputWidgets": {},
     "nuid": "42ddc102-e865-485b-833c-bb206971b63d",
     "showTitle": true,
     "tableResultSettingsMap": {},
     "title": "FA SERVICE"
    }
   },
   "outputs": [],
   "source": [
    "basetable = spark.sql('''\n",
    "SELECT service.*\n",
    "FROM silver.financial_account_service service\n",
    "INNER JOIN crm.financial_account acct\n",
    "    ON service.FinancialAccount = acct.FinancialAccountNumber\n",
    "    and acct.currentrecord = service.CurrentRecord\n",
    "''')\n",
    "basetable.createOrReplaceTempView(\"FA_service_vw\")\n",
    "basetable.display()"
   ]
  },
  {
   "cell_type": "code",
   "execution_count": 0,
   "metadata": {
    "application/vnd.databricks.v1+cell": {
     "cellMetadata": {
      "byteLimit": 2048000,
      "implicitDf": true,
      "rowLimit": 10000
     },
     "inputWidgets": {},
     "nuid": "3e3d2cb5-791d-4c73-b08b-53d4cc60f64d",
     "showTitle": true,
     "tableResultSettingsMap": {},
     "title": "PROD"
    }
   },
   "outputs": [],
   "source": [
    "basetable = spark.sql('''\n",
    "SELECT * FROM silver.product prod\n",
    "        -- WHERE prod.currentrecord = 'Yes'\n",
    "''')\n",
    "basetable.createOrReplaceTempView(\"product_vw\")\n",
    "basetable.display()"
   ]
  },
  {
   "cell_type": "code",
   "execution_count": 0,
   "metadata": {
    "application/vnd.databricks.v1+cell": {
     "cellMetadata": {
      "byteLimit": 2048000,
      "implicitDf": true,
      "rowLimit": 10000
     },
     "inputWidgets": {},
     "nuid": "308f451d-f0f8-41ac-b490-9d714b52bc31",
     "showTitle": true,
     "tableResultSettingsMap": {},
     "title": "Dup check"
    }
   },
   "outputs": [],
   "source": [
    "%sql\n",
    "select productcode , currentrecord, count(*) from product_vw\n",
    "group by 1,2\n",
    "having count(*) > 1\n"
   ]
  },
  {
   "cell_type": "code",
   "execution_count": 0,
   "metadata": {
    "application/vnd.databricks.v1+cell": {
     "cellMetadata": {
      "byteLimit": 2048000,
      "rowLimit": 10000
     },
     "inputWidgets": {},
     "nuid": "c0e2182d-0ee1-4f5b-ae2c-ff86bb844883",
     "showTitle": true,
     "tableResultSettingsMap": {},
     "title": "ADDRESS"
    }
   },
   "outputs": [],
   "source": [
    "basetable = spark.sql('''\n",
    "select * from (\n",
    "SELECT address.*\n",
    "FROM silver.financial_account_address address\n",
    "INNER JOIN crm.financial_account acct\n",
    "    ON acct.FinancialAccountNumber = address.FinancialAccountNumber\n",
    "    AND acct.currentrecord = address.currentrecord\n",
    ")a\n",
    "    ''')\n",
    "basetable.createOrReplaceTempView(\"address_vw\")\n",
    "basetable.display()"
   ]
  },
  {
   "cell_type": "code",
   "execution_count": 0,
   "metadata": {
    "application/vnd.databricks.v1+cell": {
     "cellMetadata": {
      "byteLimit": 2048000,
      "rowLimit": 10000
     },
     "inputWidgets": {},
     "nuid": "5fbff47e-d146-40fd-9f3d-1284cd127da6",
     "showTitle": true,
     "tableResultSettingsMap": {},
     "title": "FA BALANCE"
    }
   },
   "outputs": [],
   "source": [
    "basetable = spark.sql('''\n",
    "SELECT bal.*, COUNT(*) OVER (PARTITION BY bal.FinancialAccountId, bal.BalanceAsOfDate, bal.type) as duplicate_count\n",
    "FROM silver.financial_account_balance bal\n",
    "INNER JOIN crm.financial_account acct\n",
    "    ON acct.FinancialAccountNumber = bal.FinancialAccountId \n",
    "    AND bal.currentrecord = acct.currentrecord\n",
    "''')\n",
    "basetable.createOrReplaceTempView(\"fa_balance_vw\")\n",
    "basetable.display()"
   ]
  },
  {
   "cell_type": "code",
   "execution_count": 0,
   "metadata": {
    "application/vnd.databricks.v1+cell": {
     "cellMetadata": {
      "byteLimit": 2048000,
      "rowLimit": 10000
     },
     "inputWidgets": {},
     "nuid": "2bcb45d9-b0d2-4299-88ca-97e71e7fe79a",
     "showTitle": true,
     "tableResultSettingsMap": {},
     "title": "Branch"
    }
   },
   "outputs": [],
   "source": [
    "basetable = spark.sql('''\n",
    "SELECT * FROM silver.branch\n",
    "    ''')\n",
    "basetable.createOrReplaceTempView(\"branch_vw\")"
   ]
  },
  {
   "cell_type": "code",
   "execution_count": 0,
   "metadata": {
    "application/vnd.databricks.v1+cell": {
     "cellMetadata": {
      "byteLimit": 2048000,
      "rowLimit": 10000
     },
     "inputWidgets": {},
     "nuid": "dcfc30e8-b341-418a-9a0a-a1eaa21dcec6",
     "showTitle": true,
     "tableResultSettingsMap": {},
     "title": "Service"
    }
   },
   "outputs": [],
   "source": [
    "basetable = spark.sql('''\n",
    "SELECT * FROM silver.service_xref\n",
    "    ''')\n",
    "basetable.createOrReplaceTempView(\"service_xref_vw\")"
   ]
  },
  {
   "cell_type": "code",
   "execution_count": 0,
   "metadata": {
    "application/vnd.databricks.v1+cell": {
     "cellMetadata": {
      "byteLimit": 2048000,
      "implicitDf": true,
      "rowLimit": 10000
     },
     "inputWidgets": {},
     "nuid": "fa3bc429-d1e3-4cbe-84ba-36e07c15a148",
     "showTitle": true,
     "tableResultSettingsMap": {},
     "title": "Checks"
    }
   },
   "outputs": [],
   "source": [
    "%sql\n",
    "select 'fee' as tablename,count(*) as Failures from fa_fee_vw\n",
    "where financialaccountnumber not in(select FinancialAccountNumber from silver.financial_account)\n",
    "and currentrecord = 'Yes'\n",
    "UNION ALL\n",
    "select 'service', count(*) as Failures from fa_service_vw\n",
    "where FinancialAccount not in(select FinancialAccountNumber from silver.financial_account)\n",
    "and currentrecord = 'Yes'\n",
    "UNION ALL\n",
    "select 'silverproduct' as tablename, count(*) as Failures from product_vw \n",
    "where ProductCODE not in (select productcode from silver.financial_account)\n",
    "Union all\n",
    "select 'address' as tablename, count(*) as Failures from address_vw\n",
    "where FinancialAccountNumber not in (select financialaccountnumber from silver.financial_account_address)\n",
    "Union all\n",
    "select 'balance' as tablename, count(*) as Failures from fa_balance_vw\n",
    "where FinancialAccountID not in (select financialaccountnumber from crm.financial_account)\n",
    ";"
   ]
  },
  {
   "cell_type": "markdown",
   "metadata": {
    "application/vnd.databricks.v1+cell": {
     "cellMetadata": {},
     "inputWidgets": {},
     "nuid": "03ffc35a-5438-4c79-bc32-fc52f39e4467",
     "showTitle": false,
     "tableResultSettingsMap": {},
     "title": ""
    }
   },
   "source": [
    "#Write tables "
   ]
  },
  {
   "cell_type": "code",
   "execution_count": 0,
   "metadata": {
    "application/vnd.databricks.v1+cell": {
     "cellMetadata": {
      "byteLimit": 2048000,
      "implicitDf": true,
      "rowLimit": 10000
     },
     "inputWidgets": {},
     "nuid": "83e5b08a-5c98-4651-a793-d779bdd7e660",
     "showTitle": false,
     "tableResultSettingsMap": {},
     "title": ""
    }
   },
   "outputs": [],
   "source": [
    "basetable = spark.sql('''SELECT * FROM fa_fee_vw''')\n",
    "basetable.write.mode('overwrite').saveAsTable('crm.financial_account_fee')\n",
    "\n",
    "basetable = spark.sql('''SELECT * FROM fa_service_vw''')\n",
    "basetable.write.option(\"mergeSchema\", \"true\").mode('overwrite').saveAsTable('crm.financial_account_service')\n",
    "\n",
    "basetable = spark.sql('''SELECT * FROM product_vw''')\n",
    "basetable.write.option(\"mergeSchema\", \"true\").mode('overwrite').saveAsTable('crm.product')\n",
    "\n",
    "basetable = spark.sql('''SELECT * FROM address_vw''')\n",
    "basetable.write.mode('overwrite').saveAsTable('crm.financial_account_address')\n",
    "\n",
    "# spark.sql('''Truncate table crm.financial_account_balance''')\n",
    "basetable = spark.sql('''SELECT * FROM fa_balance_vw''')\n",
    "basetable.write.option(\"mergeSchema\", \"true\").mode('overwrite').saveAsTable('crm.financial_account_balance')\n",
    "\n",
    "basetable = spark.sql('''SELECT * FROM branch_vw''')\n",
    "basetable.write.mode('overwrite').saveAsTable('crm.branch')\n",
    "\n",
    "basetable = spark.sql('''SELECT * FROM service_xref_vw''')\n",
    "basetable.write.mode('overwrite').saveAsTable('crm.service_xref')"
   ]
  },
  {
   "cell_type": "code",
   "execution_count": 0,
   "metadata": {
    "application/vnd.databricks.v1+cell": {
     "cellMetadata": {
      "byteLimit": 2048000,
      "implicitDf": true,
      "rowLimit": 10000
     },
     "inputWidgets": {},
     "nuid": "1f023881-a3f1-49cd-890c-bf8173fcf07e",
     "showTitle": true,
     "tableResultSettingsMap": {},
     "title": "Checks"
    }
   },
   "outputs": [],
   "source": [
    "%sql\n",
    "select count(1) from crm.financial_account_address"
   ]
  },
  {
   "cell_type": "code",
   "execution_count": 0,
   "metadata": {
    "application/vnd.databricks.v1+cell": {
     "cellMetadata": {
      "byteLimit": 2048000,
      "implicitDf": true,
      "rowLimit": 10000
     },
     "inputWidgets": {},
     "nuid": "5086cedf-a93d-4eb6-ba79-bf257faec477",
     "showTitle": true,
     "tableResultSettingsMap": {},
     "title": "Checks"
    }
   },
   "outputs": [],
   "source": [
    "%sql\n",
    "Select Type, Sum(Balance)\n",
    "from silver.financial_account_balance\n",
    "where currentrecord = 'Yes'\n",
    "group by Type"
   ]
  }
 ],
 "metadata": {
  "application/vnd.databricks.v1+notebook": {
   "computePreferences": null,
   "dashboards": [],
   "environmentMetadata": {
    "base_environment": "",
    "environment_version": "2"
   },
   "inputWidgetPreferences": null,
   "language": "python",
   "notebookMetadata": {
    "mostRecentlyExecutedCommandWithImplicitDF": {
     "commandId": 7299729217040964,
     "dataframes": [
      "_sqldf"
     ]
    },
    "pythonIndentUnit": 4
   },
   "notebookName": "NB_CRM_FA_Lookups",
   "widgets": {}
  },
  "language_info": {
   "name": "python"
  }
 },
 "nbformat": 4,
 "nbformat_minor": 0
}
