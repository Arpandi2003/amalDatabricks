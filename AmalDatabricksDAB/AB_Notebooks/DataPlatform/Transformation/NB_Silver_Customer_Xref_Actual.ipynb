{
 "cells": [
  {
   "cell_type": "markdown",
   "metadata": {
    "application/vnd.databricks.v1+cell": {
     "cellMetadata": {},
     "inputWidgets": {},
     "nuid": "a9d21f0f-0e3b-4d4a-ab4e-6789c9c93dfa",
     "showTitle": false,
     "tableResultSettingsMap": {},
     "title": ""
    }
   },
   "source": [
    "#### Importing Required Packages"
   ]
  },
  {
   "cell_type": "code",
   "execution_count": 0,
   "metadata": {
    "application/vnd.databricks.v1+cell": {
     "cellMetadata": {
      "byteLimit": 2048000,
      "rowLimit": 10000
     },
     "inputWidgets": {},
     "nuid": "19ac87f1-90fc-45aa-8e5e-5c90bc44cd6b",
     "showTitle": false,
     "tableResultSettingsMap": {},
     "title": ""
    }
   },
   "outputs": [],
   "source": [
    "#Importing the required packages\n",
    "\n",
    "from pyspark.sql.functions import *\n",
    "from datetime import datetime\n",
    "from delta.tables import *\n",
    "from pyspark.sql import SparkSession\n",
    "from pyspark.sql.functions import col, lit, current_timestamp\n",
    "from pyspark.sql.types import *\n",
    "from pyspark.sql.window import Window\n",
    "import pytz\n",
    "import pandas as pd\n",
    "import os"
   ]
  },
  {
   "cell_type": "markdown",
   "metadata": {
    "application/vnd.databricks.v1+cell": {
     "cellMetadata": {},
     "inputWidgets": {},
     "nuid": "29eb2c81-fe87-4f26-88eb-d4f1bc6c2b19",
     "showTitle": false,
     "tableResultSettingsMap": {},
     "title": ""
    }
   },
   "source": [
    "#### Calling Logger Notebook"
   ]
  },
  {
   "cell_type": "code",
   "execution_count": 0,
   "metadata": {
    "application/vnd.databricks.v1+cell": {
     "cellMetadata": {
      "byteLimit": 2048000,
      "rowLimit": 10000
     },
     "inputWidgets": {},
     "nuid": "17273cf8-44e4-45fc-bad0-091769e5434c",
     "showTitle": false,
     "tableResultSettingsMap": {},
     "title": ""
    },
    "jupyter": {
     "outputs_hidden": true
    }
   },
   "outputs": [],
   "source": [
    "%run \"../General/NB_AMAL_Logger\""
   ]
  },
  {
   "cell_type": "markdown",
   "metadata": {
    "application/vnd.databricks.v1+cell": {
     "cellMetadata": {},
     "inputWidgets": {},
     "nuid": "9b8194c2-e8e1-45ea-a7f5-75deab940282",
     "showTitle": false,
     "tableResultSettingsMap": {},
     "title": ""
    }
   },
   "source": [
    "#### Calling Utilities Notebook"
   ]
  },
  {
   "cell_type": "code",
   "execution_count": 0,
   "metadata": {
    "application/vnd.databricks.v1+cell": {
     "cellMetadata": {
      "byteLimit": 2048000,
      "rowLimit": 10000
     },
     "inputWidgets": {},
     "nuid": "ee91a386-92e1-4590-bb14-f2885eb3d1f2",
     "showTitle": false,
     "tableResultSettingsMap": {},
     "title": ""
    },
    "jupyter": {
     "outputs_hidden": true
    }
   },
   "outputs": [],
   "source": [
    "%run \"../General/NB_AMAL_Utilities\""
   ]
  },
  {
   "cell_type": "markdown",
   "metadata": {
    "application/vnd.databricks.v1+cell": {
     "cellMetadata": {},
     "inputWidgets": {},
     "nuid": "35316a9e-54f5-4e3f-9255-0b8ed73294f7",
     "showTitle": false,
     "tableResultSettingsMap": {},
     "title": ""
    }
   },
   "source": [
    "#### Calling config notebook"
   ]
  },
  {
   "cell_type": "code",
   "execution_count": 0,
   "metadata": {
    "application/vnd.databricks.v1+cell": {
     "cellMetadata": {
      "byteLimit": 2048000,
      "rowLimit": 10000
     },
     "inputWidgets": {},
     "nuid": "3d824bd7-dbe0-44eb-8ddb-587abb15b20c",
     "showTitle": false,
     "tableResultSettingsMap": {},
     "title": ""
    },
    "jupyter": {
     "outputs_hidden": true
    }
   },
   "outputs": [],
   "source": [
    "%run \"../General/NB_Configuration\""
   ]
  },
  {
   "cell_type": "markdown",
   "metadata": {
    "application/vnd.databricks.v1+cell": {
     "cellMetadata": {},
     "inputWidgets": {},
     "nuid": "28270c47-77b7-4dae-9cd1-07c36b01d6fa",
     "showTitle": false,
     "tableResultSettingsMap": {},
     "title": ""
    }
   },
   "source": [
    "dummy"
   ]
  },
  {
   "cell_type": "markdown",
   "metadata": {
    "application/vnd.databricks.v1+cell": {
     "cellMetadata": {},
     "inputWidgets": {},
     "nuid": "b27043e3-95b2-4926-a86a-23e96b39451f",
     "showTitle": false,
     "tableResultSettingsMap": {},
     "title": ""
    }
   },
   "source": [
    "#### Use Catalog"
   ]
  },
  {
   "cell_type": "code",
   "execution_count": 0,
   "metadata": {
    "application/vnd.databricks.v1+cell": {
     "cellMetadata": {
      "byteLimit": 2048000,
      "implicitDf": true,
      "rowLimit": 10000
     },
     "inputWidgets": {},
     "nuid": "37bfbcad-a48c-4a3c-b05a-b60c96512764",
     "showTitle": false,
     "tableResultSettingsMap": {},
     "title": ""
    }
   },
   "outputs": [],
   "source": [
    "spark.sql(f\"use catalog {catalog}\")"
   ]
  },
  {
   "cell_type": "code",
   "execution_count": 0,
   "metadata": {
    "application/vnd.databricks.v1+cell": {
     "cellMetadata": {
      "byteLimit": 2048000,
      "rowLimit": 10000
     },
     "inputWidgets": {},
     "nuid": "65998204-7fa5-4a6b-99f1-72c58b34198b",
     "showTitle": false,
     "tableResultSettingsMap": {},
     "title": ""
    }
   },
   "outputs": [],
   "source": [
    "# This code initializes an error logger specific to the current batch process.\n",
    "# It then logs an informational message indicating the start of the pipeline for the given batch.\n",
    "\n",
    "ErrorLogger = ErrorLogs(f\"NB_RawToSTage\")\n",
    "logger = ErrorLogger[0]\n",
    "logger.info(\"Starting the pipeline\")"
   ]
  },
  {
   "cell_type": "code",
   "execution_count": 0,
   "metadata": {
    "application/vnd.databricks.v1+cell": {
     "cellMetadata": {
      "byteLimit": 2048000,
      "rowLimit": 10000
     },
     "inputWidgets": {},
     "nuid": "4926b69f-c05e-4e12-a820-782982c68172",
     "showTitle": false,
     "tableResultSettingsMap": {},
     "title": ""
    }
   },
   "outputs": [],
   "source": [
    "# This code reads data from the 'config.metadata' table, filtering for the specified batch, 'SQL' sourcesystem, and 'Bronze' zone.\n",
    "DFMetadata = spark.read.table('config.metadata').filter(\n",
    "    (col('Zone') == 'Silver') &\n",
    "    (col('TableID') == 1020 )\n",
    ")\n",
    "\n",
    "display(DFMetadata)"
   ]
  },
  {
   "cell_type": "code",
   "execution_count": 0,
   "metadata": {
    "application/vnd.databricks.v1+cell": {
     "cellMetadata": {
      "byteLimit": 2048000,
      "rowLimit": 10000
     },
     "inputWidgets": {},
     "nuid": "594e720f-3b6a-45a6-942e-b4a1be970f39",
     "showTitle": false,
     "tableResultSettingsMap": {},
     "title": ""
    }
   },
   "outputs": [],
   "source": [
    "TableID=1020\n",
    "metadata = GetMetaDataDetails(TableID)\n",
    "LoadType = metadata['LoadType']\n",
    "LastLoadColumnName = metadata['LastLoadDateColumn']\n",
    "DependencyTableID = metadata['DependencyTableIDs']\n",
    "SourceDBName= metadata['SourceDBName']\n",
    "LastLoadDate = metadata['LastLoadDateValue']\n",
    "DWHSchemaName = metadata['DWHSchemaName']\n",
    "DWHTableName = metadata['DWHTableName']\n",
    "MergeKey = metadata['MergeKey']\n",
    "MergeKeyColumn = metadata['MergeKeyColumn']\n",
    "SelectQuery = metadata['SourceSelectQuery']\n",
    "SourcePath = metadata['SourcePath']\n",
    "LoadedDependencies = True\n",
    "ListDeptable = DependencyTableID.split(',')\n",
    "SrcTableName=metadata['SourceTableName']\n",
    "sourcesystem=metadata['SourceSystem']\n",
    "schemanames=metadata['SourceSchema']"
   ]
  },
  {
   "cell_type": "markdown",
   "metadata": {
    "application/vnd.databricks.v1+cell": {
     "cellMetadata": {},
     "inputWidgets": {},
     "nuid": "bdcb22c6-d64e-45eb-839d-cf9df999d169",
     "showTitle": false,
     "tableResultSettingsMap": {},
     "title": ""
    }
   },
   "source": [
    "### Create base view"
   ]
  },
  {
   "cell_type": "code",
   "execution_count": 0,
   "metadata": {
    "application/vnd.databricks.v1+cell": {
     "cellMetadata": {
      "byteLimit": 2048000,
      "rowLimit": 10000
     },
     "inputWidgets": {},
     "nuid": "2fe4da81-59f1-4e53-8bd7-2b34d6702ac4",
     "showTitle": true,
     "tableResultSettingsMap": {},
     "title": "Base view"
    }
   },
   "outputs": [],
   "source": [
    "df_base=spark.sql(\"select SF_Cust_Key from silver.Customer_Master group by 1\")\n",
    "df_base.createOrReplaceTempView(\"vw_base\")"
   ]
  },
  {
   "cell_type": "markdown",
   "metadata": {
    "application/vnd.databricks.v1+cell": {
     "cellMetadata": {},
     "inputWidgets": {},
     "nuid": "d5c8060a-7def-4445-9b32-25059e40b57f",
     "showTitle": false,
     "tableResultSettingsMap": {},
     "title": ""
    }
   },
   "source": [
    "####Performing transformations in the source table"
   ]
  },
  {
   "cell_type": "code",
   "execution_count": 0,
   "metadata": {
    "application/vnd.databricks.v1+cell": {
     "cellMetadata": {
      "byteLimit": 2048000,
      "implicitDf": true,
      "rowLimit": 10000
     },
     "inputWidgets": {},
     "nuid": "3599ee5d-52b5-4629-80ee-52a45edbc6b8",
     "showTitle": true,
     "tableResultSettingsMap": {},
     "title": "Initialize_Customer_Xref in the default catalog  - This is the working copy"
    }
   },
   "outputs": [],
   "source": [
    "%sql\n",
    "--Initialize Customer XREF Default Table \n",
    "--This creates a working copy of the silver table which becomes the base table for merging\n",
    "\n",
    "truncate table default.Customer_Xref;"
   ]
  },
  {
   "cell_type": "code",
   "execution_count": 0,
   "metadata": {
    "application/vnd.databricks.v1+cell": {
     "cellMetadata": {
      "byteLimit": 2048000,
      "rowLimit": 10000
     },
     "inputWidgets": {},
     "nuid": "221ec467-4a3d-4c35-be94-6a83867baabb",
     "showTitle": true,
     "tableResultSettingsMap": {},
     "title": "Get all AOTM Customers in Horizon"
    }
   },
   "outputs": [],
   "source": [
    "df = spark.sql('''\n",
    "        select tab.Company_ID\n",
    "        ,tab.cust_skey\n",
    "        ,tab.tax_id\n",
    "        ,tab.rownum\n",
    "        from \n",
    "        (\n",
    "            select beb.company_id \n",
    "            ,xref.cust_skey\n",
    "            ,idm.oid Tax_ID\n",
    "            ,row_number() over (partition by beb.company_id,xref.cust_skey order by xref.cust_skey asc) as rownum\n",
    "            from bronze.v_ods_beb_customer beb \n",
    "            left join \n",
    "            (\n",
    "                select bca.company_id\n",
    "                ,CASE  when bca.Account_Type = 'Checking' then concat('13-DD-', LPAD(bca.Account_Number,20 ,'0'))\n",
    "                        when bca.Account_Type = 'Savings' then concat('13-SV-', LPAD(bca.Account_Number,20 ,'0'))\n",
    "                        when bca.Account_Type = 'Loan' then concat('13-LN-', LPAD(bca.Account_Number,20 ,'0'))\n",
    "                        when bca.Account_Type = 'MortgageLoan' then concat('13-ML-',LPAD(bca.Account_Number,20 ,'0'))\n",
    "                        when bca.Account_Type = 'CertificateOfDeposit' then concat('13-CD-',LPAD(bca.Account_Number,20 ,'0')) end AS ACCT_SKEY\n",
    "                from bronze.`v_ods_beb_customer-account` bca\n",
    "                where bca.CurrentRecord = 'Yes'\n",
    "                and bca.account_type != \"Investment\" \n",
    "                union all\n",
    "                select bca.company_id\n",
    "                ,xref.acct_skey AS ACCT_SKEY\n",
    "                from bronze.`v_ods_beb_customer-account` bca\n",
    "                inner join bronze.ods_rmxref xref on LPAD(bca.Account_Number,20 ,'0') = xref.rxacct and xref.CurrentRecord = \"Yes\"\n",
    "                where bca.CurrentRecord = 'Yes'\n",
    "                and bca.account_type = \"Investment\" \n",
    "            ) bca on bca.company_id = beb.company_id\n",
    "            left join bronze.ods_rmxref xref on bca.acct_skey = xref.ACCT_SKEY and xref.RXPRIM = 'Y'\n",
    "            LEFT JOIN\n",
    "            (\n",
    "                select tab.OID\n",
    "                ,tab.GID\n",
    "                ,mast.skey\n",
    "                from\n",
    "                (\n",
    "                    select OID\n",
    "                    ,GID\n",
    "                    ,ROW_NUMBER() OVER (PARTITION BY OID order by TID desc) AS rownum\n",
    "                    from silver.customer_idmap idm where CurrentRecord = \"Yes\"\n",
    "                )tab\n",
    "                left join bronze.rmmast_ssn mast on tab.OID = mast.SSN\n",
    "                where tab.rownum = 1  \n",
    "            ) idm ON xref.CUST_SKEY = idm.skey\n",
    "        )tab where tab.rownum = 1\n",
    "        and tab.cust_skey is not null and tab.tax_id is not null\n",
    "        union \n",
    "        select tab.Company_ID\n",
    "        ,tab.cust_skey\n",
    "        ,tab.Tax_ID\n",
    "        ,tab.rownum\n",
    "        from\n",
    "        (\n",
    "            select beb.Company_ID\n",
    "            ,xref.cust_skey\n",
    "            ,idm.oid Tax_ID\n",
    "            ,concat_ws ('#',idm.GID, beb.company_ID) sf_cust_key\n",
    "            ,ROW_NUMBER() OVER (PARTITION BY xref.cust_skey, idm.oid order by xref.cust_skey desc) AS rownum\n",
    "            from bronze.ods_rmxref xref\n",
    "            LEFT JOIN\n",
    "            (\n",
    "                select tab.OID\n",
    "                ,tab.GID\n",
    "                ,mast.skey\n",
    "                from\n",
    "                (\n",
    "                    select OID\n",
    "                    ,GID\n",
    "                    ,ROW_NUMBER() OVER (PARTITION BY OID order by TID desc) AS rownum\n",
    "                    from silver.customer_idmap idm where CurrentRecord = \"Yes\"\n",
    "                )tab\n",
    "                left join bronze.rmmast_ssn mast on tab.OID = mast.SSN\n",
    "                where tab.rownum = 1  \n",
    "            ) idm ON xref.CUST_SKEY = idm.skey\n",
    "            inner join \n",
    "            (\n",
    "                select beb.Company_ID\n",
    "                ,regexp_replace(beb.Tax_ID, '[^0-9]', '') Tax_ID \n",
    "                from bronze.v_ods_beb_customer beb\n",
    "                where beb.CurrentRecord = \"Yes\"\n",
    "            ) beb on idm.oid = beb.Tax_ID\n",
    "            where xref.CurrentRecord = \"Yes\"\n",
    "        ) tab where tab.rownum = 1  \n",
    "        --and tab.company_id = '1174919'      \n",
    "        ''' )\n",
    "df.createOrReplaceTempView(\"vw_cust_skey\")   "
   ]
  },
  {
   "cell_type": "code",
   "execution_count": 0,
   "metadata": {
    "application/vnd.databricks.v1+cell": {
     "cellMetadata": {
      "byteLimit": 2048000,
      "rowLimit": 10000
     },
     "inputWidgets": {},
     "nuid": "c4587ca7-a921-4353-bf61-c7483abd2fea",
     "showTitle": true,
     "tableResultSettingsMap": {},
     "title": "Dup TaxID per Cust_skey"
    }
   },
   "outputs": [],
   "source": [
    "df = spark.sql('''\n",
    "        select tab.company_id\n",
    "        ,tab.cust_skey\n",
    "        ,tab.tax_id\n",
    "        ,tab.rownum\n",
    "        from \n",
    "        (\n",
    "        select company_id\n",
    "        ,cust_skey\n",
    "        ,tax_id\n",
    "        ,ROW_NUMBER() OVER (PARTITION BY company_id, tax_id order by cust_skey asc) AS rownum\n",
    "        from vw_cust_skey\n",
    "        ) tab\n",
    "''' )\n",
    "df.createOrReplaceTempView(\"vw_cust_skey_SSN\")   "
   ]
  },
  {
   "cell_type": "code",
   "execution_count": 0,
   "metadata": {
    "application/vnd.databricks.v1+cell": {
     "cellMetadata": {
      "byteLimit": 2048000,
      "implicitDf": true,
      "rowLimit": 10000
     },
     "inputWidgets": {},
     "nuid": "6f5ebfab-1704-4c24-950c-cea721912cd1",
     "showTitle": true,
     "tableResultSettingsMap": {},
     "title": "dupes check"
    }
   },
   "outputs": [],
   "source": [
    "%sql\n",
    "select tax_id,company_id,count(1) from vw_cust_skey_SSN group by 1,2 having count(1)>1"
   ]
  },
  {
   "cell_type": "code",
   "execution_count": 0,
   "metadata": {
    "application/vnd.databricks.v1+cell": {
     "cellMetadata": {
      "byteLimit": 2048000,
      "rowLimit": 10000
     },
     "inputWidgets": {},
     "nuid": "bff03f00-effd-4948-ae29-952599192ee6",
     "showTitle": true,
     "tableResultSettingsMap": {},
     "title": "Customer Key List by Company ID"
    }
   },
   "outputs": [],
   "source": [
    "df = spark.sql('''\n",
    "select main.company_id\n",
    ",cust_skey1.cust_skey\n",
    ",cust_skey2.cust_skey cust_skey_2\n",
    ",cust_skey3.cust_skey cust_skey_3\n",
    ",cust_skey4.cust_skey cust_skey_4\n",
    ",cust_skey5.cust_skey cust_skey_5\n",
    ",cust_skey6.cust_skey cust_skey_6\n",
    "from vw_cust_skey_SSN main\n",
    "left join (\n",
    "        select company_id\n",
    "        ,tax_id\n",
    "        ,(case when rownum = 1 then cust_skey end) cust_skey\n",
    "        from vw_cust_skey_SSN\n",
    "        where rownum = 1\n",
    ") cust_skey1 on main.company_id = cust_skey1.company_id and main.tax_id = cust_skey1.tax_id\n",
    "left join (\n",
    "        select company_id\n",
    "        ,tax_id\n",
    "        ,(case when rownum = 2 then cust_skey end) cust_skey\n",
    "        from vw_cust_skey_SSN\n",
    "        where rownum = 2\n",
    ") cust_skey2 on main.company_id = cust_skey2.company_id and main.tax_id = cust_skey2.tax_id\n",
    "left join (\n",
    "        select company_id\n",
    "        ,tax_id\n",
    "        ,(case when rownum = 3 then cust_skey end) cust_skey\n",
    "        from vw_cust_skey_SSN\n",
    "        where rownum = 3\n",
    ") cust_skey3 on main.company_id = cust_skey3.company_id and main.tax_id = cust_skey3.tax_id\n",
    "left join (\n",
    "        select company_id\n",
    "        ,tax_id\n",
    "        ,(case when rownum = 4 then cust_skey end) cust_skey\n",
    "        from vw_cust_skey_SSN\n",
    "        where rownum = 4\n",
    ") cust_skey4 on main.company_id = cust_skey4.company_id and main.tax_id = cust_skey4.tax_id\n",
    "left join (\n",
    "        select company_id\n",
    "        ,tax_id\n",
    "        ,(case when rownum = 5 then cust_skey end) cust_skey\n",
    "        from vw_cust_skey_SSN\n",
    "        where rownum = 5\n",
    ") cust_skey5 on main.company_id = cust_skey5.company_id and main.tax_id = cust_skey5.tax_id\n",
    "left join (\n",
    "        select company_id\n",
    "        ,tax_id\n",
    "        ,(case when rownum = 6 then cust_skey end) cust_skey\n",
    "        from vw_cust_skey_SSN\n",
    "        where rownum = 6\n",
    ") cust_skey6 on main.company_id = cust_skey6.company_id and main.tax_id = cust_skey6.tax_id\n",
    "group by 1,2,3,4,5,6,7\n",
    "''' )\n",
    "df.createOrReplaceTempView(\"vw_cust_skey_list\")   "
   ]
  },
  {
   "cell_type": "code",
   "execution_count": 0,
   "metadata": {
    "application/vnd.databricks.v1+cell": {
     "cellMetadata": {
      "byteLimit": 2048000,
      "rowLimit": 10000
     },
     "inputWidgets": {},
     "nuid": "9b720798-1880-4163-9fc2-41f16e7a0e03",
     "showTitle": true,
     "tableResultSettingsMap": {},
     "title": "Identify the company in AOTM"
    }
   },
   "outputs": [],
   "source": [
    "# A company is the focus of this code and is defined as a unique record in AOTM\n",
    "# The AOTM relationship for a person will be primary \n",
    "\n",
    "df_src_AOTM = spark.sql('''\n",
    "        Select tab.GID\n",
    "        ,tab.Company_ID\n",
    "        ,tab.BEB_Tax_ID Tax_ID\n",
    "        ,tab.cust_skey\n",
    "        ,tab.cust_skey_2\n",
    "        ,tab.cust_skey_3\n",
    "        ,tab.cust_skey_4\n",
    "        ,tab.cust_skey_5\n",
    "        ,tab.cust_skey_6 \n",
    "        ,tab.parentGID\n",
    "        ,concat_ws('#',tab.GID,tab.Company_ID) SF_Cust_Key\n",
    "        ,concat_ws('#',tab.ParentGID,tab.Company_ID) ParentID\n",
    "        from (\n",
    "            select beb.company_id\n",
    "            ,bebidm.skey\n",
    "            ,bebidm.GID ParentGID\n",
    "            ,beb.Company_Name\n",
    "            ,xref.cust_skey\n",
    "            ,xref.cust_skey_2\n",
    "            ,xref.cust_skey_3\n",
    "            ,xref.cust_skey_4\n",
    "            ,xref.cust_skey_5\n",
    "            ,xref.cust_skey_6\n",
    "            ,row_number() over (partition by beb.company_id, xref.cust_skey order by beb.company_id) as rownum\n",
    "            ,idm.gid \n",
    "            ,idm.oid childtaxid\n",
    "            ,rmmast.RMNPN1 AS CompanyFullName_Horizon\n",
    "            ,regexp_replace(beb.Tax_ID, '[^0-9]', '') as BEB_Tax_ID\n",
    "            ,concat_ws('#',idm.GID,beb.Company_ID) sf_cust_key\n",
    "            from bronze.v_ods_beb_customer beb\n",
    "            left join bronze.`v_ods_beb_customer-account` bca\n",
    "            on beb.company_id = bca.company_id and bca.CurrentRecord = \"Yes\"\n",
    "            left join vw_cust_skey_list xref on beb.company_id = xref.company_id \n",
    "            left join bronze.ods_rmmast rmmast\n",
    "            on xref.CUST_SKEY = rmmast.CUST_SKEY\n",
    "            LEFT JOIN\n",
    "            (\n",
    "                select tab.OID\n",
    "                ,tab.GID\n",
    "                ,mast.skey\n",
    "                from\n",
    "                (\n",
    "                    select OID\n",
    "                    ,GID\n",
    "                    ,ROW_NUMBER() OVER (PARTITION BY OID order by TID desc) AS rownum\n",
    "                    from silver.customer_idmap idm where CurrentRecord = \"Yes\"\n",
    "                )tab\n",
    "                left join bronze.rmmast_ssn mast on tab.OID = mast.SSN\n",
    "                where tab.rownum = 1  \n",
    "            ) bebidm ON regexp_replace(beb.Tax_ID, '[^0-9]', '') = bebidm.oid                   \n",
    "            LEFT JOIN\n",
    "            (\n",
    "                select tab.OID\n",
    "                ,tab.GID\n",
    "                ,mast.skey\n",
    "                from\n",
    "                (\n",
    "                    select OID\n",
    "                    ,GID\n",
    "                    ,ROW_NUMBER() OVER (PARTITION BY OID order by TID desc) AS rownum\n",
    "                    from silver.customer_idmap idm where CurrentRecord = \"Yes\"\n",
    "                )tab\n",
    "                left join bronze.rmmast_ssn mast on tab.OID = mast.SSN\n",
    "                where tab.rownum = 1  \n",
    "            ) idm ON xref.CUST_SKEY = idm.skey\n",
    "            where beb.CurrentRecord = 'Yes'\n",
    "            and bca.currentrecord = 'Yes'\n",
    "            and rmmast.currentrecord = 'Yes'\n",
    "            --and beb.Company_id = '1174919'\n",
    "         )tab where tab.rownum = 1 and tab.GID is not null\n",
    "        ''' )\n",
    "df_src_AOTM.createOrReplaceTempView(\"vw_src_AOTM\")   "
   ]
  },
  {
   "cell_type": "code",
   "execution_count": 0,
   "metadata": {
    "application/vnd.databricks.v1+cell": {
     "cellMetadata": {
      "byteLimit": 2048000,
      "rowLimit": 10000
     },
     "inputWidgets": {},
     "nuid": "368aa591-d165-49de-982c-4e469facdbd0",
     "showTitle": true,
     "tableResultSettingsMap": {},
     "title": "Insert Records to XREF from AOTM"
    }
   },
   "outputs": [],
   "source": [
    "df = spark.sql('''\n",
    "              MERGE INTO  default.Customer_Xref  AS Target\n",
    "              USING (SELECT * FROM vw_src_AOTM) AS Source\n",
    "              ON Source.SF_Cust_key = Target.SF_Cust_Key\n",
    "              --DNS Added Tax_ID\n",
    "              WHEN NOT MATCHED\n",
    "              THEN INSERT\n",
    "              (company_id, cust_skey, cust_skey_2, cust_skey_3, cust_skey_4, cust_skey_5, cust_skey_6, gid, sf_cust_key, source, Tax_ID)\n",
    "              VALUES\n",
    "              (Source.company_id, Source.cust_skey, Source.cust_skey_2, Source.cust_skey_3, Source.cust_skey_4, Source.cust_skey_5, Source.cust_skey_6, Source.GID, SOURCE.sf_cust_key, '01_HZN_AOTM',source.Tax_ID) \n",
    "             ''')"
   ]
  },
  {
   "cell_type": "code",
   "execution_count": 0,
   "metadata": {
    "application/vnd.databricks.v1+cell": {
     "cellMetadata": {
      "byteLimit": 2048000,
      "implicitDf": true,
      "rowLimit": 10000
     },
     "inputWidgets": {},
     "nuid": "288c20df-6a8b-41fb-94a3-bebb5c20cbfb",
     "showTitle": true,
     "tableResultSettingsMap": {},
     "title": "Debug - Test for Dups"
    }
   },
   "outputs": [],
   "source": [
    "%sql\n",
    "--#validation test for dups\n",
    "select SF_Cust_Key\n",
    ",count(1) \n",
    "from default.Customer_Xref\n",
    "group by 1\n",
    "having count(*) > 1"
   ]
  },
  {
   "cell_type": "code",
   "execution_count": 0,
   "metadata": {
    "application/vnd.databricks.v1+cell": {
     "cellMetadata": {
      "byteLimit": 2048000,
      "implicitDf": true,
      "rowLimit": 10000
     },
     "inputWidgets": {},
     "nuid": "dcc0b8e7-b943-4ab6-b5ec-8a25c53379ae",
     "showTitle": true,
     "tableResultSettingsMap": {},
     "title": "Merge Result"
    }
   },
   "outputs": [],
   "source": [
    "%sql\n",
    "select source\n",
    ",count(1) \n",
    "from default.Customer_Xref\n",
    "group by 1\n",
    "having count(*) > 1\n",
    "order by Source"
   ]
  },
  {
   "cell_type": "markdown",
   "metadata": {
    "application/vnd.databricks.v1+cell": {
     "cellMetadata": {},
     "inputWidgets": {},
     "nuid": "0663ad72-7f6c-4214-b40b-e63d0454e978",
     "showTitle": false,
     "tableResultSettingsMap": {},
     "title": ""
    }
   },
   "source": [
    "###Global Plus"
   ]
  },
  {
   "cell_type": "code",
   "execution_count": 0,
   "metadata": {
    "application/vnd.databricks.v1+cell": {
     "cellMetadata": {
      "byteLimit": 2048000,
      "rowLimit": 10000
     },
     "inputWidgets": {},
     "nuid": "40d2e26d-f908-4a87-ae1b-7c8efe69cb67",
     "showTitle": true,
     "tableResultSettingsMap": {},
     "title": "Preparing to Merge GP Company with SF Account"
    }
   },
   "outputs": [],
   "source": [
    "# Create a lookup using the Taxid from the account table - connect to rmmast_ssn to get the cust_skey\n",
    "# Use Cust key to get GID froom the silver.aotm_hznXref table \n",
    "# if no match on company id use the acct_number from the account table for the merge step(s)\n",
    "\n",
    "# Unique Taxid's from account table\n",
    "acct = spark.sql('''SELECT * FROM (\n",
    "                 SELECT TAX_ID, idm.GID ,'GP' as Source, idm.GID as SF_Cust_key\n",
    "                    ,ROW_NUMBER() OVER (PARTITION BY TAXID order by TAXID desc) AS rownum  FROM \n",
    "                        (select TAXID, REGEXP_REPLACE(TAXID, '[^0-9]', '') as Tax_ID\n",
    "                            from bronze.account \n",
    "                          WHERE TaxID is not null \n",
    "                            AND TAXID NOT IN ('99-9999999') \n",
    "                            AND acct_number BETWEEN '1000003' AND '7000001'\n",
    "                            and CurrentRecord = \"Yes\"\n",
    "                            group by 1\n",
    "                        ) acct\n",
    "                    left join silver.customer_idmap idm \n",
    "                    ON acct.Tax_ID = idm.OID\n",
    "                    where CurrentRecord = \"Yes\")a\n",
    "                    where rownum = 1\n",
    "                ''');\n",
    "acct.createOrReplaceTempView(\"vw_acct\")\n",
    "\n",
    "gp_exists_in_Hzn = spark.sql('''\n",
    "                             select * from (\n",
    "                             select hzn.gid, hzn.company_id, hzn.cust_skey\n",
    "                             ,ROW_NUMBER() OVER (PARTITION BY hzn.GID order by hzn.GID desc) AS rownum\n",
    "                    from default.customer_xref hzn\n",
    "                    inner join vw_acct acct \n",
    "                    on hzn.gid = acct.gid\n",
    "                    where hzn.cust_skey is not null)\n",
    "                    where rownum = 1\n",
    "\n",
    "                     ''');\n",
    "\n",
    "gp_exists_in_Hzn.createOrReplaceTempView(\"vw_gp_exists_in_Hzn\")  # 155 matches on 4/23/2025                     \n",
    "\n",
    "gp_not_exist_in_Hzn = spark.sql('''\n",
    "                                SELECT * FROM (\n",
    "                                SELECT TAX_ID, idm.GID, idm.GID as SF_Cust_key\n",
    "                                ,ROW_NUMBER() OVER (PARTITION BY GID order by GID desc) AS rownum  FROM \n",
    "                        (select TAXID, REGEXP_REPLACE(TAXID, '[^0-9]', '') as Tax_ID\n",
    "                            from bronze.account \n",
    "                          WHERE TaxID is not null \n",
    "                            AND TAXID NOT IN ('99-9999999') \n",
    "                            AND acct_number BETWEEN '1000003' AND '7000001'\n",
    "                            and CurrentRecord = \"Yes\"\n",
    "                            group by 1\n",
    "                        ) acct\n",
    "                    left join silver.customer_idmap idm \n",
    "                    ON acct.Tax_ID = idm.OID\n",
    "                     where CurrentRecord = \"Yes\" and idm.GID not in (select distinct gid from vw_gp_exists_in_Hzn) )\n",
    "                     where rownum = 1\n",
    "                     ''')\n",
    "\n",
    "gp_not_exist_in_Hzn.createOrReplaceTempView(\"vw_gp_not_exist_in_Hzn\")  \n",
    "###   154  matches on 4/23/2025, 1526 accounts in GP not in Horizon \n",
    "\n",
    "\n",
    "\n",
    "######################    Checks to ensure no duplicates ########################\n",
    "\n",
    "distinct_gid_count = spark.sql(\"SELECT COUNT(DISTINCT GID) FROM vw_acct\")\n",
    "ct_gp_not_exist_in_Hzn = spark.sql(\"SELECT COUNT(DISTINCT GID) FROM vw_gp_not_exist_in_Hzn\")\n",
    "ct_gp_exists_in_Hzn = spark.sql(\"SELECT COUNT(DISTINCT GID) FROM vw_gp_exists_in_Hzn\")\n",
    "\n",
    "gid_count = spark.sql(\"SELECT COUNT( GID) FROM vw_acct\")\n",
    "tot_ct_gp_not_exist_in_Hzn = spark.sql(\"SELECT COUNT( GID) FROM vw_gp_not_exist_in_Hzn\")\n",
    "tot_ct_gp_exists_in_Hzn = spark.sql(\"SELECT COUNT( GID) FROM vw_gp_exists_in_Hzn\")\n",
    "\n",
    "\n",
    "print(f\"Total distinct accounts {distinct_gid_count.collect()[0][0]}\")\n",
    "print(f\"Total distinct accounts in GP not in Hzn {ct_gp_not_exist_in_Hzn.collect()[0][0]}\")\n",
    "print(f\"Total distinct accounts in GP and HZN {ct_gp_exists_in_Hzn.collect()[0][0]}\")\n",
    "\n",
    "print(f\"Total accounts {gid_count.collect()[0][0]}\")\n",
    "print(f\"Total account in GP not in Hzn {tot_ct_gp_not_exist_in_Hzn.collect()[0][0]}\")\n",
    "print(f\"Total accounts in GP and HZN {tot_ct_gp_exists_in_Hzn.collect()[0][0]}\")\n",
    "\n"
   ]
  },
  {
   "cell_type": "code",
   "execution_count": 0,
   "metadata": {
    "application/vnd.databricks.v1+cell": {
     "cellMetadata": {
      "byteLimit": 2048000,
      "rowLimit": 10000
     },
     "inputWidgets": {},
     "nuid": "22e6ac51-8107-44a5-a75a-0aaf11a28f73",
     "showTitle": true,
     "tableResultSettingsMap": {},
     "title": "Insert Unmatched GP Records into default.customer_xref"
    }
   },
   "outputs": [],
   "source": [
    "df = spark.sql('''\n",
    "              MERGE INTO  default.customer_xref AS Target\n",
    "              USING (select a.company_id, a.cust_skey, a.GID, a.SF_Cust_key, a.Source, a.Tax_ID from \n",
    "                        (SELECT '' as company_id\n",
    "                            ,'' as cust_skey \n",
    "                            , GID\n",
    "                            , Tax_ID\n",
    "                            , SF_Cust_key\n",
    "                            ,'03_Global_Plus' as Source \n",
    "                            ,ROW_NUMBER() OVER (PARTITION BY GID order by GID desc) AS rownum\n",
    "                            from vw_gp_not_exist_in_Hzn\n",
    "                    ) a\n",
    "                    --where rownum = 1\n",
    "                    ) AS Source\n",
    "                ON Source.GID = Target.GID\n",
    "              --DNS Added Tax_ID\n",
    "              WHEN NOT MATCHED THEN INSERT\n",
    "              (company_id, cust_skey, gid, sf_cust_key, Source ,Tax_ID) VALUES\n",
    "              (Source.company_id, Source.cust_skey, Source.GID, Source.SF_Cust_key, Source.Source ,source.Tax_ID)\n",
    "             ''')"
   ]
  },
  {
   "cell_type": "code",
   "execution_count": 0,
   "metadata": {
    "application/vnd.databricks.v1+cell": {
     "cellMetadata": {
      "byteLimit": 2048000,
      "implicitDf": true,
      "rowLimit": 10000
     },
     "inputWidgets": {},
     "nuid": "d936adac-6c3e-4711-9842-a01dcb94c96c",
     "showTitle": true,
     "tableResultSettingsMap": {},
     "title": "Dup Check"
    }
   },
   "outputs": [],
   "source": [
    "%sql\n",
    "select SF_Cust_Key,COUNT(*)\n",
    "from default.customer_xref\n",
    "GROUP BY 1\n",
    "HAVING count(*) > 1\n"
   ]
  },
  {
   "cell_type": "code",
   "execution_count": 0,
   "metadata": {
    "application/vnd.databricks.v1+cell": {
     "cellMetadata": {
      "byteLimit": 2048000,
      "implicitDf": true,
      "rowLimit": 10000
     },
     "inputWidgets": {},
     "nuid": "e5bcf20e-665a-4a9f-9e02-ef7bc9cfeb98",
     "showTitle": true,
     "tableResultSettingsMap": {},
     "title": "Debug - Confirm Records Added as expected"
    }
   },
   "outputs": [],
   "source": [
    "%sql\n",
    "select source, count(*) from default.customer_xref group by 1 \n",
    "order by Source"
   ]
  },
  {
   "cell_type": "markdown",
   "metadata": {
    "application/vnd.databricks.v1+cell": {
     "cellMetadata": {},
     "inputWidgets": {},
     "nuid": "0d05ce44-326b-48a5-97dc-a16c2416f1a5",
     "showTitle": false,
     "tableResultSettingsMap": {},
     "title": ""
    }
   },
   "source": [
    "#Small Business"
   ]
  },
  {
   "cell_type": "code",
   "execution_count": 0,
   "metadata": {
    "application/vnd.databricks.v1+cell": {
     "cellMetadata": {
      "byteLimit": 2048000,
      "rowLimit": 10000
     },
     "inputWidgets": {},
     "nuid": "3f3b3d99-2196-4d75-82fb-21cd5b18231f",
     "showTitle": true,
     "tableResultSettingsMap": {},
     "title": "Preparing to Merge Small Business  - No Personal accounts are added"
    }
   },
   "outputs": [],
   "source": [
    "# Unique Taxid's from account table\n",
    "SB_Account = spark.sql('''\n",
    "select tab.company_id\n",
    ",tab.CUST_SKEY\n",
    ",tab.GID\n",
    "--DNS Added OID\n",
    ",tab.OID as Tax_ID\n",
    ",case when tab.company_id is not null then \"04_SB_With_AOTM\"\n",
    "else \"04_SB_No_AOTM\" end Source\n",
    ",case when tab.company_id is not null then concat_ws('#',tab.GID,tab.Company_ID)\n",
    "else tab.GID end as SF_Cust_key\n",
    "from\n",
    "(\n",
    "    Select beb.company_id\n",
    "    ,xref.CUST_SKEY \n",
    "    ,idm.GID\n",
    "    --DNS Added OID\n",
    "    ,idm.OID\n",
    "    ,row_number() OVER (PARTITION BY concat_ws('#',idm.GID) order by beb.Company_ID desc) AS rownum\n",
    "    from bronze.v_trend_summary_da tr\n",
    "    left join bronze.fi_Core_Product prod\n",
    "    on tr.ProductLKey = prod.Product_Key AND PROD.CurrentRecord = 'Yes'\n",
    "    left join bronze.fi_Core_Status stat\n",
    "    on tr.StatusLKey = stat.Code_Key AND STAT.CurrentRecord = 'Yes'\n",
    "    --DNS Remove the RXPRIM filter and add the RELCODE = 'A'\n",
    "    inner join bronze.ods_rmxref xref on tr.AccountLKey = xref.ACCT_SKEY \n",
    "    and xref.CurrentRecord = 'Yes' and xref.REL_CODE = 'A'\n",
    "    left join\n",
    "    (\n",
    "      select tab.OID\n",
    "      ,tab.GID\n",
    "      ,mast.skey\n",
    "      from\n",
    "      (\n",
    "        select OID\n",
    "        ,GID\n",
    "        ,ROW_NUMBER() OVER (PARTITION BY OID order by OID desc) AS rownum\n",
    "        from silver.customer_idmap idm where CurrentRecord = \"Yes\"\n",
    "      )tab\n",
    "      left join bronze.rmmast_ssn mast on tab.OID = mast.ssn\n",
    "      where tab.rownum = 1  \n",
    "    )idm ON idm.skey = xref.CUST_SKEY\n",
    "    left join\n",
    "    (\n",
    "      select beb.company_id\n",
    "      ,beb.Tax_ID\n",
    "      ,CASE  when bca.Account_Type = 'Checking' then concat('13-DD-', LPAD(bca.Account_Number,20 ,'0'))\n",
    "            when bca.Account_Type = 'Savings' then concat('13-SV-', LPAD(bca.Account_Number,20 ,'0'))\n",
    "            when bca.Account_Type = 'Loan' then concat('13-LN-', LPAD(bca.Account_Number,20 ,'0'))\n",
    "            when bca.Account_Type = 'MortgageLoan' then concat('13-ML-',LPAD(bca.Account_Number,20 ,'0'))\n",
    "            when bca.Account_Type = 'CertificateOfDeposit' then concat('13-CD-',LPAD(bca.Account_Number,20 ,'0')) end AS `ACCT_SKEY`\n",
    "      from bronze.`v_ods_beb_customer-account` bca\n",
    "      inner join\n",
    "      (\n",
    "        select beb.company_id\n",
    "        ,beb.Tax_ID\n",
    "        from\n",
    "        (\n",
    "          select beb.company_id\n",
    "          ,REGEXP_REPLACE(beb.Tax_ID, '[^0-9]', '') Tax_ID\n",
    "          --DNS Fix to use the Formatted EIN on the rownum\n",
    "          ,ROW_NUMBER() OVER (PARTITION BY REGEXP_REPLACE(beb.Tax_ID, '[^0-9]', '') order by Company_Open_Date desc) as rownum\n",
    "          from bronze.v_ods_beb_customer beb\n",
    "          where beb.CurrentRecord = \"Yes\"\n",
    "          and beb.Tax_ID is not null \n",
    "          and beb.Tax_ID <> ''\n",
    "          and beb.Tax_ID <> ' '\n",
    "        )beb\n",
    "        where beb.rownum = 1  \n",
    "      )beb on beb.company_id = bca.company_id\n",
    "      where bca.CurrentRecord = 'Yes'\n",
    "    )beb on idm.OID = beb.tax_id\n",
    "    WHERE tr.datekey in (select max(datekey) from bronze.v_Trend_Summary_DA where CurrentRecord = \"Yes\")\n",
    "    and tr.CurrentRecord = \"Yes\"\n",
    "    and tr.ProductLKey IN (\n",
    "        '13-DD-021',\n",
    "        '13-DD-022',\n",
    "        '13-DD-020',\n",
    "        '13-LN-124',\n",
    "        '13-LN-125',\n",
    "        '13-DD-058',\n",
    "        '13-SV-071',\n",
    "        '13-LN-300',\n",
    "        '13-LN-301',\n",
    "        '13-CD-054',\n",
    "        '13-CD-056',\n",
    "        '13-TD-049',\n",
    "        '13-TD-057',\n",
    "        '13-CD-058',\n",
    "        '13-CD-053',\n",
    "        '13-CD-055',\n",
    "        '13-DD-023',\n",
    "        '13-LN-216',\n",
    "        '13-LN-128'\n",
    "    )\n",
    ") tab\n",
    "where tab.rownum = 1 and tab.gid is not null\n",
    "''')\n",
    "\n",
    "SB_Account.createOrReplaceTempView(\"vw_SB_Account\") \n",
    "\n",
    "SB_exists_in_Hzn = spark.sql('''\n",
    "select * \n",
    "from \n",
    "(\n",
    "    select hzn.gid\n",
    "    ,hzn.company_id\n",
    "    ,hzn.cust_skey\n",
    "    ,ROW_NUMBER() OVER (PARTITION BY hzn.GID order by hzn.GID desc) AS rownum\n",
    "    from default.customer_xref hzn\n",
    "    inner join vw_SB_Account acct \n",
    "    on hzn.gid = acct.gid\n",
    "    where hzn.cust_skey is not null\n",
    ")\n",
    "--where rownum = 1\n",
    "''');\n",
    "SB_exists_in_Hzn.createOrReplaceTempView(\"vw_SB_exists_in_Hzn\")\n",
    "\n",
    "SB_not_exist_in_Hzn = spark.sql('''\n",
    "select company_id\n",
    ",CUST_SKEY\n",
    ",GID\n",
    ",Tax_ID\n",
    ",Source\n",
    ",SF_Cust_key\n",
    "from vw_SB_Account\n",
    "where gid not in (select distinct gid from vw_SB_exists_in_Hzn) \n",
    "''')\n",
    "SB_not_exist_in_Hzn.createOrReplaceTempView(\"vw_SB_not_exist_in_Hzn\")"
   ]
  },
  {
   "cell_type": "code",
   "execution_count": 0,
   "metadata": {
    "application/vnd.databricks.v1+cell": {
     "cellMetadata": {
      "byteLimit": 2048000,
      "rowLimit": 10000
     },
     "inputWidgets": {},
     "nuid": "3fc48eb1-f8d3-4f89-a5cb-a29b06c3d5c9",
     "showTitle": true,
     "tableResultSettingsMap": {},
     "title": "Merge Small Business Accounts"
    }
   },
   "outputs": [],
   "source": [
    "df = spark.sql('''\n",
    "              MERGE INTO  default.customer_xref AS Target\n",
    "              USING (SELECT * FROM vw_SB_not_exist_in_Hzn) AS Source\n",
    "              ON Source.SF_Cust_key = Target.SF_Cust_Key\n",
    "            \n",
    "            --DNS Added Tax_ID\n",
    "              WHEN NOT MATCHED \n",
    "              THEN INSERT\n",
    "              (company_id, cust_skey, gid, sf_cust_key, source ,tax_id) VALUES\n",
    "              (Source.company_id, Source.cust_skey, Source.GID, Source.sf_cust_key, Source.source, Source.tax_id)\n",
    "\n",
    "             ''')"
   ]
  },
  {
   "cell_type": "code",
   "execution_count": 0,
   "metadata": {
    "application/vnd.databricks.v1+cell": {
     "cellMetadata": {
      "byteLimit": 2048000,
      "implicitDf": true,
      "rowLimit": 10000
     },
     "inputWidgets": {},
     "nuid": "ca25c2cd-92d9-4662-8a28-60613a67a22a",
     "showTitle": true,
     "tableResultSettingsMap": {},
     "title": "Debug - dup check"
    }
   },
   "outputs": [],
   "source": [
    "%sql\n",
    "select SF_Cust_Key--, source\n",
    ",count(1) \n",
    "from default.customer_xref\n",
    "group by 1\n",
    "having count(*) > 1 "
   ]
  },
  {
   "cell_type": "code",
   "execution_count": 0,
   "metadata": {
    "application/vnd.databricks.v1+cell": {
     "cellMetadata": {
      "byteLimit": 2048000,
      "implicitDf": true,
      "rowLimit": 10000
     },
     "inputWidgets": {},
     "nuid": "0af260c7-0763-485a-8c35-e1be32625c46",
     "showTitle": true,
     "tableResultSettingsMap": {},
     "title": "Debug - Confirm Records inserted as expected"
    }
   },
   "outputs": [],
   "source": [
    "%sql\n",
    "select source, count(*) from default.customer_xref group by 1 order by Source"
   ]
  },
  {
   "cell_type": "markdown",
   "metadata": {
    "application/vnd.databricks.v1+cell": {
     "cellMetadata": {},
     "inputWidgets": {},
     "nuid": "1a209390-49b6-4621-85f4-321180199986",
     "showTitle": false,
     "tableResultSettingsMap": {},
     "title": ""
    }
   },
   "source": [
    "#Personal Customers"
   ]
  },
  {
   "cell_type": "code",
   "execution_count": 0,
   "metadata": {
    "application/vnd.databricks.v1+cell": {
     "cellMetadata": {
      "byteLimit": 2048000,
      "rowLimit": 10000
     },
     "inputWidgets": {},
     "nuid": "404f2e6f-85de-4b74-b1d1-d32aa9cde22e",
     "showTitle": true,
     "tableResultSettingsMap": {},
     "title": "Personal Customers"
    }
   },
   "outputs": [],
   "source": [
    "# Personal Customers who own Commercial Accounts - These are accounted for already by the business account. If they own a personal account separate from the business acocunt we will have a record\n",
    "\n",
    "df_src_personal = spark.sql('''\n",
    "        Select tab.GID\n",
    "        ,tab.Tax_ID\n",
    "        ,tab.cust_skey\n",
    "        ,tab.GID SF_Cust_Key\n",
    "        ,\"05_Horizon_Personal\" Source\n",
    "        from (\n",
    "          select \n",
    "          idm.GID\n",
    "          ,idm.oid as Tax_ID\n",
    "          ,idm.skey as cust_skey\n",
    "          ,ROW_NUMBER() OVER (PARTITION BY idm.oid ,idm.skey order by idm.oid desc) as rownum\n",
    "          ,currentRecord\n",
    "          from bronze.ods_rmxref  xref\n",
    "          LEFT JOIN \n",
    "          (\n",
    "            select tab.OID\n",
    "            ,tab.GID\n",
    "            ,mast.skey\n",
    "            from \n",
    "            (\n",
    "              select OID\n",
    "              ,GID\n",
    "              ,ROW_NUMBER() OVER (PARTITION BY OID order by TID desc) AS rownum\n",
    "              from silver.customer_idmap idm where CurrentRecord = \"Yes\"\n",
    "            )tab\n",
    "            left join bronze.rmmast_ssn mast on tab.OID = mast.SSN\n",
    "            where tab.rownum = 1  \n",
    "          ) idm ON xref.cust_skey = idm.skey\n",
    "          where idm.oid NOT IN ('999999999','88888888888','99999999','9999999999','55555555','555555555','123456789')\n",
    "          and xref.currentRecord = 'Yes'\n",
    "        )tab\n",
    "        where tab.rownum = 1 and tab.GID is not null \n",
    "        and tab.currentrecord = 'Yes'\n",
    "        ''' )\n",
    "df_src_personal.createOrReplaceTempView(\"vw_src_Type_P\")   \n",
    "\n",
    "Personal_exists_in_Hzn = spark.sql('''\n",
    "select * \n",
    "from \n",
    "(\n",
    "    select hzn.gid\n",
    "    ,hzn.company_id\n",
    "    ,hzn.cust_skey\n",
    "    ,ROW_NUMBER() OVER (PARTITION BY hzn.GID order by hzn.GID desc) AS rownum\n",
    "    from default.customer_xref hzn\n",
    "    inner join vw_src_Type_P acct \n",
    "    on hzn.gid = acct.gid\n",
    "    where hzn.cust_skey is not null\n",
    ")\n",
    "''');\n",
    "Personal_exists_in_Hzn.createOrReplaceTempView(\"vw_personal_exists_in_Hzn\")\n",
    "\n",
    "Personal_not_exist_in_Hzn = spark.sql('''\n",
    "select \"\" Company_Id\n",
    ",cust_skey\n",
    ",gid\n",
    ",Tax_ID\n",
    ",SF_Cust_Key\n",
    "from vw_src_Type_P\n",
    "where gid not in (select distinct gid from vw_personal_exists_in_Hzn) \n",
    "''')\n",
    "Personal_not_exist_in_Hzn.createOrReplaceTempView(\"vw_personal_not_exist_in_Hzn\")"
   ]
  },
  {
   "cell_type": "code",
   "execution_count": 0,
   "metadata": {
    "application/vnd.databricks.v1+cell": {
     "cellMetadata": {
      "byteLimit": 2048000,
      "implicitDf": true,
      "rowLimit": 10000
     },
     "inputWidgets": {},
     "nuid": "b12acc01-6362-4c1c-bee3-2d544ba6c64b",
     "showTitle": true,
     "tableResultSettingsMap": {},
     "title": "Identify all the customer on GID with multiple cust_skey"
    }
   },
   "outputs": [],
   "source": [
    "# Using the source \"vw_src_Type_P\" code snippets below identifies the duplicate GIDs with different customer key\n",
    "# We will create a new SF_Cust_Key_RMCTYP using GID, CUST_SKEY and RMCTYP. \n",
    "\n",
    "CustomerDupByGID = spark.sql('''\n",
    "select \"\" Company_Id\n",
    ",final.cust_skey\n",
    ",final.gid\n",
    ",final.tax_id\n",
    ",concat_ws ('#',final.gid,final.cust_skey,final.RMCTYP) sf_cust_key\n",
    ",\"05_Customer_Dup_By_GID\" Source\n",
    "from\n",
    "(\n",
    "    select xref.gid\n",
    "    ,xref.tax_id\n",
    "    ,xref.cust_skey\n",
    "    ,mast.RMCTYP\n",
    "    ,row_number() over(partition by xref.GID, xref.Cust_Skey order by xref.Cust_Skey desc) as rownum\n",
    "    from vw_personal_not_exist_in_Hzn xref\n",
    "    inner join \n",
    "    (   select tab.gid\n",
    "        from\n",
    "        (\n",
    "            select gid\n",
    "            from vw_personal_not_exist_in_Hzn \n",
    "            group by 1\n",
    "            having count(*) > 1\n",
    "        )tab\n",
    "    )dupGID on dupGID.gid = xref.gid\n",
    "    left join bronze.ods_rmmast mast on xref.Cust_Skey = mast.CUST_SKEY and mast.CurrentRecord = \"Yes\"\n",
    ")final\n",
    "where final.rownum = 1\n",
    "''')\n",
    "CustomerDupByGID.createOrReplaceTempView(\"vw_CustomerDupByGID\")"
   ]
  },
  {
   "cell_type": "code",
   "execution_count": 0,
   "metadata": {
    "application/vnd.databricks.v1+cell": {
     "cellMetadata": {
      "byteLimit": 2048000,
      "rowLimit": 10000
     },
     "inputWidgets": {},
     "nuid": "d765f31b-726c-48af-aa86-db51f5322996",
     "showTitle": true,
     "tableResultSettingsMap": {},
     "title": "Merge CustomerDupByGID"
    }
   },
   "outputs": [],
   "source": [
    "df = spark.sql('''\n",
    "              MERGE INTO  default.customer_xref AS Target\n",
    "              USING (SELECT * FROM vw_CustomerDupByGID) AS Source\n",
    "                ON Source.sf_cust_key = Target.sf_cust_key\n",
    "\n",
    "              WHEN NOT MATCHED \n",
    "              THEN INSERT\n",
    "              (company_id, cust_skey, gid, sf_cust_key, source ,tax_id) VALUES\n",
    "              (Source.company_id, Source.cust_skey, Source.GID, Source.sf_cust_key, Source.source, Source.tax_id)\n",
    "             ''')"
   ]
  },
  {
   "cell_type": "code",
   "execution_count": 0,
   "metadata": {
    "application/vnd.databricks.v1+cell": {
     "cellMetadata": {
      "byteLimit": 2048000,
      "implicitDf": true,
      "rowLimit": 10000
     },
     "inputWidgets": {},
     "nuid": "5eae49e8-2207-4a7e-89bd-bfe78f14870f",
     "showTitle": true,
     "tableResultSettingsMap": {},
     "title": "Check for dups"
    }
   },
   "outputs": [],
   "source": [
    "%sql\n",
    "select SF_Cust_Key\n",
    ",count(1) \n",
    "from default.customer_xref\n",
    "group by 1\n",
    "having count(*) > 1"
   ]
  },
  {
   "cell_type": "code",
   "execution_count": 0,
   "metadata": {
    "application/vnd.databricks.v1+cell": {
     "cellMetadata": {
      "byteLimit": 2048000,
      "implicitDf": true,
      "rowLimit": 10000
     },
     "inputWidgets": {},
     "nuid": "c01008f2-4797-4a2d-846f-cc70f9aca474",
     "showTitle": true,
     "tableResultSettingsMap": {},
     "title": "Debug Merge"
    }
   },
   "outputs": [],
   "source": [
    "%sql \n",
    "SELECT source, count(*) FROM default.customer_xref\n",
    "group by Source\n",
    "order by Source"
   ]
  },
  {
   "cell_type": "code",
   "execution_count": 0,
   "metadata": {
    "application/vnd.databricks.v1+cell": {
     "cellMetadata": {
      "byteLimit": 2048000,
      "implicitDf": true,
      "rowLimit": 10000
     },
     "inputWidgets": {},
     "nuid": "1038b167-3224-4ac0-b6c1-885b2efdeebb",
     "showTitle": true,
     "tableResultSettingsMap": {},
     "title": "Insert the rest of distinct customer"
    }
   },
   "outputs": [],
   "source": [
    "# Insert the rest of the customer on the working directory\n",
    "\n",
    "DistinctCustomers = spark.sql('''\n",
    "select GID\n",
    ",Tax_ID\n",
    ",cust_skey\n",
    ",GID SF_Cust_Key\n",
    ",\"06_Horizon_Personal\" Source\n",
    "from vw_personal_not_exist_in_Hzn\n",
    "where gid not in (select distinct gid from vw_CustomerDupByGID) -- 174028 - 1640 = 172388\n",
    "''')\n",
    "DistinctCustomers.createOrReplaceTempView(\"vw_DistinctCustomers\")"
   ]
  },
  {
   "cell_type": "code",
   "execution_count": 0,
   "metadata": {
    "application/vnd.databricks.v1+cell": {
     "cellMetadata": {
      "byteLimit": 2048000,
      "rowLimit": 10000
     },
     "inputWidgets": {},
     "nuid": "32d1edb1-f203-4103-93de-423983234a0b",
     "showTitle": true,
     "tableResultSettingsMap": {},
     "title": "Merge DistinctCustomers"
    }
   },
   "outputs": [],
   "source": [
    "df = spark.sql('''\n",
    "              MERGE INTO  default.customer_xref AS Target\n",
    "              USING (SELECT * FROM vw_DistinctCustomers) AS Source\n",
    "              ON Source.SF_Cust_key = Target.SF_Cust_Key\n",
    "              WHEN NOT MATCHED \n",
    "              THEN INSERT\n",
    "              (cust_skey, gid, sf_cust_key, source ,tax_id) VALUES\n",
    "              (Source.cust_skey, Source.GID, Source.sf_cust_key, Source.Source ,source.tax_id)\n",
    "             ''')"
   ]
  },
  {
   "cell_type": "code",
   "execution_count": 0,
   "metadata": {
    "application/vnd.databricks.v1+cell": {
     "cellMetadata": {
      "byteLimit": 2048000,
      "implicitDf": true,
      "rowLimit": 10000
     },
     "inputWidgets": {},
     "nuid": "699a73c6-5305-4a2d-9af7-d6c166837738",
     "showTitle": true,
     "tableResultSettingsMap": {},
     "title": "check for dup"
    }
   },
   "outputs": [],
   "source": [
    "%sql\n",
    "select SF_Cust_Key\n",
    ",count(1) \n",
    "from default.customer_xref\n",
    "group by 1\n",
    "having count(*) > 1"
   ]
  },
  {
   "cell_type": "code",
   "execution_count": 0,
   "metadata": {
    "application/vnd.databricks.v1+cell": {
     "cellMetadata": {
      "byteLimit": 2048000,
      "implicitDf": true,
      "rowLimit": 10000
     },
     "inputWidgets": {},
     "nuid": "f866011c-2361-49f2-b348-0325565fc43e",
     "showTitle": true,
     "tableResultSettingsMap": {},
     "title": "Debug - Null check"
    }
   },
   "outputs": [],
   "source": [
    "%sql\n",
    "select * from default.customer_xref\n",
    "where sf_cust_key is null"
   ]
  },
  {
   "cell_type": "code",
   "execution_count": 0,
   "metadata": {
    "application/vnd.databricks.v1+cell": {
     "cellMetadata": {
      "byteLimit": 2048000,
      "implicitDf": true,
      "rowLimit": 10000
     },
     "inputWidgets": {},
     "nuid": "0cf01281-5b00-4e3d-b494-af7976a03668",
     "showTitle": true,
     "tableResultSettingsMap": {},
     "title": "Debug - Merge"
    }
   },
   "outputs": [],
   "source": [
    "%sql \n",
    "SELECT source, count(*) FROM default.customer_xref\n",
    "group by Source\n",
    "order by Source"
   ]
  },
  {
   "cell_type": "markdown",
   "metadata": {
    "application/vnd.databricks.v1+cell": {
     "cellMetadata": {},
     "inputWidgets": {},
     "nuid": "60fa8d12-4376-499b-a18c-2d02d410f919",
     "showTitle": false,
     "tableResultSettingsMap": {},
     "title": ""
    }
   },
   "source": [
    "#Osaic"
   ]
  },
  {
   "cell_type": "code",
   "execution_count": 0,
   "metadata": {
    "application/vnd.databricks.v1+cell": {
     "cellMetadata": {
      "byteLimit": 2048000,
      "implicitDf": true,
      "rowLimit": 10000
     },
     "inputWidgets": {},
     "nuid": "9a895b64-719c-4a2f-9c3d-f4f4405b7f80",
     "showTitle": true,
     "tableResultSettingsMap": {},
     "title": "Osaic Customers"
    }
   },
   "outputs": [],
   "source": [
    "source_osaic = spark.sql('''\n",
    "select a.* from (\n",
    "select idm.GID, idm.GID as sf_cust_key, idm.skey as cust_skey, '07_Osaic_No_Horizon' as Source\n",
    "      ,idm.OID as Tax_ID\n",
    "       ,ROW_NUMBER() OVER (PARTITION BY idm.oid order by idm.oid desc) as rownum\n",
    " from bronze.account_osaic osaic\n",
    "LEFT JOIN \n",
    "(\n",
    "  select tab.OID, \n",
    "  tab.GID\n",
    "  ,mast.skey\n",
    "  from \n",
    "  (\n",
    "    select OID\n",
    "    ,GID\n",
    "    ,ROW_NUMBER() OVER (PARTITION BY OID order by OID desc) AS rownum\n",
    "    from silver.customer_idmap idm where CurrentRecord = \"Yes\"\n",
    "  )tab\n",
    "  left join bronze.rmmast_ssn mast on tab.OID = mast.SSN\n",
    "  where tab.rownum = 1  \n",
    ") idm ON REGEXP_REPLACE(SSN_Tax_ID, '[^0-9]', '') = idm.oid\n",
    "where idm.oid NOT IN ('999999999','88888888888','99999999','9999999999','55555555','555555555','123456789')\n",
    "and currentRecord = 'Yes'\n",
    "and idm.oid is not null) a\n",
    "where a.rownum = 1\n",
    "''') \n",
    "source_osaic.createOrReplaceTempView(\"vw_src_Type_O\")\n",
    "\n",
    "osaic_exists_in_Hzn = spark.sql('''\n",
    "select * \n",
    "from \n",
    "(\n",
    "    select hzn.gid\n",
    "    ,hzn.company_id\n",
    "    ,hzn.cust_skey\n",
    "    ,ROW_NUMBER() OVER (PARTITION BY hzn.GID order by hzn.GID desc) AS rownum\n",
    "    from default.customer_xref hzn\n",
    "    inner join vw_src_Type_O acct \n",
    "    on hzn.gid = acct.gid\n",
    "    where hzn.cust_skey is not null\n",
    ")\n",
    "--where rownum = 1\n",
    "''');\n",
    "osaic_exists_in_Hzn.createOrReplaceTempView(\"vw_osaic_exists_in_Hzn\")\n",
    "\n",
    "osaic_not_exist_in_Hzn = spark.sql('''\n",
    "select \"\" Company_Id\n",
    ",cust_skey\n",
    ",gid\n",
    ",Tax_ID\n",
    ",SF_Cust_Key\n",
    ",source\n",
    "from vw_src_Type_O\n",
    "where gid not in (select distinct gid from vw_osaic_exists_in_Hzn) \n",
    "''')\n",
    "osaic_not_exist_in_Hzn.createOrReplaceTempView(\"vw_osaic_not_exist_in_Hzn\")"
   ]
  },
  {
   "cell_type": "code",
   "execution_count": 0,
   "metadata": {
    "application/vnd.databricks.v1+cell": {
     "cellMetadata": {
      "byteLimit": 2048000,
      "rowLimit": 10000
     },
     "inputWidgets": {},
     "nuid": "85336155-7aee-4109-91f6-e7550af83f6e",
     "showTitle": true,
     "tableResultSettingsMap": {},
     "title": "Osaic Merge"
    }
   },
   "outputs": [],
   "source": [
    "df = spark.sql('''\n",
    "              MERGE INTO  default.customer_xref AS Target\n",
    "              USING (SELECT * FROM vw_osaic_not_exist_in_Hzn) AS Source\n",
    "              ON Source.SF_Cust_key = Target.SF_Cust_Key\n",
    "\n",
    "            --DNS Added Tax_ID\n",
    "              WHEN NOT MATCHED \n",
    "              THEN INSERT\n",
    "              (company_id, cust_skey, gid, sf_cust_key, source ,tax_id) VALUES\n",
    "              (Source.company_id, Source.cust_skey, Source.GID, Source.sf_cust_key, Source.source, Source.tax_id)\n",
    "             ''')"
   ]
  },
  {
   "cell_type": "code",
   "execution_count": 0,
   "metadata": {
    "application/vnd.databricks.v1+cell": {
     "cellMetadata": {
      "byteLimit": 2048000,
      "implicitDf": true,
      "rowLimit": 10000
     },
     "inputWidgets": {},
     "nuid": "7fadda02-c7da-4506-a630-7faff3da5282",
     "showTitle": true,
     "tableResultSettingsMap": {},
     "title": "Debug - dup check"
    }
   },
   "outputs": [],
   "source": [
    "%sql\n",
    "select SF_Cust_Key--, source\n",
    ",count(1) \n",
    "from default.customer_xref\n",
    "group by 1\n",
    "having count(*) > 1 "
   ]
  },
  {
   "cell_type": "code",
   "execution_count": 0,
   "metadata": {
    "application/vnd.databricks.v1+cell": {
     "cellMetadata": {
      "byteLimit": 2048000,
      "implicitDf": true,
      "rowLimit": 10000
     },
     "inputWidgets": {},
     "nuid": "d39f2190-6be0-4f85-9530-fd5d1f1083ee",
     "showTitle": true,
     "tableResultSettingsMap": {},
     "title": "Debug - Merge results"
    }
   },
   "outputs": [],
   "source": [
    "%sql\n",
    "select source, count(*) from default.customer_xref group by 1 order by Source"
   ]
  },
  {
   "cell_type": "markdown",
   "metadata": {
    "application/vnd.databricks.v1+cell": {
     "cellMetadata": {},
     "inputWidgets": {},
     "nuid": "b7a0128b-1d64-4ab6-8a75-616759a2b9ea",
     "showTitle": false,
     "tableResultSettingsMap": {},
     "title": ""
    }
   },
   "source": [
    "#DMI"
   ]
  },
  {
   "cell_type": "code",
   "execution_count": 0,
   "metadata": {
    "application/vnd.databricks.v1+cell": {
     "cellMetadata": {
      "byteLimit": 2048000,
      "rowLimit": 10000
     },
     "inputWidgets": {},
     "nuid": "52dbeb59-6a20-4c08-a6da-2c5b9ca435aa",
     "showTitle": true,
     "tableResultSettingsMap": {},
     "title": "DMI"
    }
   },
   "outputs": [],
   "source": [
    "source_dmi = spark.sql('''\n",
    "select a.* from (\n",
    "select idm.GID, idm.GID as sf_cust_key, idm.skey as cust_skey, idm.ind,'08_DMI_No_Horizon' as Source\n",
    "--DNS Added OID\n",
    "       ,idm.OID as Tax_ID\n",
    "       ,ROW_NUMBER() OVER (PARTITION BY idm.oid order by idm.oid desc) as rownum\n",
    " from bronze.dmi_dcif dcif\n",
    "LEFT JOIN\n",
    "(\n",
    "  --Borrower\n",
    "  select tab.OID,\n",
    "  tab.GID\n",
    "  ,mast.skey\n",
    "  ,\"Borr\" ind\n",
    "  from\n",
    "  (\n",
    "    select OID\n",
    "    ,GID\n",
    "    ,ROW_NUMBER() OVER (PARTITION BY OID order by OID desc) AS rownum\n",
    "    from silver.customer_idmap idm where CurrentRecord = \"Yes\"\n",
    "  )tab\n",
    "  left join bronze.rmmast_ssn mast on tab.OID = mast.SSN\n",
    "  where tab.rownum = 1  \n",
    ") idm ON REGEXP_REPLACE(dcif.Mortgagor_SSN, '[^0-9]', '') = idm.oid\n",
    "where idm.oid NOT IN ('999999999','88888888888','99999999','9999999999','55555555','555555555','123456789')\n",
    "and currentRecord = 'Yes'\n",
    "and idm.oid is not null\n",
    "and dcif.As_of_Date = (select max(As_of_Date) from bronze.dmi_dcif)\n",
    "                and dcif.CurrentRecord = \"Yes\"\n",
    "                and dcif.Investor_ID = \"40H\"\n",
    "                and (dcif.Category_Code = \"003\" or dcif.Category_Code = \"002\")\n",
    "union all\n",
    "select idm.GID, idm.GID as sf_cust_key, idm.skey as cust_skey, idm.ind,'08_DMI_No_Horizon' as Source\n",
    "--DNS Added OID\n",
    "       ,idm.OID as Tax_ID\n",
    "       ,ROW_NUMBER() OVER (PARTITION BY idm.oid order by idm.oid desc) as rownum\n",
    " from bronze.dmi_dcif dcif\n",
    "LEFT JOIN\n",
    "(\n",
    "  --Co-Borrower\n",
    "  select tab.OID,\n",
    "  tab.GID\n",
    "  ,mast.skey\n",
    "  ,\"Co-Borr\" ind\n",
    "  from\n",
    "  (\n",
    "    select OID\n",
    "    ,GID\n",
    "    ,ROW_NUMBER() OVER (PARTITION BY OID order by OID desc) AS rownum\n",
    "    from silver.customer_idmap idm where CurrentRecord = \"Yes\"\n",
    "  )tab\n",
    "  left join bronze.rmmast_ssn mast on tab.OID = mast.SSN\n",
    "  where tab.rownum = 1  \n",
    ") idm ON REGEXP_REPLACE(dcif.Co_Mortgagor_SSN, '[^0-9]', '') = idm.oid\n",
    "where idm.oid NOT IN ('999999999','88888888888','99999999','9999999999','55555555','555555555','123456789')\n",
    "and currentRecord = 'Yes'\n",
    "and idm.oid is not null\n",
    "and dcif.As_of_Date = (select max(As_of_Date) from bronze.dmi_dcif)\n",
    "                and dcif.CurrentRecord = \"Yes\"\n",
    "                and dcif.Investor_ID = \"40H\"\n",
    "                and (dcif.Category_Code = \"003\" or dcif.Category_Code = \"002\")\n",
    ") a\n",
    "where a.rownum = 1\n",
    "\n",
    " ''') \n",
    "source_dmi.createOrReplaceTempView(\"vw_src_Type_dmi\")\n",
    "\n",
    "dmi_exists_in_Hzn = spark.sql('''\n",
    "select * \n",
    "from \n",
    "(\n",
    "    select hzn.gid\n",
    "    ,hzn.company_id\n",
    "    ,hzn.cust_skey\n",
    "    ,ROW_NUMBER() OVER (PARTITION BY hzn.GID order by hzn.GID desc) AS rownum\n",
    "    from default.customer_xref hzn\n",
    "    inner join vw_src_Type_dmi acct \n",
    "    on hzn.gid = acct.gid\n",
    "    where hzn.cust_skey is not null\n",
    ")\n",
    "--where rownum = 1\n",
    "''');\n",
    "dmi_exists_in_Hzn.createOrReplaceTempView(\"vw_dmi_exists_in_Hzn\")\n",
    "\n",
    "dmi_not_exist_in_Hzn = spark.sql('''\n",
    "select \"\" Company_Id\n",
    ",cust_skey\n",
    ",gid\n",
    ",Tax_ID\n",
    ",SF_Cust_Key\n",
    ",source\n",
    "from vw_src_Type_dmi\n",
    "where gid not in (select distinct gid from vw_dmi_exists_in_Hzn) \n",
    "''')\n",
    "dmi_not_exist_in_Hzn.createOrReplaceTempView(\"vw_dmi_not_exist_in_Hzn\")\n"
   ]
  },
  {
   "cell_type": "code",
   "execution_count": 0,
   "metadata": {
    "application/vnd.databricks.v1+cell": {
     "cellMetadata": {
      "byteLimit": 2048000,
      "rowLimit": 10000
     },
     "inputWidgets": {},
     "nuid": "aacf1c8a-220c-4211-b914-b7273ee83b98",
     "showTitle": true,
     "tableResultSettingsMap": {},
     "title": "DMI Merge"
    }
   },
   "outputs": [],
   "source": [
    "df = spark.sql('''\n",
    "              MERGE INTO  default.customer_xref AS Target\n",
    "              USING (SELECT * FROM vw_dmi_not_exist_in_Hzn) AS Source\n",
    "              ON Source.SF_Cust_key = Target.SF_Cust_Key\n",
    "              \n",
    "              WHEN NOT MATCHED \n",
    "              THEN INSERT\n",
    "              (cust_skey, gid, sf_cust_key, source ,tax_id) VALUES\n",
    "              (Source.cust_skey, Source.GID, Source.sf_cust_key, Source.Source ,source.Tax_ID)\n",
    "             ''')"
   ]
  },
  {
   "cell_type": "code",
   "execution_count": 0,
   "metadata": {
    "application/vnd.databricks.v1+cell": {
     "cellMetadata": {
      "byteLimit": 2048000,
      "implicitDf": true,
      "rowLimit": 10000
     },
     "inputWidgets": {},
     "nuid": "29c99fa9-36d1-4c9d-88cb-c72384ada963",
     "showTitle": true,
     "tableResultSettingsMap": {},
     "title": "Debug - dup check"
    }
   },
   "outputs": [],
   "source": [
    "%sql\n",
    "select SF_Cust_Key\n",
    ",count(1) \n",
    "from default.customer_xref\n",
    "group by 1\n",
    "having count(*) > 1 "
   ]
  },
  {
   "cell_type": "code",
   "execution_count": 0,
   "metadata": {
    "application/vnd.databricks.v1+cell": {
     "cellMetadata": {
      "byteLimit": 2048000,
      "implicitDf": true,
      "rowLimit": 10000
     },
     "inputWidgets": {},
     "nuid": "17a4fc4c-ebf1-44f8-946c-cd46a708bde5",
     "showTitle": true,
     "tableResultSettingsMap": {},
     "title": "Debug - Merge"
    }
   },
   "outputs": [],
   "source": [
    "%sql \n",
    "select source, count(*) from default.customer_xref group by 1 order by 1\n"
   ]
  },
  {
   "cell_type": "markdown",
   "metadata": {
    "application/vnd.databricks.v1+cell": {
     "cellMetadata": {},
     "inputWidgets": {},
     "nuid": "bf7ab156-e292-46cb-ab3b-c2c5fa700d1d",
     "showTitle": false,
     "tableResultSettingsMap": {},
     "title": ""
    }
   },
   "source": [
    "###Build Customer Master Table"
   ]
  },
  {
   "cell_type": "code",
   "execution_count": 0,
   "metadata": {
    "application/vnd.databricks.v1+cell": {
     "cellMetadata": {
      "byteLimit": 2048000,
      "rowLimit": 10000
     },
     "inputWidgets": {},
     "nuid": "0a4cb656-77e8-445b-ba60-9453e7d81cf0",
     "showTitle": true,
     "tableResultSettingsMap": {},
     "title": "ods_rmphon view"
    }
   },
   "outputs": [],
   "source": [
    "rmphon = spark.sql('''\n",
    "    SELECT  mast.cust_skey, HOM.HOME, CEL.CELL, BUS.BUS, FAX.FAX\n",
    "        FROM (select * from bronze.ods_rmmast where currentrecord = 'Yes')mast\n",
    "        LEFT OUTER JOIN (\n",
    "            SELECT TAB.cust_skey, TAB.PHON HOME\n",
    "            FROM (\n",
    "            SELECT rhkey, cust_skey, concat(rharea, rhphon) PHON, 'HOM' ind,\n",
    "                    ROW_NUMBER() OVER (PARTITION BY rhkey ORDER BY RHMNDT DESC) rownum\n",
    "            FROM bronze.ods_rmphon\n",
    "            WHERE rhptyp = 'HOM'\n",
    "            and currentrecord = 'Yes'\n",
    "            ) TAB\n",
    "            WHERE TAB.rownum = 1\n",
    "        ) HOM ON mast.cust_skey = HOM.cust_skey\n",
    "        LEFT OUTER JOIN (\n",
    "            SELECT TAB.rhkey, TAB.cust_skey, TAB.PHON CELL\n",
    "            FROM (\n",
    "            SELECT rhkey, cust_skey, concat(rharea, rhphon) PHON, 'CEL' ind,\n",
    "                    ROW_NUMBER() OVER (PARTITION BY rhkey ORDER BY RHMNDT DESC) rownum\n",
    "            FROM bronze.ods_rmphon\n",
    "            WHERE rhptyp = 'CEL'\n",
    "            and currentrecord = 'Yes'\n",
    "            ) TAB\n",
    "            WHERE TAB.rownum = 1\n",
    "        ) CEL ON mast.cust_skey = CEL.cust_skey\n",
    "        LEFT OUTER JOIN (\n",
    "            SELECT TAB.rhkey, TAB.cust_skey, TAB.PHON BUS\n",
    "            FROM (\n",
    "            SELECT rhkey, cust_skey, concat(rharea, rhphon) PHON, 'BUS' ind,\n",
    "                    ROW_NUMBER() OVER (PARTITION BY rhkey ORDER BY RHMNDT DESC) rownum\n",
    "            FROM bronze.ods_rmphon\n",
    "            WHERE rhptyp = 'BUS'\n",
    "            and currentrecord = 'Yes'\n",
    "            ) TAB\n",
    "            WHERE TAB.rownum = 1\n",
    "        ) BUS ON mast.cust_skey = BUS.cust_skey\n",
    "        LEFT OUTER JOIN (\n",
    "            SELECT TAB.rhkey, TAB.cust_skey, TAB.PHON FAX\n",
    "            FROM (\n",
    "            SELECT rhkey, cust_skey, concat(rharea, rhphon) PHON, 'FAX' ind, RHMNDT,\n",
    "                    ROW_NUMBER() OVER (PARTITION BY rhkey ORDER BY RHMNDT DESC) rownum\n",
    "            FROM bronze.ods_rmphon\n",
    "            WHERE rhptyp = 'FAX'\n",
    "            and currentrecord = 'Yes'\n",
    "            ) TAB\n",
    "            WHERE TAB.rownum = 1\n",
    "        ) FAX ON mast.cust_skey = FAX.cust_skey\n",
    "        WHERE mast.cust_skey > '' \n",
    "        and currentrecord = 'Yes'\n",
    " ''') \n",
    "rmphon.createOrReplaceTempView(\"vw_rmphon\")"
   ]
  },
  {
   "cell_type": "code",
   "execution_count": 0,
   "metadata": {
    "application/vnd.databricks.v1+cell": {
     "cellMetadata": {
      "byteLimit": 2048000,
      "rowLimit": 10000
     },
     "inputWidgets": {},
     "nuid": "1dad9a04-df73-4fde-9a0f-769658630e32",
     "showTitle": true,
     "tableResultSettingsMap": {},
     "title": "ods_rmndem view"
    }
   },
   "outputs": [],
   "source": [
    "rmndem = spark.sql('''select ndem.CUST_SKEY\n",
    "    ,CASE \n",
    "        WHEN ndem.rnotyp = 'COR' THEN 'CORPORATION'\n",
    "        WHEN ndem.rnotyp = 'DBA' THEN 'DOING BUSINESS AS'\n",
    "        WHEN ndem.rnotyp = 'DFI' THEN 'Domestic financial institution'\n",
    "        WHEN ndem.rnotyp = 'EST' THEN 'Estate Account'\n",
    "        WHEN ndem.rnotyp = 'LP' THEN 'LIMITED PARTNERSHIP (LP)'\n",
    "        WHEN ndem.rnotyp = 'ESC' THEN 'Lawyer Account (IOLA ) -Attorney Escrow'\n",
    "        WHEN ndem.rnotyp = 'LLC' THEN 'Limited Liability Company (LLC)'\n",
    "        WHEN ndem.rnotyp = 'LLP' THEN 'Limited Liability Partnership (LLP)'\n",
    "        WHEN ndem.rnotyp = 'NP' THEN 'NON-PROFIT ORGANIZATION'\n",
    "        WHEN ndem.rnotyp = 'Not Assigned' THEN 'Not Assigned'\n",
    "        WHEN ndem.rnotyp = 'OTE' THEN 'Other Tax Exempt'\n",
    "        WHEN ndem.rnotyp = 'PRT' THEN 'PARTNERSHIP'\n",
    "        WHEN ndem.rnotyp = 'PC' THEN 'Professional Corporation (PC)'\n",
    "        WHEN ndem.rnotyp = 'PUB' THEN 'Publicly traded US company'\n",
    "        WHEN ndem.rnotyp = 'SP' THEN 'SOLE PROPRIETORSHIP'\n",
    "        WHEN ndem.rnotyp = 'TAG' THEN 'Trust Agreements'\n",
    "        WHEN ndem.rnotyp = 'TRS' THEN 'Trusts'\n",
    "        WHEN ndem.rnotyp = 'ASC' THEN 'Unincorporated Assn'\n",
    "        WHEN ndem.rnotyp = 'UN' THEN 'Union'   \n",
    "    END AS Ownership\n",
    "    ,ndem.RNSSIC\n",
    "    ,ndem.`RN#EMP`\n",
    "    from bronze.ods_rmndem ndem\n",
    "    where ndem.currentrecord = 'Yes'\n",
    "    ''') \n",
    "rmndem.createOrReplaceTempView(\"vw_rmndem\")"
   ]
  },
  {
   "cell_type": "code",
   "execution_count": 0,
   "metadata": {
    "application/vnd.databricks.v1+cell": {
     "cellMetadata": {
      "byteLimit": 2048000,
      "implicitDf": true,
      "rowLimit": 10000
     },
     "inputWidgets": {},
     "nuid": "054cb709-d794-44fc-a9dc-ae8fc20f7348",
     "showTitle": true,
     "tableResultSettingsMap": {},
     "title": "ods_rmnote view"
    }
   },
   "outputs": [],
   "source": [
    "# Do not call view\n",
    "rmnote = spark.sql('''select cust_skey\n",
    "        ,rondsc\n",
    "        ,TRUE\n",
    "        ,ROMNDT \n",
    "        from bronze.ods_rmnote \n",
    "        where RONDSC like '%do not call%'\n",
    "        or RONDSC like '%dont call%'\n",
    "        or RONDSC like '%do not contact%'\n",
    "        or RONDSC like '%dont contact%'\n",
    "        and currentrecord = 'Yes'\n",
    "    ''') \n",
    "rmnote.createOrReplaceTempView(\"vw_rmnote\")"
   ]
  },
  {
   "cell_type": "code",
   "execution_count": 0,
   "metadata": {
    "application/vnd.databricks.v1+cell": {
     "cellMetadata": {
      "byteLimit": 2048000,
      "implicitDf": true,
      "rowLimit": 10000
     },
     "inputWidgets": {},
     "nuid": "9e2c5c53-8831-4da2-8ee2-b77c1d68a4e5",
     "showTitle": true,
     "tableResultSettingsMap": {},
     "title": "ods_rminet view"
    }
   },
   "outputs": [],
   "source": [
    "# For Customer's Website and Email\n",
    "rminet = spark.sql('''SELECT TAB.riiseq\n",
    ",tab.riityp\n",
    ",case when tab.riityp = \"WEB\" then TAB.Website else \"\" end Website\n",
    ",case when tab.riityp = \"EML\" then TAB.Email else \"\" end Email\n",
    ",tab.rownum\n",
    ",TAB.cust_skey\n",
    "FROM\n",
    "(\n",
    "    SELECT riiseq\n",
    "    ,riiadr AS Website\n",
    "    ,riityp\n",
    "    ,CASE \n",
    "        WHEN TRIM(riiadr) NOT REGEXP r\"^[a-zA-Z0-9!#$%&'*+/=?^_`{|}~-]+(?:\\.[a-zA-Z0-9!#$%&'*+/=?^_`{|}~-]+)*@(?:[a-zA-Z0-9](?:[a-zA-Z0-9-]*[a-zA-Z0-9])?\\.)+[a-zA-Z0-9](?:[a-zA-Z0-9-]*[a-zA-Z0-9])?$\"\n",
    "        THEN NULL \n",
    "        ELSE TRIM(riiadr) \n",
    "        END AS Email\n",
    "    ,cust_key as cust_skey\n",
    "    ,rimndt\n",
    "    ,ROW_NUMBER() OVER (PARTITION BY rikey,RIITYP ORDER BY rimndt DESC) AS rownum\n",
    "    FROM bronze.ods_rminet\n",
    "    WHERE riityp in ('WEB','EML')\n",
    "    and currentrecord = 'Yes'\n",
    ") TAB  where TAB.rownum = 1\n",
    "    ''') \n",
    "rminet.createOrReplaceTempView(\"vw_rminet\")"
   ]
  },
  {
   "cell_type": "code",
   "execution_count": 0,
   "metadata": {
    "application/vnd.databricks.v1+cell": {
     "cellMetadata": {
      "byteLimit": 2048000,
      "implicitDf": true,
      "rowLimit": 10000
     },
     "inputWidgets": {},
     "nuid": "1959c5d2-d537-4bd4-a30b-4b5765eabcc0",
     "showTitle": true,
     "tableResultSettingsMap": {},
     "title": "ods_rmaddr view"
    }
   },
   "outputs": [],
   "source": [
    "rmaddr = spark.sql('''\n",
    "        SELECT mast.cust_skey\n",
    "        ,tab.primStreet\n",
    "        ,tab.primCity\n",
    "        ,tab.primState\n",
    "        ,tab.primZip\n",
    "        ,tab.PrimCountry\n",
    "        ,tab.primseq\n",
    "        ,addr.secStreet\n",
    "        ,addr.secCity\n",
    "        ,addr.secState\n",
    "        ,addr.secZip\n",
    "        ,addr.secCountry\n",
    "        ,addr.secseq\n",
    "        FROM (select * from bronze.ods_RMMAST where currentrecord = 'Yes' )mast\n",
    "        LEFT OUTER JOIN (\n",
    "            SELECT cust_skey, REGEXP_REPLACE(TRIM(CONCAT(COALESCE(`RAST#1`, ' '), ' ', COALESCE(RASTN1, ''), ' ', COALESCE(`RAST#2`, ''), ' ', COALESCE(RASTN2, ''), ' ', COALESCE(`RAST#3`, ''), ' ', COALESCE(RASTN3, ''))), ' +', ' ') as primStreet\n",
    "            ,RACITY as primCity\n",
    "            ,RASTA as primState\n",
    "            ,RAZIP AS primZip\n",
    "            ,CASE When RAUSPC = 'Y' then 'USA' Else RAFRNC end PrimCountry\n",
    "            ,RAASEQ primseq\n",
    "            FROM bronze.ods_rmaddr\n",
    "            WHERE raaseq = 0\n",
    "            and currentrecord = 'Yes'\n",
    "        ) tab ON tab.cust_skey = mast.cust_skey\n",
    "        LEFT OUTER JOIN (\n",
    "            SELECT cust_skey, REGEXP_REPLACE(TRIM(CONCAT(COALESCE(`RAST#1`, ''), ' ', COALESCE(RASTN1, ''), ' ', COALESCE(`RAST#2`, ''), ' ', COALESCE(RASTN2, ''), ' ', COALESCE(`RAST#3`, ''), ' ', COALESCE(RASTN3, ''))), ' +', ' ') as secStreet\n",
    "            ,RACITY as secCity\n",
    "            ,RASTA as secState\n",
    "            ,RAZIP AS secZip\n",
    "            ,CASE When RAUSPC = 'Y' then 'USA' Else RAFRNC end secCountry\n",
    "            ,RAASEQ secseq\n",
    "            FROM bronze.ods_rmaddr\n",
    "            WHERE raaseq = 1\n",
    "            and currentrecord = 'Yes'\n",
    "        ) addr ON addr.cust_skey = mast.cust_skey\n",
    "    ''') \n",
    "rmaddr.createOrReplaceTempView(\"vw_rmaddr\")\n"
   ]
  },
  {
   "cell_type": "code",
   "execution_count": 0,
   "metadata": {
    "application/vnd.databricks.v1+cell": {
     "cellMetadata": {
      "byteLimit": 2048000,
      "implicitDf": true,
      "rowLimit": 10000
     },
     "inputWidgets": {},
     "nuid": "c27028bf-3024-4465-9489-442f35f4daa5",
     "showTitle": false,
     "tableResultSettingsMap": {},
     "title": ""
    }
   },
   "outputs": [],
   "source": [
    "src_GP = spark.sql('''\n",
    "select TAB.TAXID\n",
    ",TAB.Acct_number\n",
    ",TAB.LONG_NAME\n",
    ",TAB.DATE_OPENED\n",
    ",TAB.DATE_CLOSED \n",
    ",TAB.ad_line1\n",
    ",TAB.ad_line2\n",
    ",TAB.ad_line3\n",
    ",TAB.city\n",
    ",TAB.state\n",
    ",TAB.DerivedZip\n",
    ",TAB.rownum\n",
    "from \n",
    "(\n",
    "  SELECT \n",
    "  REGEXP_REPLACE(acct.TAXID, '[^0-9]', '') AS TAXID\n",
    "  ,acct.Acct_number\n",
    "  ,acct.LONG_NAME\n",
    "  ,acct.DATE_OPENED\n",
    "  ,acct.DATE_CLOSED\n",
    "  ,acct.CurrentRecord\n",
    "  ,affil.ad_line1\n",
    "  ,affil.ad_line2\n",
    "  ,affil.ad_line3\n",
    "  ,affil.city\n",
    "  ,affil.state\n",
    "  ,affil.DerivedZip\n",
    "  ,row_number() OVER (PARTITION BY TAXID ORDER BY DATE_OPENED ASC) AS rownum\n",
    "  FROM bronze.account acct\n",
    "  LEFT JOIN\n",
    "  (\n",
    "    select split(acacct_number, '\\\\.')[0] as acct_number\n",
    "    ,account_name\n",
    "    ,afaffil_TYPE_1\n",
    "    ,aftype_name\n",
    "    ,name\n",
    "    ,ad_line1\n",
    "    ,ad_line2\n",
    "    ,ad_line3\n",
    "    ,city\n",
    "    ,state\n",
    "    ,date_closed\n",
    "    ,CASE \n",
    "    WHEN ad_line3 IS NOT NULL AND ad_line3 RLIKE '.*\\\\s\\\\d+$' THEN regexp_extract(ad_line3, '\\\\s(\\\\d+)$', 1)\n",
    "    WHEN ad_line2 IS NOT NULL AND ad_line2 RLIKE '.*\\\\s\\\\d+$' THEN regexp_extract(ad_line2, '\\\\s(\\\\d+)$', 1)\n",
    "    ELSE NULL \n",
    "    END AS DerivedZip\n",
    "    from bronze.affil \n",
    "    where ad_line1 is not null\n",
    "    and date_closed is null\n",
    "    and afaffil_TYPE_1 in ('117')\n",
    "    and CurrentRecord = 'Yes'\n",
    "    ) affil on affil.acct_number = acct.Acct_number\n",
    "  WHERE acct.currentrecord = 'Yes' \n",
    "  AND acct.TAXID IS NOT NULL \n",
    "  AND acct.TAXID NOT IN ('99-9999999') \n",
    "  AND acct.acct_number BETWEEN '1000003' AND '7000001'\n",
    ") TAB where TAB.rownum = 1\n",
    "    ''') \n",
    "src_GP.createOrReplaceTempView(\"vw_src_GP\")    \n",
    "\n"
   ]
  },
  {
   "cell_type": "code",
   "execution_count": 0,
   "metadata": {
    "application/vnd.databricks.v1+cell": {
     "cellMetadata": {
      "byteLimit": 2048000,
      "implicitDf": true,
      "rowLimit": 10000
     },
     "inputWidgets": {},
     "nuid": "cbba3f3d-2e5b-4906-8586-86d0a0bb6bba",
     "showTitle": false,
     "tableResultSettingsMap": {},
     "title": ""
    }
   },
   "outputs": [],
   "source": [
    "src_OS = spark.sql('''\n",
    "SELECT tab.SSN_Tax_ID\n",
    ",tab.IRS_Code\n",
    ",tab.Date_of_Birth\n",
    ",tab.First_Name\n",
    ",tab.Middle_Name\n",
    ",tab.Last_Name\n",
    ",tab.Address_Line_1\n",
    ",tab.Address_Line_2\n",
    ",tab.Address_Line_3\n",
    ",tab.City\n",
    ",tab.State\n",
    ",tab.Zip\n",
    ",tab.Home_Phone\n",
    ",tab.Work_Phone\n",
    ",tab.Email\n",
    ",tab.Broker_SSN_Tax_ID\n",
    ",tab.Broker_Name\n",
    ",tab.Branch_Name\n",
    ",tab.Client_Name\n",
    ",tab.IRS_Code \n",
    ",tab.Open_Date\n",
    ",tab.ho_Contact_ID\n",
    ",tab.ho_Birth_Date\n",
    ",tab.ho_First_Name\n",
    ",tab.ho_Last_Name\n",
    "FROM\n",
    "(\n",
    "    SELECT REGEXP_REPLACE(os.SSN_Tax_ID, '[^0-9]', '') SSN_Tax_ID\n",
    "    ,os.IRS_Code\n",
    "    ,os.Date_of_Birth\n",
    "    ,os.First_Name\n",
    "    ,os.Middle_Name\n",
    "    ,os.Last_Name\n",
    "    ,os.Address_Line_1\n",
    "    ,os.Address_Line_2\n",
    "    ,os.Address_Line_3\n",
    "    ,os.City\n",
    "    ,os.State\n",
    "    ,os.Zip\n",
    "    ,os.Home_Phone\n",
    "    ,os.Work_Phone\n",
    "    ,CASE WHEN TRIM(os.Email) NOT REGEXP r\"^[a-zA-Z0-9!#$%&'*+/=?^_`{|}~-]+(?:\\.[a-zA-Z0-9!#$%&'*+/=?^_`{|}~-]+)*@(?:[a-zA-Z0-9](?:[a-zA-Z0-9-]*[a-zA-Z0-9])?\\.)+[a-zA-Z0-9](?:[a-zA-Z0-9-]*[a-zA-Z0-9])?$\" THEN NULL ELSE TRIM(os.Email) END AS Email\n",
    "    ,os.Broker_SSN_Tax_ID\n",
    "    ,os.Broker_Name\n",
    "    ,os.Branch_Name\n",
    "    ,os.Client_Name\n",
    "    ,os.IRS_Code \n",
    "    ,os.Open_Date\n",
    "    ,tab.ho_Contact_ID\n",
    "    ,tab.ho_Birth_Date\n",
    "    ,tab.ho_First_Name\n",
    "    ,tab.ho_Last_Name\n",
    "    ,ROW_NUMBER() OVER (PARTITION BY os.SSN_Tax_ID ORDER BY os.Open_Date ASC) rownum\n",
    "    FROM bronze.account_osaic os \n",
    "    left join \n",
    "    (\n",
    "        SELECT ho.SSN_Tax_ID\n",
    "        ,ho.Contact_ID ho_Contact_ID\n",
    "        ,ho.Birth_Date ho_Birth_Date\n",
    "        ,ho.First_Name ho_First_Name\n",
    "        ,ho.Last_Name ho_Last_Name  \n",
    "        FROM\n",
    "        (\n",
    "            SELECT REGEXP_REPLACE(SSN_Tax_ID, '[^0-9]', '') AS SSN_Tax_ID\n",
    "            ,Contact_ID\n",
    "            ,Birth_Date\n",
    "            ,First_Name\n",
    "            ,Last_Name \n",
    "            ,ROW_NUMBER() OVER (PARTITION BY Contact_ID ORDER BY SSN_Tax_ID DESC) rownum\n",
    "            FROM bronze.household_osaic where currentrecord = 'Yes'\n",
    "        ) ho \n",
    "        WHERE ho.rownum = 1 \n",
    "    )tab on REGEXP_REPLACE(os.SSN_Tax_ID, '[^0-9]', '') = tab.SSN_Tax_ID    \n",
    "    where os.currentrecord = 'Yes' \n",
    "    and os.SSN_Tax_ID is not null\n",
    ") tab WHERE rownum = 1\n",
    "''') \n",
    "src_OS.createOrReplaceTempView(\"vw_src_OS\")"
   ]
  },
  {
   "cell_type": "code",
   "execution_count": 0,
   "metadata": {
    "application/vnd.databricks.v1+cell": {
     "cellMetadata": {
      "byteLimit": 2048000,
      "implicitDf": true,
      "rowLimit": 10000
     },
     "inputWidgets": {},
     "nuid": "fa54827c-f52f-4fbd-a814-8ef4dbb391e5",
     "showTitle": false,
     "tableResultSettingsMap": {},
     "title": ""
    }
   },
   "outputs": [],
   "source": [
    "src_DMI = spark.sql('''\n",
    "select a.* from (\n",
    "  select tab.Tax_ID\n",
    "  ,tab.loan_number\n",
    "  ,tab.Email\n",
    "  ,tab.Tax_First_Name\n",
    "  ,tab.Tax_Name\n",
    "  ,tab.New_Billing_Name\n",
    "  ,tab.Name\n",
    "  ,tab.firstName\n",
    "  ,tab.LastName\n",
    "  ,tab.Investor_Loan_Number\n",
    "  ,tab.Branch_Office_Code\n",
    "  ,tab.Telephone_Number\n",
    "  ,tab.Second_Telephone_Number\n",
    "  ,tab.Billing_Address_Line_1\n",
    "  ,tab.Billing_Address_Line_2\n",
    "  ,tab.Billing_Address_Line_3\n",
    "  ,tab.Billing_Address_Line_4\n",
    "  ,tab.Billing_City_Name\n",
    "  ,tab.Billing_State\n",
    "  ,tab.Billing_Zip_Code  \n",
    "  ,ROW_NUMBER() OVER (PARTITION BY tab.Tax_ID order by tab.Tax_ID desc) AS rownum\n",
    "  from\n",
    "  (\n",
    "      select REGEXP_REPLACE(dmi.Mortgagor_SSN, '[^0-9]', '') Tax_ID\n",
    "      ,dmi.loan_number\n",
    "      ,CASE WHEN TRIM(dmi.Borrower_email_address) NOT REGEXP r\"^[a-zA-Z0-9!#$%&'*+/=?^_`{|}~-]+(?:\\.[a-zA-Z0-9!#$%&'*+/=?^_`{|}~-]+)*@(?:[a-zA-Z0-9](?:[a-zA-Z0-9-]*[a-zA-Z0-9])?\\.)+[a-zA-Z0-9](?:[a-zA-Z0-9-]*[a-zA-Z0-9])?$\" THEN NULL ELSE TRIM(dmi.Borrower_email_address) END AS Email\n",
    "      ,dmi.Tax_First_Name\n",
    "      ,dmi.Tax_Name\n",
    "      ,dmi.New_Billing_Name\n",
    "      ,dmi.Mortgagor_Name_Formatted_for_CBR_Reporting Name\n",
    "      ,split(dmi.Mortgagor_Name_Formatted_for_CBR_Reporting, ' ')[1] as FirstName\n",
    "      ,split(dmi.Mortgagor_Name_Formatted_for_CBR_Reporting, ' ')[0] as LastName\n",
    "      ,dmi.Investor_Loan_Number\n",
    "      ,dmi.Branch_Office_Code\n",
    "      ,dmi.Telephone_Number\n",
    "      ,dmi.Second_Telephone_Number\n",
    "      ,dmi.Billing_Address_Line_1\n",
    "      ,dmi.Billing_Address_Line_2\n",
    "      ,dmi.Billing_Address_Line_3\n",
    "      ,dmi.Billing_Address_Line_4\n",
    "      ,dmi.Billing_City_Name\n",
    "      ,dmi.Billing_State\n",
    "      ,dmi.Billing_Zip_Code\n",
    "      from bronze.dmi_dcif dmi\n",
    "      where dmi.CurrentRecord = \"Yes\"\n",
    "      and dmi.Investor_ID = \"40H\"\n",
    "      and (dmi.Category_Code = \"003\" or dmi.Category_Code = \"002\")\n",
    "      and REGEXP_REPLACE(dmi.Mortgagor_SSN, '[^0-9]', '') <> '000000000'\n",
    "      union all\n",
    "      select REGEXP_REPLACE(dmi.Co_Mortgagor_SSN, '[^0-9]', '') Tax_ID\n",
    "      ,dmi.loan_number\n",
    "      ,CASE WHEN TRIM(dmi.Co_borrower_email_address) NOT REGEXP r\"^[a-zA-Z0-9!#$%&'*+/=?^_`{|}~-]+(?:\\.[a-zA-Z0-9!#$%&'*+/=?^_`{|}~-]+)*@(?:[a-zA-Z0-9](?:[a-zA-Z0-9-]*[a-zA-Z0-9])?\\.)+[a-zA-Z0-9](?:[a-zA-Z0-9-]*[a-zA-Z0-9])?$\" THEN NULL ELSE TRIM(dmi.Co_borrower_email_address) END AS Email      \n",
    "      ,dmi.Tax_First_Name\n",
    "      ,dmi.Tax_Name\n",
    "      ,dmi.New_Billing_Name\n",
    "      ,dmi.Co_Mortgagor_Name_Formatted_for_CBR_Reporting Name\n",
    "      ,split(dmi.Co_Mortgagor_Name_Formatted_for_CBR_Reporting, ' ')[1] as FirstName\n",
    "      ,split(dmi.Co_Mortgagor_Name_Formatted_for_CBR_Reporting, ' ')[0] as LastName\n",
    "      ,dmi.Investor_Loan_Number\n",
    "      ,dmi.Branch_Office_Code\n",
    "      ,dmi.Telephone_Number\n",
    "      ,dmi.Second_Telephone_Number\n",
    "      ,dmi.Billing_Address_Line_1\n",
    "      ,dmi.Billing_Address_Line_2\n",
    "      ,dmi.Billing_Address_Line_3\n",
    "      ,dmi.Billing_Address_Line_4\n",
    "      ,dmi.Billing_City_Name\n",
    "      ,dmi.Billing_State\n",
    "      ,dmi.Billing_Zip_Code\n",
    "      from bronze.dmi_dcif dmi\n",
    "      where dmi.CurrentRecord = \"Yes\"\n",
    "      and dmi.Investor_ID = \"40H\"\n",
    "      and (dmi.Category_Code = \"003\" or dmi.Category_Code = \"002\")\n",
    "      and REGEXP_REPLACE(dmi.Co_Mortgagor_SSN, '[^0-9]', '') <> '000000000'\n",
    "  ) tab\n",
    ")A\n",
    "where a.rownum = 1\n",
    "''') \n",
    "src_DMI.createOrReplaceTempView(\"vw_src_DMI\")"
   ]
  },
  {
   "cell_type": "code",
   "execution_count": 0,
   "metadata": {
    "application/vnd.databricks.v1+cell": {
     "cellMetadata": {
      "byteLimit": 2048000,
      "implicitDf": true,
      "rowLimit": 10000
     },
     "inputWidgets": {},
     "nuid": "536679d6-d2ad-4698-b954-b664c9d04211",
     "showTitle": true,
     "tableResultSettingsMap": {},
     "title": "For Source 01 and 04"
    }
   },
   "outputs": [],
   "source": [
    "src_01_04 = spark.sql('''\n",
    "select beb.company_name as Name\n",
    ",\"\" as FirstName\n",
    ",\"\" as LastName\n",
    ",\"\" as MiddleName\n",
    ",\"Business\" as CustomerType\n",
    ",xref.Cust_Skey as AccountNumber\n",
    ",mst.OFF_SKEY Officer_Key\n",
    ",usr.`MUZXEMP#` as ABEmployeeID\n",
    ",beb.Company_Address_Line_1 Primary_Address_Street\n",
    ",beb.Company_City Primary_Address_City\n",
    ",beb.Company_State Primary_Address_State\n",
    ",beb.Company_Zip Primary_Address_Zip\n",
    ",beb.Company_Country Primary_Address_Country\n",
    ",\"\" as Secondary_Address_Street\n",
    ",\"\" as Secondary_Address_City\n",
    ",\"\" as Secondary_Address_State\n",
    ",\"\" as Secondary_Address_Zip\n",
    ",\"\" as Secondary_Address_Country\n",
    ",null as PersonBirthdate\n",
    ",\"\" as PersonBranch\n",
    ",\"\" as PersonDoNotCall\n",
    ",\"\" as PersonEmail\n",
    ",ndem.`RN#EMP` NumberofEmployees\n",
    ",phn.Fax Fax\n",
    ",\"\" as PersonPrimary_Address_Street\n",
    ",\"\" as PersonPrimary_Address_City\n",
    ",\"\" as PersonPrimary_Address_State\n",
    ",\"\" as PersonPrimary_Address_Zip\n",
    ",\"\" as PersonPrimary_Address_Country\n",
    ",\"\" as PersonSecondary_Address_Street\n",
    ",\"\" as PersonSecondary_Address_City\n",
    ",\"\" as PersonSecondary_Address_State\n",
    ",\"\" as PersonSecondary_Address_Zip\n",
    ",\"\" as PersonSecondary_Address_Country\n",
    ",\"\" as PersonHomePhone\n",
    ",\"\" as PersonMobilePhone\n",
    ",\"\" as PersonBusinessPhone\n",
    ",ndem.Ownership\n",
    ",beb.Primary_Contact_Phone BusinessPhone\n",
    ",web.Website Website\n",
    ",CASE\n",
    "        WHEN length(cast(mst.rmaddt as string)) < 8 THEN null\n",
    "        WHEN year(cast(to_date(mst.rmaddt, 'yyyyMMdd') as TIMESTAMP)) < 1900 THEN NULL\n",
    "        WHEN cast(to_date(mst.rmaddt, 'yyyyMMdd') as TIMESTAMP) > current_date() THEN NULL\n",
    "        ELSE cast(to_date(mst.rmaddt, 'yyyyMMdd') as TIMESTAMP) END as RelationshipStartDate\n",
    ",CONCAT(\n",
    "        FLOOR(DATEDIFF(day, relationshipstartdate, CURRENT_DATE) / 365), ' years, ',\n",
    "        FLOOR((DATEDIFF(day, relationshipstartdate, CURRENT_DATE) % 365) / 30), ' months, ',\n",
    "        (DATEDIFF(day, relationshipstartdate, CURRENT_DATE) % 365) % 30, ' days'\n",
    "    ) AS LengthOfRelationship\n",
    ",naics.NAICSDescription NAICSDescription\n",
    ",ndem.RNSSIC NAICSCode\n",
    ",'Customer' Type\n",
    ",mst.RMTIN EncryptedTaxIDNumber\n",
    ",right(xref.Tax_ID, 4) as TaxIDNum_Last4\n",
    ",xref.Tax_ID DecryptedTaxIDNumber\n",
    ",mst.RMTINT TinType\n",
    ",\"\" ExternalSystem\n",
    ",\"\" as Salutation\n",
    "--,mst.RMSFX as Suffix\n",
    ",\"\" as Suffix\n",
    ",\"\" as AccountSite\n",
    ",\"\" as AccountSource\n",
    ",\"\" as AnnualRevenue\n",
    ",\"\" as Assistant\n",
    ",\"\" as AsstPhone\n",
    ",\"\" as EmailOptOut\n",
    ",\"\" as FaxOptOut\n",
    ",\"\" as ConsultantRating\n",
    ",\"\" as TrustTier\n",
    ",\"\" as ClientType\n",
    ",\"\" as AtRisk\n",
    ",\"\" as MarketingNeeds\n",
    "--,mst.RMREGN as Region\n",
    ",\"\" as Region\n",
    ",\"\" as FICOScore\n",
    ",\"\" as FICOScoreDate\n",
    ",\"\" as Alerts\n",
    ",\"\" as RelationshipManager\n",
    ",\"\" as UnderwriterWith\n",
    ",\"\" as Comments\n",
    ",\"\" as PropertyManager\n",
    ",\"\" as CREComments\n",
    ",\"\" as CRMComments\n",
    ",\"\" as COIType\n",
    ",\"\" as CurrentIncome\n",
    ",\"\" as Employment\n",
    ",\"\" as EmploymentStatus\n",
    ",\"\" as CurrentResidenceOwnorRent\n",
    ",\"\" as DMILink\n",
    ",\"\" as FISHorizonLink\n",
    ",\"\" as PriscillaMetWithClient\n",
    ",mst.RMREGO as RegO\n",
    ",\"\" as PortfolioNumber\n",
    ",xref.Company_ID\n",
    ",xref.Cust_Skey \n",
    ",xref.Cust_Skey_2 \n",
    ",xref.Cust_Skey_3 \n",
    ",xref.Cust_Skey_4 \n",
    ",xref.Cust_Skey_5 \n",
    ",xref.Cust_Skey_6 \n",
    ",xref.GID \n",
    ",xref.SF_Cust_Key \n",
    ",\"\" ParentID\n",
    ",xref.Source\n",
    ",ROW_NUMBER() OVER (PARTITION BY SF_Cust_Key ORDER BY SF_Cust_Key DESC) rownum\n",
    "from default.customer_xref xref\n",
    "left join bronze.v_ods_beb_customer beb on xref.Company_ID = beb.Company_ID\n",
    "left join bronze.ods_rmmast mst on xref.Cust_Skey = mst.CUST_SKEY\n",
    "left join (SELECT CONCAT('13-', SPLIT(muzxuid, '213')[1]) as key, * \n",
    "FROM bronze.siabusers) usr on usr.key = mst.OFF_SKEY\n",
    "LEFT JOIN (select * from bronze.ods_rmpdem where currentrecord = 'Yes')pdem ON mst.CUST_SKEY = pdem.CUST_SKEY \n",
    "left join vw_rmndem ndem on ndem.cust_skey = mst.cust_skey\n",
    "left join (\n",
    "      select NumKey as NAICSCode, Description1 AS NAICSDescription \n",
    "      from bronze.ods_sicod_ext where codetype = 'NAICS'\n",
    "      ) naics on cast(naics.NAICSCode as string) = cast(ndem.RNSSIC as string)\n",
    "left join vw_rmphon phn ON phn.cust_skey = mst.CUST_SKEY\n",
    "LEFT JOIN vw_rminet web ON xref.cust_skey = web.cust_skey and web.riityp = \"WEB\"\t\t\t\t\t\t\t\t\n",
    "where source in ('01_HZN_AOTM','04_SB_With_AOTM')\n",
    "    ''') \n",
    "src_01_04.createOrReplaceTempView(\"vw_src_01_04\")"
   ]
  },
  {
   "cell_type": "code",
   "execution_count": 0,
   "metadata": {
    "application/vnd.databricks.v1+cell": {
     "cellMetadata": {
      "byteLimit": 2048000,
      "implicitDf": true,
      "rowLimit": 10000
     },
     "inputWidgets": {},
     "nuid": "33315715-ba14-4b4b-bd60-7b756c0dd8c1",
     "showTitle": true,
     "tableResultSettingsMap": {},
     "title": "dup check"
    }
   },
   "outputs": [],
   "source": [
    "%sql\n",
    "select SF_Cust_Key, count(*) from vw_src_01_04\n",
    "group by 1\n",
    "having count(*) > 1\n",
    "order by SF_Cust_Key"
   ]
  },
  {
   "cell_type": "code",
   "execution_count": 0,
   "metadata": {
    "application/vnd.databricks.v1+cell": {
     "cellMetadata": {
      "byteLimit": 2048000,
      "rowLimit": 10000
     },
     "inputWidgets": {},
     "nuid": "d22fd393-d252-4f3a-8717-088abe84892e",
     "showTitle": true,
     "tableResultSettingsMap": {},
     "title": "For source 02, 04, 05 and 06"
    }
   },
   "outputs": [],
   "source": [
    "src_02_04_05_06 = spark.sql('''\n",
    "select case when xref.source = '02_XAA_COMPOSITE' then xref.Name\n",
    "      When mst.RMCTYP = 'N' THEN mst.RMNPN1 END as Name\n",
    ",CASE When mst.RMCTYP = 'P' THEN mst.RMFRST END as FirstName\n",
    ",CASE When mst.RMCTYP = 'P' THEN mst.RMLAST END as LastName\n",
    ",CASE When mst.RMCTYP = 'P' THEN mst.RMMIDL END  as MiddleName\n",
    ",CASE When mst.RMCTYP = 'P' THEN 'Individual'\n",
    "      when mst.RMCTYP = 'N' THEN 'Business' \n",
    "      else '' END as CustomerType\n",
    ",xref.Cust_Skey as AccountNumber\n",
    ",mst.OFF_SKEY Officer_Key\n",
    ",usr.`MUZXEMP#` as ABEmployeeID\n",
    ",CASE WHEN mst.rmctyp = 'N'Then addr.primStreet END AS Primary_Address_Street\n",
    ",CASE WHEN mst.rmctyp = 'N'Then addr.primCity END Primary_Address_City\n",
    ",CASE WHEN mst.rmctyp = 'N'Then addr.primState END Primary_Address_State\n",
    ",CASE WHEN mst.rmctyp = 'N'Then addr.primZIP END Primary_Address_Zip\n",
    ",CASE WHEN mst.rmctyp = 'N'Then addr.PrimCountry End Primary_Address_Country\n",
    ",CASE WHEN mst.rmctyp = 'N'Then addr.secStreet END AS Secondary_Address_Street\n",
    ",CASE WHEN mst.rmctyp = 'N'Then addr.secCity END Secondary_Address_City\n",
    ",CASE WHEN mst.rmctyp = 'N'Then addr.secState END Secondary_Address_State\n",
    ",CASE WHEN mst.rmctyp = 'N'Then addr.secZIP END Secondary_Address_Zip\n",
    ",CASE WHEN mst.rmctyp = 'N'Then addr.secCountry END Secondary_Address_Country\n",
    ",CASE \n",
    "    WHEN length(cast(pdem.RPDOB as string)) < 8 THEN null\n",
    "    WHEN year(cast(to_date(pdem.RPDOB, 'yyyyMMdd') as TIMESTAMP)) < 1900 THEN NULL \n",
    "    WHEN cast(to_date(pdem.RPDOB, 'yyyyMMdd') as TIMESTAMP) > current_date() THEN NULL\n",
    "    ELSE cast(to_date(pdem.RPDOB, 'yyyyMMdd') as TIMESTAMP) \n",
    "END AS PersonBirthdate\n",
    ",CASE when mst.RMCTYP = 'P' then org.Org_Key END AS PersonBranch\n",
    ",CASE when rmnote.TRUE = 'TRUE' then 'TRUE' else 'FALSE' END as PersonDoNotCall\n",
    ",CASE when mst.RMCTYP = 'P' then eml.Email END as PersonEmail\n",
    ",ndem.`RN#EMP` NumberofEmployees\n",
    ",phn.Fax Fax\n",
    ",CASE WHEN mst.rmctyp = 'P' Then addr.primStreet END AS PersonPrimary_Address_Street\n",
    ",CASE WHEN mst.rmctyp = 'P' Then addr.primCity END PersonPrimary_Address_City\n",
    ",CASE WHEN mst.rmctyp = 'P' Then addr.primState END PersonPrimary_Address_State\n",
    ",CASE WHEN mst.rmctyp = 'P' Then addr.primZIP END PersonPrimary_Address_Zip\n",
    ",CASE WHEN mst.rmctyp = 'P' Then addr.PrimCountry End PersonPrimary_Address_Country\n",
    ",CASE WHEN mst.rmctyp = 'P' Then addr.secStreet END AS PersonSecondary_Address_Street\n",
    ",CASE WHEN mst.rmctyp = 'P' Then addr.secCity END PersonSecondary_Address_City\n",
    ",CASE WHEN mst.rmctyp = 'P' Then addr.secState END PersonSecondary_Address_State\n",
    ",CASE WHEN mst.rmctyp = 'P' Then addr.secZIP END PersonSecondary_Address_Zip\n",
    ",CASE WHEN mst.rmctyp = 'P' Then addr.secCountry End PersonSecondary_Address_Country\n",
    ",CASE when mst.RMCTYP = 'P' then phn.HOME END as PersonHomePhone\n",
    ",CASE when mst.RMCTYP = 'P' then phn.CELL END as PersonMobilePhone\n",
    ",CASE when mst.RMCTYP = 'P' then phn.BUS  END as PersonBusinessPhone\n",
    ",ndem.Ownership\n",
    ",CASE when mst.rmctyp = 'N' then phn.BUS End as BusinessPhone\n",
    ",web.Website Website\n",
    ",CASE\n",
    "        WHEN length(cast(mst.rmaddt as string)) < 8 THEN null\n",
    "        WHEN year(cast(to_date(mst.rmaddt, 'yyyyMMdd') as TIMESTAMP)) < 1900 THEN NULL\n",
    "        WHEN cast(to_date(mst.rmaddt, 'yyyyMMdd') as TIMESTAMP) > current_date() THEN NULL\n",
    "        ELSE cast(to_date(mst.rmaddt, 'yyyyMMdd') as TIMESTAMP) END as RelationshipStartDate\n",
    ",CONCAT(\n",
    "        FLOOR(DATEDIFF(day, relationshipstartdate, CURRENT_DATE) / 365), ' years, ',\n",
    "        FLOOR((DATEDIFF(day, relationshipstartdate, CURRENT_DATE) % 365) / 30), ' months, ',\n",
    "        (DATEDIFF(day, relationshipstartdate, CURRENT_DATE) % 365) % 30, ' days'\n",
    "    ) AS LengthOfRelationship\n",
    ",naics.NAICSDescription NAICSDescription\n",
    ",ndem.RNSSIC NAICSCode\n",
    ",'Customer' Type\n",
    ",mst.RMTIN EncryptedTaxIDNumber\n",
    ",right(xref.Tax_ID, 4) as TaxIDNum_Last4\n",
    ",xref.Tax_ID DecryptedTaxIDNumber\n",
    ",mst.RMTINT TinType\n",
    ",\"\" ExternalSystem\n",
    ",\"\" as Salutation\n",
    ",\"\" as Suffix\n",
    "--,mst.RMSFX as Suffix\n",
    ",\"\" as AccountSite\n",
    ",\"\" as AccountSource\n",
    ",\"\" as AnnualRevenue\n",
    ",\"\" as Assistant\n",
    ",\"\" as AsstPhone\n",
    ",\"\" as EmailOptOut\n",
    ",\"\" as FaxOptOut\n",
    ",\"\" as ConsultantRating\n",
    ",\"\" as TrustTier\n",
    ",\"\" as ClientType\n",
    ",\"\" as AtRisk\n",
    ",\"\" as MarketingNeeds\n",
    ",\"\" as Region\n",
    "--,mst.RMREGN as Region\n",
    ",\"\" as FICOScore\n",
    ",\"\" as FICOScoreDate\n",
    ",\"\" as Alerts\n",
    ",\"\" as RelationshipManager\n",
    ",\"\" as UnderwriterWith\n",
    ",\"\" as Comments\n",
    ",\"\" as PropertyManager\n",
    ",\"\" as CREComments\n",
    ",\"\" as CRMComments\n",
    ",\"\" as COIType\n",
    ",\"\" as CurrentIncome\n",
    ",\"\" as Employment\n",
    ",\"\" as EmploymentStatus\n",
    ",\"\" as CurrentResidenceOwnorRent\n",
    ",\"\" as DMILink\n",
    ",\"\" as FISHorizonLink\n",
    ",\"\" as PriscillaMetWithClient\n",
    ",mst.RMREGO as RegO\n",
    ",\"\" as PortfolioNumber\n",
    ",xref.Company_ID\n",
    ",xref.Cust_Skey \n",
    ",xref.Cust_Skey_2 \n",
    ",xref.Cust_Skey_3 \n",
    ",xref.Cust_Skey_4 \n",
    ",xref.Cust_Skey_5 \n",
    ",xref.Cust_Skey_6 \n",
    ",xref.GID \n",
    ",xref.SF_Cust_Key \n",
    ",\"\" ParentID\n",
    ",xref.Source\n",
    ",ROW_NUMBER() OVER (PARTITION BY SF_Cust_Key ORDER BY SF_Cust_Key DESC) rownum\n",
    "from default.customer_xref xref\n",
    "left join bronze.ods_rmmast mst on xref.Cust_Skey = mst.CUST_SKEY and mst.CurrentRecord = \"Yes\"\n",
    "left join (SELECT CONCAT('13-', SPLIT(muzxuid, '213')[1]) as key, * \n",
    "FROM bronze.siabusers) usr on usr.key = mst.OFF_SKEY\n",
    "LEFT JOIN (select * from bronze.ods_rmpdem where currentrecord = 'Yes')pdem ON mst.CUST_SKEY = pdem.CUST_SKEY \n",
    "left join (select * from bronze.fi_core_org where org_key != '13-' and currentrecord = 'Yes' )org on mst.RMOBRN = org.Branch_ID\n",
    "left join vw_rmaddr addr on addr.cust_skey = mst.CUST_SKEY\n",
    "left join vw_rmnote rmnote on rmnote.cust_skey = mst.CUST_SKEY\n",
    "left join vw_rminet eml on mst.cust_skey = eml.cust_skey and eml.riityp = \"EML\"\n",
    "left join vw_rmndem ndem on ndem.cust_skey = mst.cust_skey\n",
    "left join (\n",
    "      select NumKey as NAICSCode, Description1 AS NAICSDescription \n",
    "      from bronze.ods_sicod_ext where codetype = 'NAICS'\n",
    "      ) naics on cast(naics.NAICSCode as string) = cast(ndem.RNSSIC as string)\n",
    "left join vw_rmphon phn ON phn.cust_skey = mst.CUST_SKEY\n",
    "LEFT JOIN vw_rminet web ON xref.cust_skey = web.cust_skey and web.riityp = \"WEB\"\n",
    "where source in ('02_HZN_AOTM_XAA', '02_XAA_COMPOSITE', '04_SB_No_AOTM', '05_Customer_Dup_By_GID', '06_Horizon_Personal')\n",
    "\n",
    "    ''') \n",
    "src_02_04_05_06.createOrReplaceTempView(\"vw_src_02_04_05_06\")\n"
   ]
  },
  {
   "cell_type": "code",
   "execution_count": 0,
   "metadata": {
    "application/vnd.databricks.v1+cell": {
     "cellMetadata": {
      "byteLimit": 2048000,
      "implicitDf": true,
      "rowLimit": 10000
     },
     "inputWidgets": {},
     "nuid": "6a976fd5-1413-4494-8b1a-f2ce408c55ec",
     "showTitle": true,
     "tableResultSettingsMap": {},
     "title": "dup check"
    }
   },
   "outputs": [],
   "source": [
    "%sql    \n",
    "select SF_Cust_Key, count(*) from vw_src_02_04_05_06\n",
    "group by 1\n",
    "having count(*) > 1\n",
    "order by SF_Cust_Key"
   ]
  },
  {
   "cell_type": "code",
   "execution_count": 0,
   "metadata": {
    "application/vnd.databricks.v1+cell": {
     "cellMetadata": {
      "byteLimit": 2048000,
      "rowLimit": 10000
     },
     "inputWidgets": {},
     "nuid": "a07442c6-ce6e-46db-a9a8-17f7ae41df90",
     "showTitle": true,
     "tableResultSettingsMap": {},
     "title": "For Source 03"
    }
   },
   "outputs": [],
   "source": [
    "src_03 = spark.sql('''\n",
    "select gpa.LONG_NAME as Name\n",
    ",\"\" as FirstName\n",
    ",\"\" as LastName\n",
    ",\"\" as MiddleName\n",
    ",'Business' as CustomerType\n",
    ",concat('GP-',xref.tax_id) as AccountNumber\n",
    ",\"\" as Officer_Key\n",
    ",\"\" as ABEmployeeID\n",
    ",concat(gpa.ad_line1,' ',gpa.ad_line2)  as Primary_Address_Street\n",
    ",gpa.city as Primary_Address_City\n",
    ",gpa.state as Primary_Address_State\n",
    ",gpa.DerivedZip as Primary_Address_Zip\n",
    ",\"\" as Primary_Address_Country\n",
    ",\"\" as Secondary_Address_Street\n",
    ",\"\" as Secondary_Address_City\n",
    ",\"\" as Secondary_Address_State\n",
    ",\"\" as Secondary_Address_Zip\n",
    ",\"\" as Secondary_Address_Country\n",
    ",null AS PersonBirthdate\n",
    ",\"\" as PersonBranch\n",
    ",\"\" as PersonDoNotCall\n",
    ",\"\" as PersonEmail\n",
    ",0 as NumberofEmployees\n",
    ",\"\" as Fax\n",
    ",\"\" as PersonPrimary_Address_Street\n",
    ",\"\" as PersonPrimary_Address_City\n",
    ",\"\" as PersonPrimary_Address_State\n",
    ",\"\" as PersonPrimary_Address_Zip\n",
    ",\"\" as PersonPrimary_Address_Country\n",
    ",\"\" as PersonSecondary_Address_Street\n",
    ",\"\" as PersonSecondary_Address_City\n",
    ",\"\" as PersonSecondary_Address_State\n",
    ",\"\" as PersonSecondary_Address_Zip\n",
    ",\"\" as PersonSecondary_Address_Country\n",
    ",\"\" as PersonHomePhone\n",
    ",\"\" as PersonMobilePhone\n",
    ",\"\" as PersonBusinessPhone\n",
    ",\"\" as Ownership\n",
    ",\"\" as BusinessPhone\n",
    ",\"\" as Website\n",
    ",gpa.DATE_OPENED RelationshipStartDate\n",
    ",CONCAT(\n",
    "        FLOOR(DATEDIFF(day, relationshipstartdate, CURRENT_DATE) / 365), ' years, ',\n",
    "        FLOOR((DATEDIFF(day, relationshipstartdate, CURRENT_DATE) % 365) / 30), ' months, ',\n",
    "        (DATEDIFF(day, relationshipstartdate, CURRENT_DATE) % 365) % 30, ' days'\n",
    "    ) AS LengthOfRelationship\n",
    ",\"\" as NAICSDescription\n",
    ",\"\" as NAICSCode\n",
    ",'Customer' Type\n",
    ",concat(\"22222\",right(xref.Tax_ID, 4)) as EncryptedTaxIDNumber\n",
    ",right(xref.Tax_ID, 4) as TaxIDNum_Last4\n",
    ",xref.Tax_ID DecryptedTaxIDNumber\n",
    ",\"\" as TinType\n",
    ",\"\" ExternalSystem\n",
    ",\"\" as Salutation\n",
    ",\"\" as Suffix\n",
    ",\"\" as AccountSite\n",
    ",\"\" as AccountSource\n",
    ",\"\" as AnnualRevenue\n",
    ",\"\" as Assistant\n",
    ",\"\" as AsstPhone\n",
    ",\"\" as EmailOptOut\n",
    ",\"\" as FaxOptOut\n",
    ",\"\" as ConsultantRating\n",
    ",\"\" as TrustTier\n",
    ",\"\" as ClientType\n",
    ",\"\" as AtRisk\n",
    ",\"\" as MarketingNeeds\n",
    ",\"\" as Region\n",
    ",\"\" as FICOScore\n",
    ",\"\" as FICOScoreDate\n",
    ",\"\" as Alerts\n",
    ",\"\" as RelationshipManager\n",
    ",\"\" as UnderwriterWith\n",
    ",\"\" as Comments\n",
    ",\"\" as PropertyManager\n",
    ",\"\" as CREComments\n",
    ",\"\" as CRMComments\n",
    ",\"\" as COIType\n",
    ",\"\" as CurrentIncome\n",
    ",\"\" as Employment\n",
    ",\"\" as EmploymentStatus\n",
    ",\"\" as CurrentResidenceOwnorRent\n",
    ",\"\" as DMILink\n",
    ",\"\" as FISHorizonLink\n",
    ",\"\" as PriscillaMetWithClient\n",
    ",\"\" as RegO\n",
    ",\"\" as PortfolioNumber\n",
    ",xref.Company_ID\n",
    ",xref.Cust_Skey \n",
    ",xref.Cust_Skey_2 \n",
    ",xref.Cust_Skey_3 \n",
    ",xref.Cust_Skey_4 \n",
    ",xref.Cust_Skey_5 \n",
    ",xref.Cust_Skey_6 \n",
    ",xref.GID \n",
    ",xref.SF_Cust_Key \n",
    ",\"\" ParentID\n",
    ",xref.Source\n",
    ",0 rownum\n",
    "from default.customer_xref xref\n",
    "left join vw_src_GP gpa on xref.Tax_ID = gpa.taxid\n",
    "where source in ('03_Global_Plus')\n",
    "''') \n",
    "src_03.createOrReplaceTempView(\"vw_src_03\")\n"
   ]
  },
  {
   "cell_type": "code",
   "execution_count": 0,
   "metadata": {
    "application/vnd.databricks.v1+cell": {
     "cellMetadata": {
      "byteLimit": 2048000,
      "implicitDf": true,
      "rowLimit": 10000
     },
     "inputWidgets": {},
     "nuid": "c433cfcb-5ab4-4df7-9c6c-14084e1d897e",
     "showTitle": true,
     "tableResultSettingsMap": {},
     "title": "dup check"
    }
   },
   "outputs": [],
   "source": [
    "%sql\n",
    "select SF_Cust_Key, count(*) from vw_src_03\n",
    "group by 1\n",
    "having count(*) > 1\n",
    "order by SF_Cust_Key"
   ]
  },
  {
   "cell_type": "code",
   "execution_count": 0,
   "metadata": {
    "application/vnd.databricks.v1+cell": {
     "cellMetadata": {
      "byteLimit": 2048000,
      "rowLimit": 10000
     },
     "inputWidgets": {},
     "nuid": "9fd5e977-49c7-4ff8-8847-3f3746bab1d0",
     "showTitle": true,
     "tableResultSettingsMap": {},
     "title": "For Source 07"
    }
   },
   "outputs": [],
   "source": [
    "src_07 = spark.sql('''\n",
    "select Case WHEN OS.IRS_Code = 'T' OR OS.ho_Contact_ID = '1608426' THEN OS.First_Name end as Name\n",
    ",Case \n",
    "    when OS.ho_Contact_ID = '1608426' then null\n",
    "    when OS.IRS_Code = 'S' and OS.First_Name is not null then OS.First_Name \n",
    "    when OS.IRS_Code = 'S' and OS.First_Name is null then OS.ho_First_Name\n",
    "  end AS FirstName\n",
    ",Case \n",
    "    when OS.ho_Contact_ID = '1608426' then null\n",
    "    when OS.IRS_Code = 'S' and OS.Last_Name is not null then OS.Last_Name \n",
    "    when OS.IRS_Code = 'S' and OS.Last_Name is null then OS.ho_Last_Name\n",
    "  end as LastName\n",
    ",Case when OS.ho_Contact_ID = '1608426' then null when OS.IRS_Code = 'S' then OS.Middle_Name end as MiddleName\n",
    ",Case when OS.ho_Contact_ID = '1608426' then 'Business' \n",
    "    when OS.IRS_Code = 'S' then 'Individual' \n",
    "    else 'Business' \n",
    "  end as CustomerType\n",
    ",concat(\"13-OS-\",OS.ho_Contact_ID) as AccountNumber\n",
    ",\"\" as Officer_Key\n",
    ",\"\" as ABEmployeeID\n",
    ",Case when OS.IRS_Code = 'T' OR os.ho_Contact_ID = '1608426' then REGEXP_REPLACE(TRIM(CONCAT(COALESCE(OS.Address_Line_1, ''), ' ', COALESCE(OS.Address_Line_2, ''), ' ', COALESCE(OS.Address_Line_3, ''), ' ')), ' +', ' ') end as Primary_Address_Street\n",
    ",case when OS.IRS_Code = 'T' OR os.ho_Contact_ID = '1608426' then OS.City end as Primary_Address_City\n",
    ",Case when OS.IRS_Code = 'T' OR os.ho_Contact_ID = '1608426' then OS.State end as Primary_Address_State\n",
    ",Case when OS.IRS_Code = 'T' OR os.ho_Contact_ID = '1608426' then OS.Zip end as Primary_Address_Zip\n",
    ",\"USA\" as Primary_Address_Country\n",
    ",\"\" as Secondary_Address_Street\n",
    ",\"\" as Secondary_Address_City\n",
    ",\"\" as Secondary_Address_State\n",
    ",\"\" as Secondary_Address_Zip\n",
    ",\"\" as Secondary_Address_Country\n",
    ",CASE \n",
    "    WHEN OS.ho_Birth_Date is NULL THEN NULL \n",
    "    WHEN OS.IRS_Code = 'S' and OS.ho_Contact_ID <> '1608426' AND OS.ho_Birth_Date IS NOT NULL THEN try_CAST(to_date(OS.ho_Birth_Date, 'yyyy-MM-dd') AS DATE) \n",
    "  END AS PersonBirthdate\n",
    ",CASE \n",
    "   when OS.IRS_Code = 'S' and OS.ho_Contact_ID <> '1608426' then bxref.branch_code \n",
    "  END as PersonBranch\n",
    ",\"\" as PersonDoNotCall\n",
    ",Case when OS.IRS_Code = 'S' then OS.Email end as PersonEmail\n",
    ",0 as NumberofEmployees\n",
    ",\"\" as Fax\n",
    ",\"\" as PersonPrimary_Address_Street\n",
    ",\"\" as PersonPrimary_Address_City\n",
    ",\"\" as PersonPrimary_Address_State\n",
    ",\"\" as PersonPrimary_Address_Zip\n",
    ",\"\" as PersonPrimary_Address_Country\n",
    ",\"\" as PersonSecondary_Address_Street\n",
    ",\"\" as PersonSecondary_Address_City\n",
    ",\"\" as PersonSecondary_Address_State\n",
    ",\"\" as PersonSecondary_Address_Zip\n",
    ",\"\" as PersonSecondary_Address_Country\n",
    ",Case when OS.IRS_Code = 'S' and OS.ho_Contact_ID <> '1608426' then OS.Home_Phone end as PersonHomePhone\n",
    ",\"\" as PersonMobilePhone\n",
    ",Case when OS.IRS_Code = 'S' and OS.ho_Contact_ID <> '1608426' then OS.Work_Phone end as PersonBusinessPhone\n",
    ",\"\" as Ownership\n",
    ",Case when OS.IRS_Code = 'T' OR OS.ho_Contact_ID <> '1608426' then OS.Work_Phone end as BusinessPhone\n",
    ",\"\" as Website\n",
    ",CASE \n",
    "    WHEN OS.Open_Date is null THEN NULL \n",
    "    ELSE try_CAST(to_date(OS.Open_Date, 'yyyy-MM-dd') AS TIMESTAMP) \n",
    "  END AS RelationshipStartDate\n",
    ",CONCAT(\n",
    "        FLOOR(DATEDIFF(day, relationshipstartdate, CURRENT_DATE) / 365), ' years, ',\n",
    "        FLOOR((DATEDIFF(day, relationshipstartdate, CURRENT_DATE) % 365) / 30), ' months, ',\n",
    "        (DATEDIFF(day, relationshipstartdate, CURRENT_DATE) % 365) % 30, ' days'\n",
    "    ) AS LengthOfRelationship\n",
    ",\"\" as NAICSDescription\n",
    ",\"\" as NAICSCode\n",
    ",'Customer' Type\n",
    ",concat(\"22222\",right(xref.Tax_ID, 4)) as EncryptedTaxIDNumber\n",
    ",right(xref.Tax_ID, 4) as TaxIDNum_Last4\n",
    ",xref.Tax_ID DecryptedTaxIDNumber\n",
    ",\"\" as TinType\n",
    ",\"\" ExternalSystem\n",
    ",\"\" as Salutation\n",
    ",\"\" as Suffix\n",
    ",\"\" as AccountSite\n",
    ",\"\" as AccountSource\n",
    ",\"\" as AnnualRevenue\n",
    ",\"\" as Assistant\n",
    ",\"\" as AsstPhone\n",
    ",\"\" as EmailOptOut\n",
    ",\"\" as FaxOptOut\n",
    ",\"\" as ConsultantRating\n",
    ",\"\" as TrustTier\n",
    ",\"\" as ClientType\n",
    ",\"\" as AtRisk\n",
    ",\"\" as MarketingNeeds\n",
    ",\"\" as Region\n",
    ",\"\" as FICOScore\n",
    ",\"\" as FICOScoreDate\n",
    ",\"\" as Alerts\n",
    ",\"\" as RelationshipManager\n",
    ",\"\" as UnderwriterWith\n",
    ",\"\" as Comments\n",
    ",\"\" as PropertyManager\n",
    ",\"\" as CREComments\n",
    ",\"\" as CRMComments\n",
    ",\"\" as COIType\n",
    ",\"\" as CurrentIncome\n",
    ",\"\" as Employment\n",
    ",\"\" as EmploymentStatus\n",
    ",\"\" as CurrentResidenceOwnorRent\n",
    ",\"\" as DMILink\n",
    ",\"\" as FISHorizonLink\n",
    ",\"\" as PriscillaMetWithClient\n",
    ",\"\" as RegO\n",
    ",\"\" as PortfolioNumber\n",
    ",xref.Company_ID\n",
    ",xref.Cust_Skey \n",
    ",xref.Cust_Skey_2 \n",
    ",xref.Cust_Skey_3 \n",
    ",xref.Cust_Skey_4 \n",
    ",xref.Cust_Skey_5 \n",
    ",xref.Cust_Skey_6 \n",
    ",xref.GID \n",
    ",xref.SF_Cust_Key\n",
    ",\"\" ParentID \n",
    ",xref.Source\n",
    ",0 rownum\n",
    "from default.customer_xref xref\n",
    "left join vw_src_OS OS on xref.tax_id = OS.SSN_Tax_ID\n",
    "left join (select * from silver.branch_xref where currentrecord = 'Yes') bxref on OS.branch_name = bxref.OsaicBranchMapName\n",
    "where source in ('07_Osaic_No_Horizon')\n",
    "''') \n",
    "src_07.createOrReplaceTempView(\"vw_src_07\")"
   ]
  },
  {
   "cell_type": "code",
   "execution_count": 0,
   "metadata": {
    "application/vnd.databricks.v1+cell": {
     "cellMetadata": {
      "byteLimit": 2048000,
      "implicitDf": true,
      "rowLimit": 10000
     },
     "inputWidgets": {},
     "nuid": "1cdc49e8-e16f-49c3-96be-f3d93022ef91",
     "showTitle": true,
     "tableResultSettingsMap": {},
     "title": "dup check"
    }
   },
   "outputs": [],
   "source": [
    "%sql\n",
    "select SF_Cust_Key, count(*) from vw_src_07\n",
    "group by 1\n",
    "having count(*) > 1\n",
    "order by SF_Cust_Key"
   ]
  },
  {
   "cell_type": "code",
   "execution_count": 0,
   "metadata": {
    "application/vnd.databricks.v1+cell": {
     "cellMetadata": {
      "byteLimit": 2048000,
      "rowLimit": 10000
     },
     "inputWidgets": {},
     "nuid": "eb041831-5ca2-4f8c-af32-dafdef4ad039",
     "showTitle": true,
     "tableResultSettingsMap": {},
     "title": "For Source 08"
    }
   },
   "outputs": [],
   "source": [
    "src_08 = spark.sql('''\n",
    "select \"\" as Name\n",
    ",dmi.firstname AS FirstName\n",
    ",dmi.LastName as LastName\n",
    ",\"\" as MiddleName\n",
    ",'Individual'as CustomerType\n",
    ",dmi.Investor_Loan_Number as AccountNumber\n",
    ",\"\" as Officer_Key\n",
    ",\"\" as ABEmployeeID\n",
    ",\"\" as Primary_Address_Street\n",
    ",\"\" as Primary_Address_City\n",
    ",\"\" as Primary_Address_State\n",
    ",\"\" as Primary_Address_Zip\n",
    ",\"\" as Primary_Address_Country\n",
    ",\"\" as Secondary_Address_Street\n",
    ",\"\" as Secondary_Address_City\n",
    ",\"\" as Secondary_Address_State\n",
    ",\"\" as Secondary_Address_Zip\n",
    ",\"\" as Secondary_Address_Country\n",
    ",null PersonBirthdate\n",
    ",CASE \n",
    "    WHEN dmi.Branch_Office_Code IS NOT NULL \n",
    "    THEN CAST('13-' || try_CAST(dmi.Branch_Office_Code AS STRING) AS STRING) \n",
    "    ELSE NULL \n",
    "  END PersonBranch\n",
    ",\"\" as PersonDoNotCall\n",
    ",dmi.email as PersonEmail\n",
    ",0 as NumberofEmployees\n",
    ",\"\" as Fax\n",
    ",dmi.Billing_Address_Line_4 as PersonPrimary_Address_Street\n",
    ",dmi.Billing_City_Name as PersonPrimary_Address_City\n",
    ",dmi.Billing_State  as PersonPrimary_Address_State\n",
    ",cast(dmi.Billing_Zip_Code as string) as PersonPrimary_Address_Zip\n",
    ",\"USA\" as PersonPrimary_Address_Country\n",
    ",\"\" as PersonSecondary_Address_Street\n",
    ",\"\" as PersonSecondary_Address_City\n",
    ",\"\" as PersonSecondary_Address_State\n",
    ",\"\" as PersonSecondary_Address_Zip\n",
    ",\"\" as PersonSecondary_Address_Country\n",
    ",dmi.Telephone_Number as PersonHomePhone\n",
    ",dmi.Second_Telephone_Number as PersonMobilePhone\n",
    ",\"\" as PersonBusinessPhone\n",
    ",\"\" as Ownership\n",
    ",\"\" as BusinessPhone\n",
    ",\"\" as Website\n",
    ",null AS RelationshipStartDate\n",
    ",CONCAT(\n",
    "        FLOOR(DATEDIFF(day, relationshipstartdate, CURRENT_DATE) / 365), ' years, ',\n",
    "        FLOOR((DATEDIFF(day, relationshipstartdate, CURRENT_DATE) % 365) / 30), ' months, ',\n",
    "        (DATEDIFF(day, relationshipstartdate, CURRENT_DATE) % 365) % 30, ' days'\n",
    "    ) AS LengthOfRelationship\n",
    ",\"\" as NAICSDescription\n",
    ",\"\" as NAICSCode\n",
    ",'Customer' Type\n",
    ",concat(\"22222\",right(xref.Tax_ID, 4)) as EncryptedTaxIDNumber\n",
    ",right(xref.Tax_ID, 4) as TaxIDNum_Last4\n",
    ",xref.Tax_ID DecryptedTaxIDNumber\n",
    ",\"\" as TinType\n",
    ",\"\" ExternalSystem\n",
    ",\"\" as Salutation\n",
    ",\"\" as Suffix\n",
    ",\"\" as AccountSite\n",
    ",\"\" as AccountSource\n",
    ",\"\" as AnnualRevenue\n",
    ",\"\" as Assistant\n",
    ",\"\" as AsstPhone\n",
    ",\"\" as EmailOptOut\n",
    ",\"\" as FaxOptOut\n",
    ",\"\" as ConsultantRating\n",
    ",\"\" as TrustTier\n",
    ",\"\" as ClientType\n",
    ",\"\" as AtRisk\n",
    ",\"\" as MarketingNeeds\n",
    ",\"\" as Region\n",
    ",\"\" as FICOScore\n",
    ",\"\" as FICOScoreDate\n",
    ",\"\" as Alerts\n",
    ",\"\" as RelationshipManager\n",
    ",\"\" as UnderwriterWith\n",
    ",\"\" as Comments\n",
    ",\"\" as PropertyManager\n",
    ",\"\" as CREComments\n",
    ",\"\" as CRMComments\n",
    ",\"\" as COIType\n",
    ",\"\" as CurrentIncome\n",
    ",\"\" as Employment\n",
    ",\"\" as EmploymentStatus\n",
    ",\"\" as CurrentResidenceOwnorRent\n",
    ",\"\" as DMILink\n",
    ",\"\" as FISHorizonLink\n",
    ",\"\" as PriscillaMetWithClient\n",
    ",\"\" as RegO\n",
    ",\"\" as PortfolioNumber\n",
    ",xref.Company_ID\n",
    ",xref.Cust_Skey \n",
    ",xref.Cust_Skey_2 \n",
    ",xref.Cust_Skey_3 \n",
    ",xref.Cust_Skey_4 \n",
    ",xref.Cust_Skey_5 \n",
    ",xref.Cust_Skey_6 \n",
    ",xref.GID \n",
    ",xref.SF_Cust_Key \n",
    ",\"\" ParentID\n",
    ",xref.Source\n",
    ",0 rownum\n",
    "from default.customer_xref xref\n",
    "left join vw_src_DMI dmi on xref.tax_id = DMI.Tax_ID\n",
    "where source in ('08_DMI_No_Horizon')\n",
    "''') \n",
    "src_08.createOrReplaceTempView(\"vw_src_08\")"
   ]
  },
  {
   "cell_type": "code",
   "execution_count": 0,
   "metadata": {
    "application/vnd.databricks.v1+cell": {
     "cellMetadata": {
      "byteLimit": 2048000,
      "implicitDf": true,
      "rowLimit": 10000
     },
     "inputWidgets": {},
     "nuid": "9c8d00f9-b94a-4484-89b4-cbf79e411d35",
     "showTitle": true,
     "tableResultSettingsMap": {},
     "title": "dup check"
    }
   },
   "outputs": [],
   "source": [
    "%sql\n",
    "select SF_Cust_Key, count(*) from vw_src_08\n",
    "group by 1\n",
    "having count(*) > 1\n",
    "order by SF_Cust_Key"
   ]
  },
  {
   "cell_type": "code",
   "execution_count": 0,
   "metadata": {
    "application/vnd.databricks.v1+cell": {
     "cellMetadata": {
      "byteLimit": 2048000,
      "implicitDf": true,
      "rowLimit": 10000
     },
     "inputWidgets": {},
     "nuid": "50665ff7-c490-4019-b21d-fcdfccf9e45a",
     "showTitle": true,
     "tableResultSettingsMap": {},
     "title": "Regression Unit Tests"
    }
   },
   "outputs": [],
   "source": [
    "##########Testing Validation for AOTM Source\n",
    "beb_company_id_with_no_taxid = spark.sql('''\n",
    "select tab.TaxID\n",
    ",tab.Company_ID\n",
    "from\n",
    "(\n",
    "    select REGEXP_REPLACE(Tax_ID, '[^0-9]', '') TaxID\n",
    "    ,Company_ID\n",
    "    ,ROW_NUMBER() OVER (PARTITION BY Tax_ID order by Company_Open_Date desc) as rownum\n",
    "    from bronze.v_ods_beb_customer\n",
    "    where Tax_ID = ''\n",
    ") tab\n",
    "where tab.rownum = 1\n",
    "''')\n",
    "beb_company_id_with_no_taxid.display()\n",
    "\n",
    "beb_company_id_no_GID = spark.sql('''\n",
    "select tab.TaxID\n",
    ",tab.Company_ID\n",
    "from\n",
    "(\n",
    "    select REGEXP_REPLACE(Tax_ID, '[^0-9]', '') TaxID\n",
    "    ,Company_ID\n",
    "    ,ROW_NUMBER() OVER (PARTITION BY Tax_ID order by Company_Open_Date desc) as rownum\n",
    "    from bronze.v_ods_beb_customer\n",
    ") tab\n",
    "inner join \n",
    "(\n",
    "select tab.OID\n",
    ",tab.GID\n",
    "from \n",
    "(\n",
    "    select OID\n",
    "    ,GID\n",
    "    ,ROW_NUMBER() OVER (PARTITION BY OID order by TID desc) AS rownum\n",
    "    from silver.customer_idmap idm where CurrentRecord = \"Yes\"\n",
    ")tab\n",
    "where tab.rownum = 1  \n",
    ") idm ON tab.TaxID = idm.OID\n",
    "where tab.rownum = 1\n",
    "and idm.GID is null\n",
    "''')\n",
    "beb_company_id_no_GID.display()\n"
   ]
  },
  {
   "cell_type": "markdown",
   "metadata": {
    "application/vnd.databricks.v1+cell": {
     "cellMetadata": {},
     "inputWidgets": {},
     "nuid": "7479faa5-17fa-44bc-aaf7-4b8d32392375",
     "showTitle": false,
     "tableResultSettingsMap": {},
     "title": ""
    }
   },
   "source": [
    "####Performing Merge Operations into the target table"
   ]
  },
  {
   "cell_type": "markdown",
   "metadata": {
    "application/vnd.databricks.v1+cell": {
     "cellMetadata": {},
     "inputWidgets": {},
     "nuid": "373fb1c0-f73c-4877-a2f8-6301fa7cf163",
     "showTitle": false,
     "tableResultSettingsMap": {},
     "title": ""
    }
   },
   "source": [
    "#LEFT JOIN"
   ]
  },
  {
   "cell_type": "code",
   "execution_count": 0,
   "metadata": {
    "application/vnd.databricks.v1+cell": {
     "cellMetadata": {
      "byteLimit": 2048000,
      "rowLimit": 10000
     },
     "inputWidgets": {},
     "nuid": "0b4c4f82-6c7f-4199-8e14-cb51405a5c4a",
     "showTitle": true,
     "tableResultSettingsMap": {},
     "title": "Prep Data from customer_xref for SCD"
    }
   },
   "outputs": [],
   "source": [
    "try:\n",
    "    logger.info(\"Joining base tables for silver customer_xref table\")\n",
    "    Transformation_sqlquery = \"\"\"select tab.Name \n",
    "        ,tab.FirstName \n",
    "        ,tab.LastName \n",
    "        ,tab.MiddleName \n",
    "        ,tab.CustomerType \n",
    "        ,tab.AccountNumber \n",
    "        ,tab.Officer_Key \n",
    "        ,tab.ABEmployeeID \n",
    "        ,tab.Primary_Address_Street \n",
    "        ,tab.Primary_Address_City \n",
    "        ,tab.Primary_Address_State \n",
    "        ,tab.Primary_Address_Zip \n",
    "        ,tab.Primary_Address_Country \n",
    "        ,tab.Secondary_Address_Street \n",
    "        ,tab.Secondary_Address_City \n",
    "        ,tab.Secondary_Address_State \n",
    "        ,tab.Secondary_Address_Zip \n",
    "        ,tab.Secondary_Address_Country \n",
    "        ,tab.PersonBirthdate \n",
    "        ,tab.PersonBranch \n",
    "        ,tab.PersonDoNotCall \n",
    "        ,tab.PersonEmail \n",
    "        ,tab.NumberofEmployees \n",
    "        ,tab.Fax \n",
    "        ,tab.PersonPrimary_Address_Street \n",
    "        ,tab.PersonPrimary_Address_City \n",
    "        ,tab.PersonPrimary_Address_State \n",
    "        ,tab.PersonPrimary_Address_Zip \n",
    "        ,tab.PersonPrimary_Address_Country \n",
    "        ,tab.PersonSecondary_Address_Street \n",
    "        ,tab.PersonSecondary_Address_City \n",
    "        ,tab.PersonSecondary_Address_State \n",
    "        ,tab.PersonSecondary_Address_Zip \n",
    "        ,tab.PersonSecondary_Address_Country \n",
    "        ,tab.PersonHomePhone \n",
    "        ,tab.PersonMobilePhone \n",
    "        ,tab.PersonBusinessPhone \n",
    "        ,tab.Ownership \n",
    "        ,tab.BusinessPhone \n",
    "        ,tab.Website \n",
    "        ,tab.RelationshipStartDate \n",
    "        ,tab.LengthOfRelationship \n",
    "        ,tab.NAICSDescription \n",
    "        ,tab.NAICSCode \n",
    "        ,tab.Type \n",
    "        ,tab.EncryptedTaxIDNumber \n",
    "        ,tab.TaxIDNum_Last4 \n",
    "        ,tab.DecryptedTaxIDNumber \n",
    "        ,tab.TinType \n",
    "        ,tab.ExternalSystem \n",
    "        ,tab.Salutation \n",
    "        ,tab.Suffix \n",
    "        ,tab.AccountSite \n",
    "        ,tab.AccountSource \n",
    "        ,tab.AnnualRevenue \n",
    "        ,tab.Assistant \n",
    "        ,tab.AsstPhone \n",
    "        ,tab.EmailOptOut \n",
    "        ,tab.FaxOptOut \n",
    "        ,tab.ConsultantRating \n",
    "        ,tab.TrustTier \n",
    "        ,tab.ClientType \n",
    "        ,tab.AtRisk \n",
    "        ,tab.MarketingNeeds \n",
    "        ,tab.Region \n",
    "        ,tab.FICOScore \n",
    "        ,tab.FICOScoreDate \n",
    "        ,tab.Alerts \n",
    "        ,tab.RelationshipManager \n",
    "        ,tab.UnderwriterWith \n",
    "        ,tab.Comments \n",
    "        ,tab.PropertyManager \n",
    "        ,tab.CREComments \n",
    "        ,tab.CRMComments \n",
    "        ,tab.COIType \n",
    "        ,tab.CurrentIncome \n",
    "        ,tab.Employment \n",
    "        ,tab.EmploymentStatus \n",
    "        ,tab.CurrentResidenceOwnorRent \n",
    "        ,tab.DMILink \n",
    "        ,tab.FISHorizonLink \n",
    "        ,tab.PriscillaMetWithClient \n",
    "        ,tab.RegO \n",
    "        ,tab.PortfolioNumber \n",
    "        ,tab.Company_ID\n",
    "        ,NULL as ParentID\n",
    "        ,tab.Cust_Skey \n",
    "        ,tab.Cust_Skey_2 \n",
    "        ,tab.Cust_Skey_3 \n",
    "        ,tab.Cust_Skey_4 \n",
    "        ,tab.Cust_Skey_5 \n",
    "        ,tab.Cust_Skey_6 \n",
    "        ,tab.GID \n",
    "        ,tab.SF_Cust_Key \n",
    "        ,tab.Source \n",
    "        ,'' as IsEmployee\n",
    "        ,'' as BusinessEmail\n",
    "        ,'' as DateofDeath\n",
    "        from\n",
    "        (\n",
    "            select * from vw_src_01_04\n",
    "            union all\n",
    "            select * from vw_src_02_04_05_06\n",
    "            union all\n",
    "            select * from vw_src_03\n",
    "            union all\n",
    "            select * from vw_src_07   \n",
    "            union all\n",
    "            select * from vw_src_08        \n",
    "        )tab\n",
    "    \"\"\"\n",
    "    df_final_FA=spark.sql(Transformation_sqlquery)\n",
    "    df_final_FA.createOrReplaceTempView(\"vw_final_FA\")\n",
    "except Exception as e:\n",
    "    raise e\n",
    "    # logger.error(\"Issue while joining the base tables\")"
   ]
  },
  {
   "cell_type": "code",
   "execution_count": 0,
   "metadata": {
    "application/vnd.databricks.v1+cell": {
     "cellMetadata": {
      "byteLimit": 2048000,
      "implicitDf": true,
      "rowLimit": 10000
     },
     "inputWidgets": {},
     "nuid": "7656fd65-d2f8-41dc-9e2f-6266302aa40d",
     "showTitle": true,
     "tableResultSettingsMap": {},
     "title": "dup check"
    }
   },
   "outputs": [],
   "source": [
    "%sql\n",
    "select sf_cust_key\n",
    ",count(1) from vw_final_FA\n",
    "group by 1\n",
    "having count(*) > 1\n"
   ]
  },
  {
   "cell_type": "code",
   "execution_count": 0,
   "metadata": {
    "application/vnd.databricks.v1+cell": {
     "cellMetadata": {
      "byteLimit": 2048000,
      "implicitDf": true,
      "rowLimit": 10000
     },
     "inputWidgets": {},
     "nuid": "7420c90c-45fa-484d-a6bb-ea28fb261915",
     "showTitle": false,
     "tableResultSettingsMap": {},
     "title": ""
    }
   },
   "outputs": [],
   "source": [
    "%sql\n",
    "Select count(1) from vw_Final_FA"
   ]
  },
  {
   "cell_type": "code",
   "execution_count": 0,
   "metadata": {
    "application/vnd.databricks.v1+cell": {
     "cellMetadata": {
      "byteLimit": 2048000,
      "rowLimit": 10000
     },
     "inputWidgets": {},
     "nuid": "1cf81e0a-e42c-4ffd-8b9d-ed9be14b825c",
     "showTitle": false,
     "tableResultSettingsMap": {},
     "title": ""
    }
   },
   "outputs": [],
   "source": [
    "DestinationSchema = dbutils.widgets.get(\"DestinationSchema\")\n",
    "DestinationTable = dbutils.widgets.get(\"DestinationTable\")\n",
    "AddOnType=dbutils.widgets.get(\"AddOnType\")\n",
    "\n",
    "print(DestinationSchema, DestinationTable, AddOnType)"
   ]
  },
  {
   "cell_type": "code",
   "execution_count": 0,
   "metadata": {
    "application/vnd.databricks.v1+cell": {
     "cellMetadata": {
      "byteLimit": 2048000,
      "rowLimit": 10000
     },
     "inputWidgets": {},
     "nuid": "9db09155-323a-4a55-b3c4-27c5ad7e95be",
     "showTitle": false,
     "tableResultSettingsMap": {},
     "title": ""
    }
   },
   "outputs": [],
   "source": [
    "base_column = spark.read.table(f\"{DestinationSchema}.{DestinationTable}\").columns #get all the base columns\n",
    "set_addon=df_final_FA.columns #get only the addon columns\n",
    "get_pk=spark.sql(f\"\"\"select * from config.metadata where lower(DWHTableName)='{DestinationTable}'\"\"\").collect()[0]['MergeKey']\n",
    "set_addon.remove(get_pk) #remove pk from the addon\n",
    "excluded_columns = ['Start_Date', 'End_Date', 'DW_Created_By', 'DW_Created_Date', 'DW_Modified_By', 'DW_Modified_Date','MergeHashKey','CurrentRecord'] + set_addon\n",
    "filtered_basetable_columns = [col for col in base_column if col.lower() not in [ex_col.lower() for ex_col in excluded_columns]]"
   ]
  },
  {
   "cell_type": "code",
   "execution_count": 0,
   "metadata": {
    "application/vnd.databricks.v1+cell": {
     "cellMetadata": {
      "byteLimit": 2048000,
      "rowLimit": 10000
     },
     "inputWidgets": {},
     "nuid": "95a603fb-e866-416f-a5f8-98d7b2ac3d18",
     "showTitle": false,
     "tableResultSettingsMap": {},
     "title": ""
    }
   },
   "outputs": [],
   "source": [
    "#get required columns from base table\n",
    "df_base_required = spark.sql(f\"select {','.join(filtered_basetable_columns)} from {DestinationSchema}.{DestinationTable} where CurrentRecord = 'Yes' \")\n",
    "df_base_required.createOrReplaceTempView(\"vw_base\")  #use this as a base table\n",
    "if AddOnType == 'AddOn':\n",
    "    if df_base_required.count()>0:\n",
    "\n",
    "        df_final_base_with_addon = spark.sql(\n",
    "            f\"\"\"\n",
    "            select\n",
    "                vw_base.*,\n",
    "                {','.join([f'vw_final_FA.{col} as {col}' for col in set_addon])}\n",
    "            from \n",
    "                vw_base \n",
    "            left join \n",
    "                vw_final_FA \n",
    "            on \n",
    "                vw_base.{get_pk} = vw_final_FA.{get_pk}\n",
    "        \"\"\")\n",
    "        df_final_base_with_addon.createOrReplaceTempView(\"vw_final_base_with_addon\")\n",
    "        df_final_base_with_addon.count()\n",
    "    else:\n",
    "        print(\"Else\")\n",
    "        df_final_FA.createOrReplaceTempView(\"vw_final_base_with_addon\")\n",
    "        count=df_final_FA.count()\n",
    "        print(count)\n",
    "else:\n",
    "    print(\"Else\")\n",
    "    df_final_FA.createOrReplaceTempView(\"vw_final_base_with_addon\")\n",
    "    count=df_final_FA.count()\n",
    "    print(count)"
   ]
  },
  {
   "cell_type": "code",
   "execution_count": 0,
   "metadata": {
    "application/vnd.databricks.v1+cell": {
     "cellMetadata": {
      "byteLimit": 2048000,
      "rowLimit": 10000
     },
     "inputWidgets": {},
     "nuid": "64eaf25e-b56a-4a69-ac74-e341e60455bb",
     "showTitle": false,
     "tableResultSettingsMap": {},
     "title": ""
    }
   },
   "outputs": [],
   "source": [
    "# Generate the concatenated string\n",
    "base_without_pk=filtered_basetable_columns.copy()\n",
    "base_without_pk.remove(get_pk)\n",
    "Mergehashkey_columns = list(set(set_addon + base_without_pk))\n",
    "concatenated_columns = ','.join(Mergehashkey_columns)"
   ]
  },
  {
   "cell_type": "code",
   "execution_count": 0,
   "metadata": {
    "application/vnd.databricks.v1+cell": {
     "cellMetadata": {
      "byteLimit": 2048000,
      "rowLimit": 10000
     },
     "inputWidgets": {},
     "nuid": "df8f8ad7-0f8f-4b3e-a4c9-2ef95a1625f0",
     "showTitle": false,
     "tableResultSettingsMap": {},
     "title": ""
    }
   },
   "outputs": [],
   "source": [
    "# Use the concatenated string in the SQL query\n",
    "query = f\"\"\"\n",
    "select\n",
    " *,\n",
    " MD5(\n",
    "    CONCAT_WS(',', {concatenated_columns})\n",
    "  ) AS MergeHashKey\n",
    "  from\n",
    "  vw_final_base_with_addon\n",
    "\"\"\"\n",
    "df_source = spark.sql(query)\n",
    "set_addon.append('MergeHashKey')\n",
    "set_addon=set(set_addon)\n",
    "df_source.createOrReplaceTempView(\"vw_source\")"
   ]
  },
  {
   "cell_type": "code",
   "execution_count": 0,
   "metadata": {
    "application/vnd.databricks.v1+cell": {
     "cellMetadata": {
      "byteLimit": 2048000,
      "rowLimit": 10000
     },
     "inputWidgets": {},
     "nuid": "4b4c23aa-2267-4164-adba-85a6b9e5491a",
     "showTitle": false,
     "tableResultSettingsMap": {},
     "title": ""
    }
   },
   "outputs": [],
   "source": [
    "query = f\"\"\"\n",
    "select \n",
    "  {','.join([f'source.{col}' for col in filtered_basetable_columns]) if spark.sql(f\"SELECT COUNT(*) FROM {DestinationSchema}.{DestinationTable}\").collect()[0][0] > 0 else ','.join([f'source.{col}' for col in get_pk.split(',')])},\n",
    "  {','.join([f'source.{col}' for col in set_addon])},\n",
    "  current_user() as DW_Created_By,\n",
    "  current_timestamp() as DW_Created_Date,\n",
    "  current_user() as DW_Modified_By,\n",
    "  current_timestamp() as DW_Modified_Date,\n",
    "  current_timestamp() as Start_Date,\n",
    "  NULL as End_Date,\n",
    "  'Yes' as CurrentRecord,\n",
    "  CASE \n",
    "    WHEN target.{get_pk} IS NULL THEN 'Insert'\n",
    "    WHEN target.{get_pk} = source.{get_pk} AND source.MergeHashKey != target.MergeHashKey THEN 'Update'\n",
    "    ELSE 'No Changes' \n",
    "  END As Action_Code  \n",
    "from (select {','.join(set_addon)}, {get_pk} from vw_source group by all ) as source\n",
    "left join (select * from {DestinationSchema}.{DestinationTable} where end_date is null) as target\n",
    "on target.{get_pk} = source.{get_pk}\n",
    " \n",
    "\"\"\"\n",
    "\n",
    "df_source = spark.sql(query)\n",
    "df_source = df_source.dropDuplicates()\n",
    "df_source.createOrReplaceTempView(\"vw_silver\")\n",
    "final_col = df_source.columns\n",
    "final_col.remove('Action_Code')"
   ]
  },
  {
   "cell_type": "code",
   "execution_count": 0,
   "metadata": {
    "application/vnd.databricks.v1+cell": {
     "cellMetadata": {
      "byteLimit": 2048000,
      "rowLimit": 10000
     },
     "inputWidgets": {},
     "nuid": "a6767a63-7ba0-4704-912a-4dd52584dbec",
     "showTitle": false,
     "tableResultSettingsMap": {},
     "title": ""
    }
   },
   "outputs": [],
   "source": [
    "spark.sql(f\"insert into {DestinationSchema}.{DestinationTable}({','.join(final_col)}) select {','.join(final_col)} from vw_silver where Action_Code in ('Insert','Update')\")\n",
    "\n",
    "spark.sql(f\"\"\"\n",
    "        MERGE INTO {DestinationSchema}.{DestinationTable} AS Target\n",
    "        USING (SELECT {','.join(final_col)} FROM VW_silver WHERE Action_Code='Update') AS Source\n",
    "        ON Target.{get_pk} = Source.{get_pk} AND Target.MergeHashKey != Source.MergeHashKey\n",
    "        WHEN MATCHED THEN UPDATE SET\n",
    "        Target.End_Date = CURRENT_TIMESTAMP(),\n",
    "        Target.DW_Modified_Date = Source.DW_Modified_Date,\n",
    "        Target.DW_Modified_By = Source.DW_Modified_By,\n",
    "        Target.CurrentRecord = 'No'\n",
    "    \"\"\")"
   ]
  },
  {
   "cell_type": "code",
   "execution_count": 0,
   "metadata": {
    "application/vnd.databricks.v1+cell": {
     "cellMetadata": {
      "byteLimit": 2048000,
      "rowLimit": 10000
     },
     "inputWidgets": {},
     "nuid": "32d49f29-6980-4909-a18a-5eacb69be275",
     "showTitle": false,
     "tableResultSettingsMap": {},
     "title": ""
    }
   },
   "outputs": [],
   "source": [
    "df = spark.sql(f\"select * from {DestinationSchema}.{DestinationTable} where End_Date is null\")\n",
    "\n",
    "df.createOrReplaceTempView(\"target_view\")\n",
    "\n",
    "DFSourceNull = spark.sql(f\"\"\"\n",
    "                SELECT t.*,\n",
    "                    CASE WHEN s.{get_pk} IS NULL THEN 'No' ELSE 'Yes' END AS CurrentRecordTmp\n",
    "                FROM target_view t\n",
    "                FULL JOIN VW_silver s\n",
    "                ON { ' AND '.join([f's.{col} = t.{col}' for col in get_pk.split(',')]) }\n",
    "            \"\"\")\n",
    "# Filter out the 'DeleteFlag' rows for next steps\n",
    "DFSourceNull.createOrReplaceTempView(\"SourcetoInsertUpdate\")\n",
    "\n",
    "# Merge operation\n",
    "MergeQuery = f\"\"\"\n",
    "        MERGE INTO {DestinationSchema}.{DestinationTable} AS target\n",
    "        USING SourcetoInsertUpdate AS source\n",
    "        ON target.{get_pk} = source.{get_pk} \n",
    "        AND source.CurrentRecordTmp = 'No'\n",
    "        WHEN MATCHED THEN\n",
    "            UPDATE SET target.CurrentRecord = 'Deleted', target.end_date=current_date(), target.DW_modified_Date=current_date(),target.DW_Modified_By='Databricks'\n",
    "    \"\"\"\n",
    "\n",
    "spark.sql(MergeQuery)"
   ]
  },
  {
   "cell_type": "code",
   "execution_count": 0,
   "metadata": {
    "application/vnd.databricks.v1+cell": {
     "cellMetadata": {
      "byteLimit": 2048000,
      "implicitDf": true,
      "rowLimit": 10000
     },
     "inputWidgets": {},
     "nuid": "6fa5981b-57f8-434e-a973-731fea670402",
     "showTitle": false,
     "tableResultSettingsMap": {},
     "title": ""
    }
   },
   "outputs": [],
   "source": [
    "%sql\n",
    "Select SF_Cust_Key, count(1) from silver.customer_master\n",
    "Where CurrentRecord='Yes'\n",
    "group by SF_Cust_Key having count(1)>1"
   ]
  }
 ],
 "metadata": {
  "application/vnd.databricks.v1+notebook": {
   "computePreferences": null,
   "dashboards": [],
   "environmentMetadata": {
    "base_environment": "",
    "environment_version": "2"
   },
   "inputWidgetPreferences": null,
   "language": "python",
   "notebookMetadata": {
    "mostRecentlyExecutedCommandWithImplicitDF": {
     "commandId": 2025259583128000,
     "dataframes": [
      "_sqldf"
     ]
    },
    "pythonIndentUnit": 4
   },
   "notebookName": "NB_Silver_Customer_Xref_Actual",
   "widgets": {
    "AddOnType": {
     "currentValue": "Actual",
     "nuid": "c88e1ad0-4894-47d1-acae-9d3385f4246b",
     "typedWidgetInfo": {
      "autoCreated": false,
      "defaultValue": "Value",
      "label": null,
      "name": "AddOnType",
      "options": {
       "widgetDisplayType": "Text",
       "validationRegex": null
      },
      "parameterDataType": "String"
     },
     "widgetInfo": {
      "widgetType": "text",
      "defaultValue": "Value",
      "label": null,
      "name": "AddOnType",
      "options": {
       "widgetType": "text",
       "autoCreated": false,
       "validationRegex": null
      }
     }
    },
    "DestinationSchema": {
     "currentValue": " silver",
     "nuid": "54a4508b-7301-449e-a238-9fa986dd360f",
     "typedWidgetInfo": {
      "autoCreated": false,
      "defaultValue": " ",
      "label": null,
      "name": "DestinationSchema",
      "options": {
       "widgetDisplayType": "Text",
       "validationRegex": null
      },
      "parameterDataType": "String"
     },
     "widgetInfo": {
      "widgetType": "text",
      "defaultValue": " ",
      "label": null,
      "name": "DestinationSchema",
      "options": {
       "widgetType": "text",
       "autoCreated": false,
       "validationRegex": null
      }
     }
    },
    "DestinationTable": {
     "currentValue": "customer_master",
     "nuid": "aba999e8-59a7-4186-bf9c-b6aecd526d2c",
     "typedWidgetInfo": {
      "autoCreated": false,
      "defaultValue": " ",
      "label": null,
      "name": "DestinationTable",
      "options": {
       "widgetDisplayType": "Text",
       "validationRegex": null
      },
      "parameterDataType": "String"
     },
     "widgetInfo": {
      "widgetType": "text",
      "defaultValue": " ",
      "label": null,
      "name": "DestinationTable",
      "options": {
       "widgetType": "text",
       "autoCreated": false,
       "validationRegex": null
      }
     }
    }
   }
  },
  "language_info": {
   "name": "python"
  }
 },
 "nbformat": 4,
 "nbformat_minor": 0
}
