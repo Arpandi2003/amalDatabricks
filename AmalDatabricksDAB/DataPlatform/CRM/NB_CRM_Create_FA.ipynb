{
 "cells": [
  {
   "cell_type": "code",
   "execution_count": 0,
   "metadata": {
    "application/vnd.databricks.v1+cell": {
     "cellMetadata": {
      "byteLimit": 2048000,
      "rowLimit": 10000
     },
     "inputWidgets": {},
     "nuid": "21231f8f-e702-4938-97d0-3b3786909380",
     "showTitle": false,
     "tableResultSettingsMap": {},
     "title": ""
    }
   },
   "outputs": [],
   "source": [
    "%run \"../General/NB_Configuration\""
   ]
  },
  {
   "cell_type": "code",
   "execution_count": 0,
   "metadata": {
    "application/vnd.databricks.v1+cell": {
     "cellMetadata": {
      "byteLimit": 2048000,
      "implicitDf": true,
      "rowLimit": 10000
     },
     "inputWidgets": {},
     "nuid": "bb11d5b4-69a7-4b7f-b535-e64eb26347b7",
     "showTitle": false,
     "tableResultSettingsMap": {},
     "title": ""
    }
   },
   "outputs": [],
   "source": [
    "spark.sql(f\"\"\"use catalog {catalog}\"\"\")"
   ]
  },
  {
   "cell_type": "code",
   "execution_count": 0,
   "metadata": {
    "application/vnd.databricks.v1+cell": {
     "cellMetadata": {
      "byteLimit": 2048000,
      "implicitDf": true,
      "rowLimit": 10000
     },
     "inputWidgets": {},
     "nuid": "d52a71a3-8a8e-4046-a0a4-f81fa66dee92",
     "showTitle": true,
     "tableResultSettingsMap": {},
     "title": "base account vw"
    }
   },
   "outputs": [],
   "source": [
    "basetable = spark.sql('''\n",
    "SELECT master.* FROM silver.customer_master master\n",
    "INNER JOIN (\n",
    "    SELECT a.SF_Key,\n",
    "    CASE WHEN (a.Open) + (a.Pending) + (a.Dormant) > 0 THEN 'Active Accounts' ELSE 'Inactive Accounts' END AS ActiveAccountStatus\n",
    "    FROM (\n",
    "        SELECT ACCT.SF_CustKey_fkey AS SF_Key,\n",
    "        SUM(acct.Closed) AS Closed,\n",
    "        SUM(acct.Purged) AS Purged,\n",
    "        SUM(acct.Open) AS Open,\n",
    "        SUM(acct.Dormant) AS Dormant,\n",
    "        SUM(acct.Pending) AS Pending,\n",
    "        SUM(acct.Other) AS Other,\n",
    "        SUM(acct.Missing) AS Missing,\n",
    "        SUM(acct.Total) AS Total,\n",
    "        SUM(acct.Closed) + SUM(acct.Purged) + SUM(acct.Open) + SUM(acct.Dormant) + SUM(acct.Pending) + SUM(acct.Other) + SUM(acct.Missing) AS Check\n",
    "        FROM (\n",
    "            SELECT CASE WHEN fa.status = 'CLOSED' and fa.ClosingDate < '2023-01-01' THEN 1 ELSE 0 END AS Closed,\n",
    "            CASE WHEN fa.status = 'PURGED' THEN 1 ELSE 0 END AS Purged,\n",
    "            CASE WHEN fa.status IN('OPEN') THEN 1\n",
    "                WHEN fa.status IN('CLOSED') AND fa.ClosingDate >= '2023-01-01' THEN 1 ELSE 0 END AS Open,\n",
    "            CASE WHEN fa.status = 'DORMANT' THEN 1 ELSE 0 END AS Dormant,\n",
    "            CASE WHEN fa.status = 'PENDING' THEN 1 ELSE 0 END AS Pending,\n",
    "            CASE WHEN fa.status = ' ' OR fa.status IS NULL THEN 1 ELSE 0 END AS Missing,\n",
    "            CASE WHEN fa.status NOT IN ('OPEN', 'CLOSED', 'PURGED', 'DORMANT', 'PENDING') THEN 1 ELSE 0 END AS Other,\n",
    "            1 AS Total,\n",
    "            fap.SF_CustKey_fkey\n",
    "            FROM silver.financial_account fa\n",
    "            INNER JOIN silver.financial_account_party fap\n",
    "            ON fa.financialaccountnumber = fap.Financial_AccountNumber_skey AND UPPER(fap.CurrentRecord) = 'YES'\n",
    "            WHERE UPPER(fa.CurrentRecord) = 'YES'\n",
    "        ) acct\n",
    "        GROUP BY acct.SF_CustKey_fkey\n",
    "    )a\n",
    ")b ON b.sf_key = master.SF_Cust_Key\n",
    "-- WHERE master.CurrentRecord = 'Yes'\n",
    "WHERE ActiveAccountStatus = 'Active Accounts'\n",
    "-- and b.ActiveAccountStatus = 'Active Accounts' \n",
    "-- removed filter for closed accounts since Erick requested on 6/17\n",
    "\n",
    "''').drop('SF_Key').drop('ActiveAccountStatus')\n",
    "\n",
    "basetable.createOrReplaceTempView(\"final_Account_vw\")\n",
    "basetable.count()"
   ]
  },
  {
   "cell_type": "code",
   "execution_count": 0,
   "metadata": {
    "application/vnd.databricks.v1+cell": {
     "cellMetadata": {
      "byteLimit": 2048000,
      "implicitDf": true,
      "rowLimit": 10000
     },
     "collapsed": true,
     "inputWidgets": {},
     "nuid": "78528fef-0f15-42e4-bb69-ff2b181ca83a",
     "showTitle": true,
     "tableResultSettingsMap": {},
     "title": "Dup Check"
    }
   },
   "outputs": [],
   "source": [
    "%sql\n",
    "select sf_cust_key from final_Account_vw\n",
    "group by 1 \n",
    "having count(*) > 1\n",
    ";"
   ]
  },
  {
   "cell_type": "code",
   "execution_count": 0,
   "metadata": {
    "application/vnd.databricks.v1+cell": {
     "cellMetadata": {
      "byteLimit": 2048000,
      "rowLimit": 10000
     },
     "inputWidgets": {},
     "nuid": "179deff7-789f-49d8-a8bb-880c817f03a2",
     "showTitle": false,
     "tableResultSettingsMap": {},
     "title": ""
    }
   },
   "outputs": [],
   "source": [
    "query = ''' SELECT * from final_Account_vw '''\n",
    "df = spark.sql(query)\n",
    "df.groupBy(['DW_modified_Date', 'currentRecord']).count().display()\n"
   ]
  },
  {
   "cell_type": "code",
   "execution_count": 0,
   "metadata": {
    "application/vnd.databricks.v1+cell": {
     "cellMetadata": {
      "byteLimit": 2048000,
      "rowLimit": 10000
     },
     "inputWidgets": {},
     "nuid": "7ca70307-9e07-4c83-b18b-7257f11b84b7",
     "showTitle": true,
     "tableResultSettingsMap": {},
     "title": "Create FA view"
    }
   },
   "outputs": [],
   "source": [
    "basetable = spark.sql('''\n",
    "\n",
    "-- Retrieve all financial accounts in ANY status, if they are tied to a customer with at least one \"Active\" financial account\n",
    "-- Active: STATUS is Open, Pending, Dormant; Or Closed after 2023-01-01\n",
    "SELECT * FROM (\n",
    "SELECT *, row_number() OVER (PARTITION BY financialaccountnumber, currentRecord, DW_Modified_Date ORDER BY FinancialAccountNumber DESC) AS rn\n",
    "FROM silver.financial_account fa WHERE financialaccountnumber IN\n",
    "(\n",
    " -- Retrieve all financial account numbers tied to customer records with \"Active Accounts\"\n",
    " SELECT financial_accountnumber_skey FROM silver.financial_account_party FAP\n",
    " INNER JOIN\n",
    " (\n",
    "  SELECT * FROM silver.customer_master master\n",
    "  INNER JOIN \n",
    "  -- Filter customer records to only include those in the list with \"Active Accounts\"\n",
    "  (\n",
    "      SELECT a.SF_Key,\n",
    "      CASE WHEN (a.Open) + (a.Pending) + (a.Dormant) > 0 THEN 'Active Accounts' ELSE 'Inactive Accounts' END AS ActiveAccountStatus\n",
    "      FROM (\n",
    "          SELECT ACCT.SF_CustKey_fkey AS SF_Key,\n",
    "          SUM(acct.Closed) AS Closed,\n",
    "          SUM(acct.Purged) AS Purged,\n",
    "          SUM(acct.Open) AS Open,\n",
    "          SUM(acct.Dormant) AS Dormant,\n",
    "          SUM(acct.Pending) AS Pending,\n",
    "          SUM(acct.Other) AS Other,\n",
    "          SUM(acct.Missing) AS Missing,\n",
    "          SUM(acct.Total) AS Total,\n",
    "          SUM(acct.Closed) + SUM(acct.Purged) + SUM(acct.Open) + SUM(acct.Dormant) + SUM(acct.Pending) + SUM(acct.Other) + SUM(acct.Missing) AS Check\n",
    "          FROM (\n",
    "              SELECT CASE WHEN fa.status = 'CLOSED' and fa.ClosingDate < '2023-01-01' THEN 1 ELSE 0 END AS Closed,\n",
    "              CASE WHEN fa.status = 'PURGED' THEN 1 ELSE 0 END AS Purged,\n",
    "              CASE WHEN fa.status IN('OPEN') THEN 1\n",
    "                  WHEN fa.status IN('CLOSED') AND fa.ClosingDate >= '2023-01-01' THEN 1 ELSE 0 END AS Open,\n",
    "              CASE WHEN fa.status = 'DORMANT' THEN 1 ELSE 0 END AS Dormant,\n",
    "              CASE WHEN fa.status = 'PENDING' THEN 1 ELSE 0 END AS Pending,\n",
    "              CASE WHEN fa.status = ' ' OR fa.status IS NULL THEN 1 ELSE 0 END AS Missing,\n",
    "              CASE WHEN fa.status NOT IN ('OPEN', 'CLOSED', 'PURGED', 'DORMANT', 'PENDING') THEN 1 ELSE 0 END AS Other,\n",
    "              1 AS Total,\n",
    "              fap.SF_CustKey_fkey\n",
    "              FROM silver.financial_account fa\n",
    "              INNER JOIN silver.financial_account_party fap\n",
    "              ON fa.financialaccountnumber = fap.Financial_AccountNumber_skey AND UPPER(fap.CurrentRecord) = 'YES'\n",
    "              WHERE UPPER(fa.CurrentRecord) = 'YES'\n",
    "          ) acct\n",
    "          GROUP BY acct.SF_CustKey_fkey\n",
    "      )a\n",
    "  )b ON b.sf_key = master.SF_Cust_Key\n",
    "  WHERE master.CurrentRecord = 'Yes'\n",
    "  AND ActiveAccountStatus = 'Active Accounts'\n",
    " ) CRM_ACCOUNT\n",
    " ON CRM_ACCOUNT.SF_CUST_KEY = FAP.SF_CUSTKEY_FKEY\n",
    " WHERE FAP.CURRENTRECORD = 'Yes'\n",
    " GROUP BY FINANCIAL_ACCOUNTNUMBER_SKEY\n",
    ")\n",
    "--AND FA.CURRENTRECORD = 'Yes'\n",
    ")\n",
    "--WHere rn =1\n",
    "''').drop('rn').dropDuplicates(['financialaccountnumber', 'CurrentRecord', 'DW_Modified_Date'])\n",
    "basetable.createOrReplaceTempView(\"final_FA_acct_vw\")\n",
    "print(basetable.count())\n",
    "basetable.groupBy(['currentRecord', 'DW_Modified_Date']).count().display()"
   ]
  },
  {
   "cell_type": "code",
   "execution_count": 0,
   "metadata": {
    "application/vnd.databricks.v1+cell": {
     "cellMetadata": {
      "byteLimit": 2048000,
      "rowLimit": 10000
     },
     "inputWidgets": {},
     "nuid": "e1b5da59-7a3f-444f-a65a-2476ccaba98c",
     "showTitle": false,
     "tableResultSettingsMap": {},
     "title": ""
    }
   },
   "outputs": [],
   "source": [
    "query = ''' Select * from silver.financial_account_balance''' \n",
    "df = spark.sql(query)\n",
    "df.groupBy(['currentRecord', 'DW_Modified_Date']).count().display()"
   ]
  },
  {
   "cell_type": "code",
   "execution_count": 0,
   "metadata": {
    "application/vnd.databricks.v1+cell": {
     "cellMetadata": {
      "byteLimit": 2048000,
      "implicitDf": true,
      "rowLimit": 10000
     },
     "inputWidgets": {},
     "nuid": "40fd6919-189a-4586-b8e5-23683fb23fbd",
     "showTitle": true,
     "tableResultSettingsMap": {},
     "title": "DupCheck"
    }
   },
   "outputs": [],
   "source": [
    "%sql\n",
    "select FinancialAccountNumber, DW_Modified_Date, count(*) \n",
    "from final_FA_acct_vw\n",
    "group by FinancialAccountNumber, currentrecord, DW_Modified_Date\n",
    "having count(*) > 1\n",
    "    "
   ]
  },
  {
   "cell_type": "code",
   "execution_count": 0,
   "metadata": {
    "application/vnd.databricks.v1+cell": {
     "cellMetadata": {
      "byteLimit": 2048000,
      "rowLimit": 10000
     },
     "inputWidgets": {},
     "nuid": "555deb01-5dca-493b-a34b-cd8e38b64f01",
     "showTitle": true,
     "tableResultSettingsMap": {},
     "title": "Create FA Party"
    }
   },
   "outputs": [],
   "source": [
    "basetable = spark.sql('''\n",
    "SELECT party.*\n",
    "FROM silver.financial_account_party party\n",
    "WHERE\n",
    "party.Financial_AccountNumber_skey IN (SELECT distinct(FinancialAccountNumber) FROM final_FA_acct_vw)\n",
    "--AND\n",
    "--party.CurrentRecord = 'Yes'\n",
    "''')\n",
    "basetable.createOrReplaceTempView(\"final_fa_party_vw1\")\n",
    "print (basetable.count())"
   ]
  },
  {
   "cell_type": "code",
   "execution_count": 0,
   "metadata": {
    "application/vnd.databricks.v1+cell": {
     "cellMetadata": {
      "byteLimit": 2048000,
      "rowLimit": 10000
     },
     "inputWidgets": {},
     "nuid": "193aab7e-02a4-4a77-85e1-16ae88c6b457",
     "showTitle": true,
     "tableResultSettingsMap": {},
     "title": "Drop mismatches  between FA and FA Party"
    }
   },
   "outputs": [],
   "source": [
    "basetable = spark.sql('''\n",
    "SELECT party.*\n",
    "FROM final_fa_party_vw1 party\n",
    "WHERE\n",
    "party.sf_custkey_fkey IN(SELECT distinct(SF_Cust_Key) FROM final_Account_vw)\n",
    "--AND\n",
    "--party.CurrentRecord = 'Yes'\n",
    "''').dropDuplicates(['Financial_AccountNumber_skey', 'SF_CustKey_fkey', 'DW_Modified_Date','currentrecord'])\n",
    "basetable.createOrReplaceTempView(\"final_fa_party_vw\")\n",
    "print (basetable.count())"
   ]
  },
  {
   "cell_type": "code",
   "execution_count": 0,
   "metadata": {
    "application/vnd.databricks.v1+cell": {
     "cellMetadata": {
      "byteLimit": 2048000,
      "implicitDf": true,
      "rowLimit": 10000
     },
     "inputWidgets": {},
     "nuid": "c3998bd5-3a38-468e-a86c-8804e982f9cd",
     "showTitle": false,
     "tableResultSettingsMap": {},
     "title": ""
    },
    "jupyter": {
     "outputs_hidden": true
    }
   },
   "outputs": [],
   "source": [
    "%sql\n",
    "select  * from final_fa_party_vw WHERE SF_CustKey_fkey in (Select SF_Cust_Key FROM final_Account_vw)"
   ]
  },
  {
   "cell_type": "code",
   "execution_count": 0,
   "metadata": {
    "application/vnd.databricks.v1+cell": {
     "cellMetadata": {
      "byteLimit": 2048000,
      "implicitDf": true,
      "rowLimit": 10000
     },
     "inputWidgets": {},
     "nuid": "7938f3ea-4c14-42b3-9e48-016e08c65243",
     "showTitle": true,
     "tableResultSettingsMap": {},
     "title": "Dup Check"
    }
   },
   "outputs": [],
   "source": [
    "%sql\n",
    "Select Financial_AccountNumber_skey, SF_CustKey_fkey, currentrecord, dw_modified_date,count(*) from final_fa_party_vw\n",
    "group by 1, 2, 3,4\n",
    "having count(*)> 1"
   ]
  },
  {
   "cell_type": "code",
   "execution_count": 0,
   "metadata": {
    "application/vnd.databricks.v1+cell": {
     "cellMetadata": {
      "byteLimit": 2048000,
      "implicitDf": true,
      "rowLimit": 10000
     },
     "inputWidgets": {},
     "nuid": "01a1746d-2ed7-4c83-80a9-7ff05c36ea27",
     "showTitle": false,
     "tableResultSettingsMap": {},
     "title": ""
    }
   },
   "outputs": [],
   "source": [
    "%sql\n",
    "select count(*) from final_FA_acct_vw"
   ]
  },
  {
   "cell_type": "code",
   "execution_count": 0,
   "metadata": {
    "application/vnd.databricks.v1+cell": {
     "cellMetadata": {
      "byteLimit": 2048000,
      "implicitDf": true,
      "rowLimit": 10000
     },
     "inputWidgets": {},
     "nuid": "842c579d-134f-4870-957f-4c87cbd89d35",
     "showTitle": true,
     "tableResultSettingsMap": {},
     "title": "Dup Check"
    }
   },
   "outputs": [],
   "source": [
    "%sql\n",
    "SELECT financialaccountnumber, currentrecord FROM final_FA_acct_vw\n",
    "GROUP BY 1,2\n",
    "HAVING COUNT(*) > 1"
   ]
  },
  {
   "cell_type": "code",
   "execution_count": 0,
   "metadata": {
    "application/vnd.databricks.v1+cell": {
     "cellMetadata": {
      "byteLimit": 2048000,
      "implicitDf": true,
      "rowLimit": 10000
     },
     "inputWidgets": {},
     "nuid": "83e5b08a-5c98-4651-a793-d779bdd7e660",
     "showTitle": true,
     "tableResultSettingsMap": {},
     "title": "Write tables to CRM"
    }
   },
   "outputs": [],
   "source": [
    "# %sql\n",
    "# drop table crm.Account;\n",
    "# spark.sql('''DROP TABLE crm.financial_account''')\n",
    "# drop table crm.financial_account_party;\n",
    "\n",
    "basetable = spark.sql('''SELECT * FROM final_Account_vw''')\n",
    "basetable.write.mode('overwrite').option('mergeSchema', 'true').saveAsTable('crm.Account')\n",
    "\n",
    "basetable = spark.sql('''SELECT * FROM final_fa_party_vw''')\n",
    "basetable.write.mode('overwrite').option('mergeSchema', 'true').saveAsTable('crm.financial_account_party')\n",
    "\n",
    "basetable = spark.sql('''SELECT * FROM final_FA_acct_vw''')\n",
    "basetable.write.mode('overwrite').option('mergeSchema', 'true').option('overwriteSchema', 'true').saveAsTable('crm.financial_account')"
   ]
  },
  {
   "cell_type": "markdown",
   "metadata": {
    "application/vnd.databricks.v1+cell": {
     "cellMetadata": {},
     "inputWidgets": {},
     "nuid": "e0c1a99d-b4f1-426e-b656-0c4fbe29bf40",
     "showTitle": false,
     "tableResultSettingsMap": {},
     "title": ""
    }
   },
   "source": [
    "#Integrity Check"
   ]
  },
  {
   "cell_type": "code",
   "execution_count": 0,
   "metadata": {
    "application/vnd.databricks.v1+cell": {
     "cellMetadata": {
      "byteLimit": 2048000,
      "rowLimit": 10000
     },
     "inputWidgets": {},
     "nuid": "cf6ed88a-24a9-443a-ada3-cd438ff8ee23",
     "showTitle": false,
     "tableResultSettingsMap": {},
     "title": ""
    }
   },
   "outputs": [],
   "source": [
    "basetable = spark.sql('''\n",
    "select * from CRM.account where CurrentRecord = 'Yes'\n",
    "and SF_Cust_Key in(Select SF_CustKey_fkey from CRM.financial_account_party where CurrentRecord = 'Yes')\n",
    "''')\n",
    "basetable.createOrReplaceTempView(\"CRM_final_Account_vw\")"
   ]
  },
  {
   "cell_type": "code",
   "execution_count": 0,
   "metadata": {
    "application/vnd.databricks.v1+cell": {
     "cellMetadata": {
      "byteLimit": 2048000,
      "rowLimit": 10000
     },
     "inputWidgets": {},
     "nuid": "c800c0d6-63d8-417a-b42b-8d660bb49cf6",
     "showTitle": false,
     "tableResultSettingsMap": {},
     "title": ""
    }
   },
   "outputs": [],
   "source": [
    "basetable = spark.sql('''\n",
    "SELECT party.*\n",
    "FROM CRM.financial_account_party party\n",
    "WHERE party.Financial_AccountNumber_skey in (Select FinancialAccountNumber FROM CRM.financial_account where CurrentRecord = 'Yes')\n",
    "AND party.CurrentRecord = 'Yes'\n",
    "''')\n",
    "basetable.createOrReplaceTempView(\"CRM_final_fa_party_vw1\")"
   ]
  },
  {
   "cell_type": "code",
   "execution_count": 0,
   "metadata": {
    "application/vnd.databricks.v1+cell": {
     "cellMetadata": {
      "byteLimit": 2048000,
      "rowLimit": 10000
     },
     "inputWidgets": {},
     "nuid": "b7a63bd5-2eee-4587-9453-c6fb5592c6b7",
     "showTitle": false,
     "tableResultSettingsMap": {},
     "title": ""
    }
   },
   "outputs": [],
   "source": [
    "basetable = spark.sql('''\n",
    "SELECT party.*\n",
    "FROM CRM_final_fa_party_vw1 party\n",
    "WHERE party.sf_custkey_fkey in (Select SF_Cust_Key FROM CRM_final_Account_vw where CurrentRecord = 'Yes')\n",
    "AND party.CurrentRecord = 'Yes'\n",
    "''')\n",
    "basetable.createOrReplaceTempView(\"crm_final_fa_party_vw\")"
   ]
  },
  {
   "cell_type": "code",
   "execution_count": 0,
   "metadata": {
    "application/vnd.databricks.v1+cell": {
     "cellMetadata": {
      "byteLimit": 2048000,
      "rowLimit": 10000
     },
     "inputWidgets": {},
     "nuid": "dbc700dd-73dd-462c-a568-003ed6d2a991",
     "showTitle": false,
     "tableResultSettingsMap": {},
     "title": ""
    }
   },
   "outputs": [],
   "source": [
    "basetable = spark.sql('''\n",
    "SELECT acct.*\n",
    "FROM crm.financial_account acct\n",
    "    WHERE acct.FinancialAccountNumber not in (SELECT Financial_AccountNumber_skey from crm_final_fa_party_vw where acct.currentrecord = 'Yes')\n",
    "AND acct.CurrentRecord = 'Yes'\n",
    "AND acct.Status in ('OPEN', 'DORMANT', 'PENDING')\n",
    "''')\n",
    "basetable.createOrReplaceTempView(\"crm_final_FA_acct_vw\")"
   ]
  },
  {
   "cell_type": "code",
   "execution_count": 0,
   "metadata": {
    "application/vnd.databricks.v1+cell": {
     "cellMetadata": {
      "byteLimit": 2048000,
      "rowLimit": 10000
     },
     "inputWidgets": {},
     "nuid": "dc186e2a-301f-4145-ad8d-8c23ff7b88ab",
     "showTitle": true,
     "tableResultSettingsMap": {},
     "title": "Integrity check for financial_account"
    }
   },
   "outputs": [],
   "source": [
    "# if basetable.count()>0:\n",
    "#     raise \"Integrity Check Failed\""
   ]
  }
 ],
 "metadata": {
  "application/vnd.databricks.v1+notebook": {
   "computePreferences": null,
   "dashboards": [],
   "environmentMetadata": {
    "base_environment": "",
    "environment_version": "2"
   },
   "inputWidgetPreferences": null,
   "language": "python",
   "notebookMetadata": {
    "mostRecentlyExecutedCommandWithImplicitDF": {
     "commandId": 6666606827786456,
     "dataframes": [
      "_sqldf"
     ]
    },
    "pythonIndentUnit": 4
   },
   "notebookName": "NB_CRM_Create_FA",
   "widgets": {}
  },
  "language_info": {
   "name": "python"
  }
 },
 "nbformat": 4,
 "nbformat_minor": 0
}
