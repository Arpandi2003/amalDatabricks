{
 "cells": [
  {
   "cell_type": "markdown",
   "metadata": {
    "application/vnd.databricks.v1+cell": {
     "cellMetadata": {},
     "inputWidgets": {},
     "nuid": "a9d21f0f-0e3b-4d4a-ab4e-6789c9c93dfa",
     "showTitle": false,
     "tableResultSettingsMap": {},
     "title": ""
    }
   },
   "source": [
    "#### Importing Required Packages"
   ]
  },
  {
   "cell_type": "code",
   "execution_count": 0,
   "metadata": {
    "application/vnd.databricks.v1+cell": {
     "cellMetadata": {
      "byteLimit": 2048000,
      "rowLimit": 10000
     },
     "inputWidgets": {},
     "nuid": "19ac87f1-90fc-45aa-8e5e-5c90bc44cd6b",
     "showTitle": false,
     "tableResultSettingsMap": {},
     "title": ""
    }
   },
   "outputs": [],
   "source": [
    "#Importing the required packages\n",
    "\n",
    "from pyspark.sql.functions import *\n",
    "from datetime import datetime\n",
    "from delta.tables import *\n",
    "from pyspark.sql import SparkSession\n",
    "from pyspark.sql.functions import col, lit, current_timestamp\n",
    "from pyspark.sql.types import *\n",
    "from pyspark.sql.window import Window\n",
    "import pytz\n",
    "import pandas as pd\n",
    "import os"
   ]
  },
  {
   "cell_type": "markdown",
   "metadata": {
    "application/vnd.databricks.v1+cell": {
     "cellMetadata": {},
     "inputWidgets": {},
     "nuid": "29eb2c81-fe87-4f26-88eb-d4f1bc6c2b19",
     "showTitle": false,
     "tableResultSettingsMap": {},
     "title": ""
    }
   },
   "source": [
    "#### Calling Logger Notebook"
   ]
  },
  {
   "cell_type": "code",
   "execution_count": 0,
   "metadata": {
    "application/vnd.databricks.v1+cell": {
     "cellMetadata": {
      "byteLimit": 2048000,
      "rowLimit": 10000
     },
     "inputWidgets": {},
     "nuid": "17273cf8-44e4-45fc-bad0-091769e5434c",
     "showTitle": false,
     "tableResultSettingsMap": {},
     "title": ""
    },
    "jupyter": {
     "outputs_hidden": true
    }
   },
   "outputs": [],
   "source": [
    "%run \"../General/NB_AMAL_Logger\""
   ]
  },
  {
   "cell_type": "markdown",
   "metadata": {
    "application/vnd.databricks.v1+cell": {
     "cellMetadata": {},
     "inputWidgets": {},
     "nuid": "9b8194c2-e8e1-45ea-a7f5-75deab940282",
     "showTitle": false,
     "tableResultSettingsMap": {},
     "title": ""
    }
   },
   "source": [
    "#### Calling Utilities Notebook"
   ]
  },
  {
   "cell_type": "code",
   "execution_count": 0,
   "metadata": {
    "application/vnd.databricks.v1+cell": {
     "cellMetadata": {
      "byteLimit": 2048000,
      "rowLimit": 10000
     },
     "inputWidgets": {},
     "nuid": "ee91a386-92e1-4590-bb14-f2885eb3d1f2",
     "showTitle": false,
     "tableResultSettingsMap": {},
     "title": ""
    },
    "jupyter": {
     "outputs_hidden": true
    }
   },
   "outputs": [],
   "source": [
    "%run \"../General/NB_AMAL_Utilities\""
   ]
  },
  {
   "cell_type": "markdown",
   "metadata": {
    "application/vnd.databricks.v1+cell": {
     "cellMetadata": {},
     "inputWidgets": {},
     "nuid": "35316a9e-54f5-4e3f-9255-0b8ed73294f7",
     "showTitle": false,
     "tableResultSettingsMap": {},
     "title": ""
    }
   },
   "source": [
    "#### Calling Configuration Notebook"
   ]
  },
  {
   "cell_type": "code",
   "execution_count": 0,
   "metadata": {
    "application/vnd.databricks.v1+cell": {
     "cellMetadata": {
      "byteLimit": 2048000,
      "rowLimit": 10000
     },
     "inputWidgets": {},
     "nuid": "3d824bd7-dbe0-44eb-8ddb-587abb15b20c",
     "showTitle": false,
     "tableResultSettingsMap": {},
     "title": ""
    }
   },
   "outputs": [],
   "source": [
    "%run \"../General/NB_Configuration\""
   ]
  },
  {
   "cell_type": "markdown",
   "metadata": {
    "application/vnd.databricks.v1+cell": {
     "cellMetadata": {},
     "inputWidgets": {},
     "nuid": "b27043e3-95b2-4926-a86a-23e96b39451f",
     "showTitle": false,
     "tableResultSettingsMap": {},
     "title": ""
    }
   },
   "source": [
    "#### Use Catalog"
   ]
  },
  {
   "cell_type": "code",
   "execution_count": 0,
   "metadata": {
    "application/vnd.databricks.v1+cell": {
     "cellMetadata": {
      "byteLimit": 2048000,
      "implicitDf": true,
      "rowLimit": 10000
     },
     "inputWidgets": {},
     "nuid": "37bfbcad-a48c-4a3c-b05a-b60c96512764",
     "showTitle": false,
     "tableResultSettingsMap": {},
     "title": ""
    }
   },
   "outputs": [],
   "source": [
    "spark.sql(f\"\"\"use catalog {catalog}\"\"\")"
   ]
  },
  {
   "cell_type": "code",
   "execution_count": 0,
   "metadata": {
    "application/vnd.databricks.v1+cell": {
     "cellMetadata": {
      "byteLimit": 2048000,
      "rowLimit": 10000
     },
     "inputWidgets": {},
     "nuid": "e24b8eac-dd09-4a7f-b66d-ed193150e905",
     "showTitle": false,
     "tableResultSettingsMap": {},
     "title": ""
    }
   },
   "outputs": [],
   "source": [
    "# This code initializes an error logger specific to the current batch process.\n",
    "# It then logs an informational message indicating the start of the pipeline for the given batch.\n",
    "\n",
    "ErrorLogger = ErrorLogs(f\"NB_RawToSTage\")\n",
    "logger = ErrorLogger[0]\n",
    "logger.info(\"Starting the pipeline\")"
   ]
  },
  {
   "cell_type": "markdown",
   "metadata": {
    "application/vnd.databricks.v1+cell": {
     "cellMetadata": {},
     "inputWidgets": {},
     "nuid": "e0fe7fdd-988a-4bf6-bad7-db3dc94a6990",
     "showTitle": false,
     "tableResultSettingsMap": {},
     "title": ""
    }
   },
   "source": [
    "### Create the base view"
   ]
  },
  {
   "cell_type": "code",
   "execution_count": 0,
   "metadata": {
    "application/vnd.databricks.v1+cell": {
     "cellMetadata": {
      "byteLimit": 2048000,
      "rowLimit": 10000
     },
     "inputWidgets": {},
     "nuid": "6947caaa-b516-4961-9323-4f91fb3bcd39",
     "showTitle": false,
     "tableResultSettingsMap": {},
     "title": ""
    }
   },
   "outputs": [],
   "source": [
    "base_df = spark.sql(\"select sf_cust_key from silver.customer_master where currentrecord='Yes' group by 1\")\n",
    "base_df.createOrReplaceTempView(\"vw_base\")"
   ]
  },
  {
   "cell_type": "markdown",
   "metadata": {
    "application/vnd.databricks.v1+cell": {
     "cellMetadata": {},
     "inputWidgets": {},
     "nuid": "d5c8060a-7def-4445-9b32-25059e40b57f",
     "showTitle": false,
     "tableResultSettingsMap": {},
     "title": ""
    }
   },
   "source": [
    "####Performing transformations in the source table"
   ]
  },
  {
   "cell_type": "code",
   "execution_count": 0,
   "metadata": {
    "application/vnd.databricks.v1+cell": {
     "cellMetadata": {
      "byteLimit": 2048000,
      "implicitDf": true,
      "rowLimit": 10000
     },
     "inputWidgets": {},
     "nuid": "3599ee5d-52b5-4629-80ee-52a45edbc6b8",
     "showTitle": true,
     "tableResultSettingsMap": {},
     "title": "Initialize_Customer_Xref in the default catalog  - This is the working copy"
    }
   },
   "outputs": [],
   "source": [
    "%sql\n",
    "--Initialize Customer XREF Default Table \n",
    "-- This creates a working copy of the silver table which becomes the base table for merging\n",
    "\n",
    "truncate table default.Parent_ID_xref;"
   ]
  },
  {
   "cell_type": "code",
   "execution_count": 0,
   "metadata": {
    "application/vnd.databricks.v1+cell": {
     "cellMetadata": {
      "byteLimit": 2048000,
      "implicitDf": true,
      "rowLimit": 10000
     },
     "inputWidgets": {},
     "nuid": "e80212a8-01b4-41bf-af53-c14ce3198b08",
     "showTitle": true,
     "tableResultSettingsMap": {},
     "title": "Debug - Dup Check in Customer Master"
    }
   },
   "outputs": [],
   "source": [
    "%sql\n",
    "select sf_cust_key \n",
    ",count(*) \n",
    "from silver.customer_master\n",
    "where currentrecord = 'Yes'\n",
    "group by sf_cust_key\n",
    "having count(*) > 1;"
   ]
  },
  {
   "cell_type": "code",
   "execution_count": 0,
   "metadata": {
    "application/vnd.databricks.v1+cell": {
     "cellMetadata": {
      "byteLimit": 2048000,
      "rowLimit": 10000
     },
     "inputWidgets": {},
     "nuid": "9a55dd3f-2375-43d4-8713-d91fb5105216",
     "showTitle": true,
     "tableResultSettingsMap": {},
     "title": "Get all AOTM Customers in Horizon"
    }
   },
   "outputs": [],
   "source": [
    "df = spark.sql('''\n",
    "        select tab.Company_ID\n",
    "        ,tab.cust_skey\n",
    "        ,tab.tax_id\n",
    "        ,tab.rownum\n",
    "        from \n",
    "        (\n",
    "            select beb.company_id \n",
    "            ,xref.cust_skey\n",
    "            ,idm.oid Tax_ID\n",
    "            ,row_number() over (partition by beb.company_id,xref.cust_skey order by xref.cust_skey asc) as rownum\n",
    "            from bronze.v_ods_beb_customer beb \n",
    "            left join \n",
    "            (\n",
    "                select bca.company_id\n",
    "                ,CASE  when bca.Account_Type = 'Checking' then concat('13-DD-', LPAD(bca.Account_Number,20 ,'0'))\n",
    "                        when bca.Account_Type = 'Savings' then concat('13-SV-', LPAD(bca.Account_Number,20 ,'0'))\n",
    "                        when bca.Account_Type = 'Loan' then concat('13-LN-', LPAD(bca.Account_Number,20 ,'0'))\n",
    "                        when bca.Account_Type = 'MortgageLoan' then concat('13-ML-',LPAD(bca.Account_Number,20 ,'0'))\n",
    "                        when bca.Account_Type = 'CertificateOfDeposit' then concat('13-CD-',LPAD(bca.Account_Number,20 ,'0')) end AS ACCT_SKEY\n",
    "                from bronze.`v_ods_beb_customer-account` bca\n",
    "                where bca.CurrentRecord = 'Yes'\n",
    "                and bca.account_type != \"Investment\" \n",
    "                union all\n",
    "                select bca.company_id\n",
    "                ,xref.acct_skey AS ACCT_SKEY\n",
    "                from bronze.`v_ods_beb_customer-account` bca\n",
    "                inner join bronze.ods_rmxref xref on LPAD(bca.Account_Number,20 ,'0') = xref.rxacct and xref.CurrentRecord = \"Yes\"\n",
    "                where bca.CurrentRecord = 'Yes'\n",
    "                and bca.account_type = \"Investment\" \n",
    "            ) bca on bca.company_id = beb.company_id\n",
    "            left join bronze.ods_rmxref xref on bca.acct_skey = xref.ACCT_SKEY and xref.RXPRIM = 'Y'\n",
    "            LEFT JOIN\n",
    "            (\n",
    "                select tab.OID\n",
    "                ,tab.GID\n",
    "                ,mast.skey\n",
    "                from\n",
    "                (\n",
    "                    select OID\n",
    "                    ,GID\n",
    "                    ,ROW_NUMBER() OVER (PARTITION BY OID order by TID desc) AS rownum\n",
    "                    from silver.customer_idmap idm where CurrentRecord = \"Yes\"\n",
    "                )tab\n",
    "                left join bronze.rmmast_ssn mast on tab.OID = mast.SSN\n",
    "                where tab.rownum = 1  \n",
    "            ) idm ON xref.CUST_SKEY = idm.skey\n",
    "            --where beb.Company_ID = '1174919'\n",
    "        )tab where tab.rownum = 1\n",
    "        and tab.cust_skey is not null and tab.tax_id is not null\n",
    "        union \n",
    "        select tab.Company_ID\n",
    "        ,tab.cust_skey\n",
    "        ,tab.Tax_ID\n",
    "        ,tab.rownum\n",
    "        from\n",
    "        (\n",
    "            select beb.Company_ID\n",
    "            ,xref.cust_skey\n",
    "            ,idm.oid Tax_ID\n",
    "            ,concat_ws ('#',idm.GID, beb.company_ID) sf_cust_key\n",
    "            ,ROW_NUMBER() OVER (PARTITION BY xref.cust_skey, idm.oid order by xref.cust_skey desc) AS rownum\n",
    "            from bronze.ods_rmxref xref\n",
    "            LEFT JOIN\n",
    "            (\n",
    "                select tab.OID\n",
    "                ,tab.GID\n",
    "                ,mast.skey\n",
    "                from\n",
    "                (\n",
    "                    select OID\n",
    "                    ,GID\n",
    "                    ,ROW_NUMBER() OVER (PARTITION BY OID order by TID desc) AS rownum\n",
    "                    from silver.customer_idmap idm where CurrentRecord = \"Yes\"\n",
    "                )tab\n",
    "                left join bronze.rmmast_ssn mast on tab.OID = mast.SSN\n",
    "                where tab.rownum = 1  \n",
    "            ) idm ON xref.CUST_SKEY = idm.skey\n",
    "            inner join \n",
    "            (\n",
    "                select beb.Company_ID\n",
    "                ,regexp_replace(beb.Tax_ID, '[^0-9]', '') Tax_ID \n",
    "                from bronze.v_ods_beb_customer beb\n",
    "                where beb.CurrentRecord = \"Yes\"\n",
    "            ) beb on idm.oid = beb.Tax_ID\n",
    "            where xref.CurrentRecord = \"Yes\"\n",
    "        ) tab where tab.rownum = 1        \n",
    "        ''' )\n",
    "df.createOrReplaceTempView(\"vw_cust_skey\")"
   ]
  },
  {
   "cell_type": "code",
   "execution_count": 0,
   "metadata": {
    "application/vnd.databricks.v1+cell": {
     "cellMetadata": {
      "byteLimit": 2048000,
      "rowLimit": 10000
     },
     "inputWidgets": {},
     "nuid": "eb8f5f2e-843d-4b38-a128-e1002ef74acc",
     "showTitle": true,
     "tableResultSettingsMap": {},
     "title": "Dup TaxID per Cust_skey"
    }
   },
   "outputs": [],
   "source": [
    "df = spark.sql('''\n",
    "        select tab.company_id\n",
    "        ,tab.cust_skey\n",
    "        ,tab.tax_id\n",
    "        ,tab.rownum\n",
    "        from \n",
    "        (\n",
    "        select company_id\n",
    "        ,cust_skey\n",
    "        ,tax_id\n",
    "        ,ROW_NUMBER() OVER (PARTITION BY company_id, tax_id order by cust_skey asc) AS rownum\n",
    "        from vw_cust_skey\n",
    "        ) tab\n",
    "''' )\n",
    "df.createOrReplaceTempView(\"vw_cust_skey_SSN\")   "
   ]
  },
  {
   "cell_type": "code",
   "execution_count": 0,
   "metadata": {
    "application/vnd.databricks.v1+cell": {
     "cellMetadata": {
      "byteLimit": 2048000,
      "rowLimit": 10000
     },
     "inputWidgets": {},
     "nuid": "dbb54f73-4a3d-46d7-85f2-326203aefe5f",
     "showTitle": true,
     "tableResultSettingsMap": {
      "0": {
       "dataGridStateBlob": null,
       "filterBlob": "{\"version\":1,\"filterGroups\":[],\"syncTimestamp\":1749741808049}",
       "queryPlanFiltersBlob": "[]",
       "tableResultIndex": 0
      }
     },
     "title": "Customer Key List by Company ID"
    }
   },
   "outputs": [],
   "source": [
    "df = spark.sql('''\n",
    "select main.company_id\n",
    ",cust_skey1.cust_skey\n",
    ",cust_skey2.cust_skey cust_skey_2\n",
    ",cust_skey3.cust_skey cust_skey_3\n",
    ",cust_skey4.cust_skey cust_skey_4\n",
    ",cust_skey5.cust_skey cust_skey_5\n",
    ",cust_skey6.cust_skey cust_skey_6\n",
    "from vw_cust_skey_SSN main\n",
    "left join (\n",
    "        select company_id\n",
    "        ,tax_id\n",
    "        ,(case when rownum = 1 then cust_skey end) cust_skey\n",
    "        from vw_cust_skey_SSN\n",
    "        where rownum = 1\n",
    ") cust_skey1 on main.company_id = cust_skey1.company_id and main.tax_id = cust_skey1.tax_id\n",
    "left join (\n",
    "        select company_id\n",
    "        ,tax_id\n",
    "        ,(case when rownum = 2 then cust_skey end) cust_skey\n",
    "        from vw_cust_skey_SSN\n",
    "        where rownum = 2\n",
    ") cust_skey2 on main.company_id = cust_skey2.company_id and main.tax_id = cust_skey2.tax_id\n",
    "left join (\n",
    "        select company_id\n",
    "        ,tax_id\n",
    "        ,(case when rownum = 3 then cust_skey end) cust_skey\n",
    "        from vw_cust_skey_SSN\n",
    "        where rownum = 3\n",
    ") cust_skey3 on main.company_id = cust_skey3.company_id and main.tax_id = cust_skey3.tax_id\n",
    "left join (\n",
    "        select company_id\n",
    "        ,tax_id\n",
    "        ,(case when rownum = 4 then cust_skey end) cust_skey\n",
    "        from vw_cust_skey_SSN\n",
    "        where rownum = 4\n",
    ") cust_skey4 on main.company_id = cust_skey4.company_id and main.tax_id = cust_skey4.tax_id\n",
    "left join (\n",
    "        select company_id\n",
    "        ,tax_id\n",
    "        ,(case when rownum = 5 then cust_skey end) cust_skey\n",
    "        from vw_cust_skey_SSN\n",
    "        where rownum = 5\n",
    ") cust_skey5 on main.company_id = cust_skey5.company_id and main.tax_id = cust_skey5.tax_id\n",
    "left join (\n",
    "        select company_id\n",
    "        ,tax_id\n",
    "        ,(case when rownum = 6 then cust_skey end) cust_skey\n",
    "        from vw_cust_skey_SSN\n",
    "        where rownum = 6\n",
    ") cust_skey6 on main.company_id = cust_skey6.company_id and main.tax_id = cust_skey6.tax_id\n",
    "group by 1,2,3,4,5,6,7\n",
    "''' )\n",
    "df.createOrReplaceTempView(\"vw_cust_skey_list\")   "
   ]
  },
  {
   "cell_type": "code",
   "execution_count": 0,
   "metadata": {
    "application/vnd.databricks.v1+cell": {
     "cellMetadata": {
      "byteLimit": 2048000,
      "implicitDf": true,
      "rowLimit": 10000
     },
     "inputWidgets": {},
     "nuid": "2806a920-2bbe-4d62-9f84-510541ca3df9",
     "showTitle": true,
     "tableResultSettingsMap": {
      "1": {
       "dataGridStateBlob": null,
       "filterBlob": "{\"version\":1,\"filterGroups\":[],\"syncTimestamp\":1749741838256}",
       "queryPlanFiltersBlob": "[]",
       "tableResultIndex": 1
      }
     },
     "title": "Identify Parent ID"
    }
   },
   "outputs": [],
   "source": [
    "# A company is the focus of this code and is defined as a unique record in AOTM\n",
    "# The AOTM relationship for a person will be primary \n",
    "\n",
    "df_src_AOTM = spark.sql('''\n",
    "        Select tab.GID\n",
    "        ,tab.Company_ID\n",
    "        ,tab.BEB_Tax_ID Tax_ID\n",
    "        ,tab.cust_skey\n",
    "        ,tab.cust_skey_2\n",
    "        ,tab.cust_skey_3\n",
    "        ,tab.cust_skey_4\n",
    "        ,tab.cust_skey_5\n",
    "        ,tab.cust_skey_6 \n",
    "        ,tab.parentGID\n",
    "        ,tab.company_name\n",
    "        ,tab.CompanyFullName_Horizon\n",
    "        ,concat_ws('#',tab.GID,tab.Company_ID) SF_Cust_Key\n",
    "--        ,Case when parentGID is null or (SF_Cust_Key = concat_ws('#',tab.ParentGID,tab.Company_ID)) then null else concat_ws('#',tab.ParentGID,tab.Company_ID) end as ParentID\n",
    "        ,concat_ws('#',tab.ParentGID,tab.Company_ID) ParentID\n",
    "        from (\n",
    "            select beb.company_id\n",
    "            ,bebidm.skey\n",
    "            ,bebidm.GID ParentGID\n",
    "            ,beb.Company_Name\n",
    "            ,xref.cust_skey\n",
    "            ,xref.cust_skey_2\n",
    "            ,xref.cust_skey_3\n",
    "            ,xref.cust_skey_4\n",
    "            ,xref.cust_skey_5\n",
    "            ,xref.cust_skey_6\n",
    "            ,row_number() over (partition by beb.company_id, xref.cust_skey order by beb.company_id) as rownum\n",
    "            ,idm.gid \n",
    "            ,idm.oid childtaxid\n",
    "            ,case when rmmast.RMNPN1 = ' ' then rmmast.RMSHRT\n",
    "            when rmmast.RMNPN1 = '' then rmmast.RMSHRT else rmmast.RMNPN1 end AS CompanyFullName_Horizon\n",
    "            ,regexp_replace(beb.Tax_ID, '[^0-9]', '') as BEB_Tax_ID\n",
    "            ,concat_ws('#',idm.GID,beb.Company_ID) sf_cust_key\n",
    "            from bronze.v_ods_beb_customer beb\n",
    "            left join bronze.`v_ods_beb_customer-account` bca\n",
    "            on beb.company_id = bca.company_id and bca.CurrentRecord = \"Yes\"\n",
    "            left join vw_cust_skey_list xref on beb.company_id = xref.company_id \n",
    "            left join bronze.ods_rmmast rmmast\n",
    "            on xref.CUST_SKEY = rmmast.CUST_SKEY\n",
    "            LEFT JOIN\n",
    "            (\n",
    "                select tab.OID\n",
    "                ,tab.GID\n",
    "                ,mast.skey\n",
    "                from\n",
    "                (\n",
    "                    select OID\n",
    "                    ,GID\n",
    "                    ,ROW_NUMBER() OVER (PARTITION BY OID order by TID desc) AS rownum\n",
    "                    from silver.customer_idmap idm where CurrentRecord = \"Yes\"\n",
    "                )tab\n",
    "                left join bronze.rmmast_ssn mast on tab.OID = mast.SSN\n",
    "                where tab.rownum = 1  \n",
    "            ) bebidm ON regexp_replace(beb.Tax_ID, '[^0-9]', '') = bebidm.oid                   \n",
    "            LEFT JOIN\n",
    "            (\n",
    "                select tab.OID\n",
    "                ,tab.GID\n",
    "                ,mast.skey\n",
    "                from\n",
    "                (\n",
    "                    select OID\n",
    "                    ,GID\n",
    "                    ,ROW_NUMBER() OVER (PARTITION BY OID order by TID desc) AS rownum\n",
    "                    from silver.customer_idmap idm where CurrentRecord = \"Yes\"\n",
    "                )tab\n",
    "                left join bronze.rmmast_ssn mast on tab.OID = mast.SSN\n",
    "                where tab.rownum = 1  \n",
    "            ) idm ON xref.CUST_SKEY = idm.skey\n",
    "            where beb.CurrentRecord = 'Yes'\n",
    "            and bca.currentrecord = 'Yes'\n",
    "            and rmmast.currentrecord = 'Yes'\n",
    "            --and beb.Company_id = '1174919'\n",
    "         )tab where tab.rownum = 1 and tab.GID is not null\n",
    "        ''' )\n",
    "df_src_AOTM.createOrReplaceTempView(\"vw_src_AOTM\")   "
   ]
  },
  {
   "cell_type": "code",
   "execution_count": 0,
   "metadata": {
    "application/vnd.databricks.v1+cell": {
     "cellMetadata": {
      "byteLimit": 2048000,
      "rowLimit": 10000
     },
     "inputWidgets": {},
     "nuid": "4436681f-84f4-4036-8b83-310440237793",
     "showTitle": true,
     "tableResultSettingsMap": {},
     "title": "Customer Status"
    }
   },
   "outputs": [],
   "source": [
    "basetable = spark.sql('''\n",
    "SELECT master.SF_Cust_Key\n",
    ",master.Company_ID\n",
    ",b.ActiveAccountStatus FROM silver.customer_master master\n",
    "LEFT JOIN (\n",
    "    SELECT a.SF_Key,\n",
    "    CASE WHEN (a.Open) + (a.Pending) + (a.Dormant) > 0 THEN 'Active Accounts' ELSE 'Inactive Accounts' END AS ActiveAccountStatus\n",
    "    FROM (\n",
    "        SELECT ACCT.SF_CustKey_fkey AS SF_Key,\n",
    "        SUM(acct.Closed) AS Closed,\n",
    "        SUM(acct.Purged) AS Purged,\n",
    "        SUM(acct.Open) AS Open,\n",
    "        SUM(acct.Dormant) AS Dormant,\n",
    "        SUM(acct.Pending) AS Pending,\n",
    "        SUM(acct.Other) AS Other,\n",
    "        SUM(acct.Missing) AS Missing,\n",
    "        SUM(acct.Total) AS Total,\n",
    "        SUM(acct.Closed) + SUM(acct.Purged) + SUM(acct.Open) + SUM(acct.Dormant) + SUM(acct.Pending) + SUM(acct.Other) + SUM(acct.Missing) AS Check\n",
    "        FROM (\n",
    "            SELECT CASE WHEN a.status = 'CLOSED' and a.ClosingDate < '2023-01-01' THEN 1 ELSE 0 END AS Closed,\n",
    "            CASE WHEN a.status = 'PURGED' THEN 1 ELSE 0 END AS Purged,\n",
    "            CASE WHEN a.status IN('OPEN') THEN 1 \n",
    "                WHEN a.status IN('CLOSED') AND a.ClosingDate >= '2023-01-01' THEN 1 ELSE 0 END AS Open,\n",
    "            CASE WHEN a.status = 'DORMANT' THEN 1 ELSE 0 END AS Dormant,\n",
    "            CASE WHEN a.status = 'PENDING' THEN 1 ELSE 0 END AS Pending,\n",
    "            CASE WHEN a.status = ' ' OR a.status IS NULL THEN 1 ELSE 0 END AS Missing,\n",
    "            CASE WHEN a.status NOT IN ('OPEN', 'CLOSED', 'PURGED', 'DORMANT', 'PENDING') THEN 1 ELSE 0 END AS Other,\n",
    "            1 AS Total,\n",
    "            b.SF_CustKey_fkey\n",
    "            FROM silver.financial_account a \n",
    "            LEFT JOIN silver.financial_account_party b \n",
    "            ON a.financialaccountnumber = b.Financial_AccountNumber_skey AND UPPER(b.CurrentRecord) = 'YES'\n",
    "            WHERE UPPER(a.CurrentRecord) = 'YES'\n",
    "        ) acct\n",
    "        GROUP BY acct.SF_CustKey_fkey\n",
    "    )a\n",
    ")b ON b.sf_key = master.SF_Cust_Key\n",
    "WHERE master.CurrentRecord = 'Yes'\n",
    "AND master.SF_Cust_Key IN (SELECT SF_CustKey_fkey FROM silver.financial_account_party WHERE CurrentRecord = 'Yes')\n",
    "''')\n",
    "\n",
    "basetable.createOrReplaceTempView(\"vw_Cust_Status\")"
   ]
  },
  {
   "cell_type": "code",
   "execution_count": 0,
   "metadata": {
    "application/vnd.databricks.v1+cell": {
     "cellMetadata": {
      "byteLimit": 2048000,
      "rowLimit": 10000
     },
     "inputWidgets": {},
     "nuid": "ece30ca5-153e-4581-8e8d-45ecfd71655e",
     "showTitle": true,
     "tableResultSettingsMap": {
      "0": {
       "dataGridStateBlob": null,
       "filterBlob": "{\"version\":1,\"filterGroups\":[],\"syncTimestamp\":1749844046580}",
       "queryPlanFiltersBlob": "[]",
       "tableResultIndex": 0
      }
     },
     "title": "Get Parent ID"
    }
   },
   "outputs": [],
   "source": [
    "df = spark.sql('''\n",
    "select src.GID\n",
    ",src.Company_ID\n",
    ",src.Tax_ID\n",
    ",src.cust_skey\n",
    ",src.cust_skey_2\n",
    ",src.cust_skey_3\n",
    ",src.cust_skey_4\n",
    ",src.cust_skey_5\n",
    ",src.cust_skey_6\n",
    ",src.parentGID\n",
    ",src.company_name\n",
    ",src.companyFullName_Horizon\n",
    ",src.SF_Cust_Key\n",
    ",case when stat.ActiveAccountStatus = 'Active Accounts' then src.Parentid else null end as Parentid\n",
    "from vw_src_AOTM src\n",
    "left join vw_Cust_Status stat on src.parentid = stat.SF_Cust_Key\n",
    "''' )\n",
    "df.createOrReplaceTempView(\"vw_src_ParentId\")"
   ]
  },
  {
   "cell_type": "code",
   "execution_count": 0,
   "metadata": {
    "application/vnd.databricks.v1+cell": {
     "cellMetadata": {
      "byteLimit": 2048000,
      "rowLimit": 10000
     },
     "inputWidgets": {},
     "nuid": "cbebf431-78a1-4261-80d9-07e32f014c88",
     "showTitle": true,
     "tableResultSettingsMap": {},
     "title": "LEFT JOIN TO CUSTOMER MASTER"
    }
   },
   "outputs": [],
   "source": [
    "df= spark.sql('''\n",
    "    SELECT \n",
    "    CASE WHEN mast.source = '01_HZN_AOTM' AND mast.SF_Cust_Key = xref.ParentID THEN xref.Company_Name\n",
    "        WHEN mast.source = '01_HZN_AOTM' AND mast.SF_Cust_Key != xref.ParentID THEN xref.CompanyFullName_Horizon\n",
    "        WHEN mast.source = '01_HZN_AOTM' AND xref.parentID IS NULL THEN xref.CompanyFullName_Horizon\n",
    "        WHEN mast.source != '01_HZN_AOTM' THEN mast.Name \n",
    "    ELSE mast.Name \n",
    "    END AS Name\n",
    "    ,mast.FirstName \n",
    "    ,mast.LastName \n",
    "    ,mast.MiddleName \n",
    "    ,mast.CustomerType \n",
    "    ,mast.AccountNumber \n",
    "    ,mast.Officer_Key \n",
    "    ,mast.ABEmployeeID \n",
    "    ,mast.Primary_Address_Street \n",
    "    ,mast.Primary_Address_City \n",
    "    ,mast.Primary_Address_State \n",
    "    ,mast.Primary_Address_Zip \n",
    "    ,mast.Primary_Address_Country \n",
    "    ,mast.Secondary_Address_Street \n",
    "    ,mast.Secondary_Address_City \n",
    "    ,mast.Secondary_Address_State \n",
    "    ,mast.Secondary_Address_Zip \n",
    "    ,mast.Secondary_Address_Country \n",
    "    ,mast.PersonBirthdate \n",
    "    ,mast.PersonBranch \n",
    "    ,mast.PersonDoNotCall \n",
    "    ,mast.PersonEmail \n",
    "    ,mast.NumberofEmployees \n",
    "    ,mast.Fax \n",
    "    ,mast.PersonPrimary_Address_Street \n",
    "    ,mast.PersonPrimary_Address_City \n",
    "    ,mast.PersonPrimary_Address_State \n",
    "    ,mast.PersonPrimary_Address_Zip \n",
    "    ,mast.PersonPrimary_Address_Country \n",
    "    ,mast.PersonSecondary_Address_Street \n",
    "    ,mast.PersonSecondary_Address_City \n",
    "    ,mast.PersonSecondary_Address_State \n",
    "    ,mast.PersonSecondary_Address_Zip \n",
    "    ,mast.PersonSecondary_Address_Country \n",
    "    ,mast.PersonHomePhone \n",
    "    ,mast.PersonMobilePhone \n",
    "    ,mast.PersonBusinessPhone \n",
    "    ,mast.Ownership \n",
    "    ,mast.BusinessPhone \n",
    "    ,mast.Website \n",
    "    ,mast.RelationshipStartDate \n",
    "    ,mast.LengthOfRelationship \n",
    "    ,mast.NAICSDescription \n",
    "    ,mast.NAICSCode \n",
    "    ,mast.Type \n",
    "    ,mast.EncryptedTaxIDNumber \n",
    "    ,mast.TaxIDNum_Last4 \n",
    "    ,mast.DecryptedTaxIDNumber \n",
    "    ,mast.TinType \n",
    "    ,mast.ExternalSystem \n",
    "    ,mast.Salutation \n",
    "    ,mast.Suffix \n",
    "    ,mast.AccountSite \n",
    "    ,mast.AccountSource \n",
    "    ,mast.AnnualRevenue \n",
    "    ,mast.Assistant \n",
    "    ,mast.AsstPhone \n",
    "    ,mast.EmailOptOut \n",
    "    ,mast.FaxOptOut \n",
    "    ,mast.ConsultantRating \n",
    "    ,mast.TrustTier \n",
    "    ,mast.ClientType \n",
    "    ,mast.AtRisk \n",
    "    ,mast.MarketingNeeds \n",
    "    ,mast.Region \n",
    "    ,mast.FICOScore \n",
    "    ,mast.FICOScoreDate \n",
    "    ,mast.Alerts \n",
    "    ,mast.RelationshipManager \n",
    "    ,mast.UnderwriterWith \n",
    "    ,mast.Comments \n",
    "    ,mast.PropertyManager \n",
    "    ,mast.CREComments \n",
    "    ,mast.CRMComments \n",
    "    ,mast.COIType \n",
    "    ,mast.CurrentIncome \n",
    "    ,mast.Employment \n",
    "    ,mast.EmploymentStatus \n",
    "    ,mast.CurrentResidenceOwnorRent \n",
    "    ,mast.DMILink \n",
    "    ,mast.FISHorizonLink \n",
    "    ,mast.PriscillaMetWithClient \n",
    "    ,mast.RegO \n",
    "    ,mast.PortfolioNumber \n",
    "    ,mast.Company_ID \n",
    "    ,mast.Cust_Skey \n",
    "    ,mast.Cust_Skey_2\n",
    "    ,mast.Cust_Skey_3 \n",
    "    ,mast.Cust_Skey_4 \n",
    "    ,mast.Cust_Skey_5 \n",
    "    ,mast.Cust_Skey_6  \n",
    "    ,mast.GID \n",
    "    ,mast.SF_Cust_Key \n",
    "    ,case when mast.SF_Cust_Key = xref.ParentID then null else xref.ParentID end as ParentID\n",
    "    ,mast.Source\n",
    "    FROM silver.customer_master mast \n",
    "    Left join vw_src_ParentId xref ON mast.SF_Cust_Key = xref.sf_cust_key\n",
    "    where CurrentRecord='Yes'    \n",
    "        ''')\n",
    "\n",
    "df.createOrReplaceTempView(\"vw_parent_id_xref_master\")"
   ]
  },
  {
   "cell_type": "markdown",
   "metadata": {
    "application/vnd.databricks.v1+cell": {
     "cellMetadata": {},
     "inputWidgets": {},
     "nuid": "1da91f99-f726-4c4c-b09e-690f8e475438",
     "showTitle": false,
     "tableResultSettingsMap": {},
     "title": ""
    }
   },
   "source": [
    "#Preparing for SCD Type-2"
   ]
  },
  {
   "cell_type": "code",
   "execution_count": 0,
   "metadata": {
    "application/vnd.databricks.v1+cell": {
     "cellMetadata": {
      "byteLimit": 2048000,
      "rowLimit": 10000
     },
     "inputWidgets": {},
     "nuid": "667bf256-0ba3-4cb3-a80b-3107c5b0aa43",
     "showTitle": false,
     "tableResultSettingsMap": {},
     "title": ""
    }
   },
   "outputs": [],
   "source": [
    "try:\n",
    "    logger.info(\"Joining base tables for silver customer_xref table\")\n",
    "    basequery = \"\"\"select tab.Name \n",
    "        ,tab.FirstName \n",
    "        ,tab.LastName \n",
    "        ,tab.MiddleName \n",
    "        ,tab.CustomerType \n",
    "        ,tab.AccountNumber \n",
    "        ,tab.Officer_Key \n",
    "        ,tab.ABEmployeeID \n",
    "        ,tab.Primary_Address_Street \n",
    "        ,tab.Primary_Address_City \n",
    "        ,tab.Primary_Address_State \n",
    "        ,tab.Primary_Address_Zip \n",
    "        ,tab.Primary_Address_Country \n",
    "        ,tab.Secondary_Address_Street \n",
    "        ,tab.Secondary_Address_City \n",
    "        ,tab.Secondary_Address_State \n",
    "        ,tab.Secondary_Address_Zip \n",
    "        ,tab.Secondary_Address_Country \n",
    "        ,tab.PersonBirthdate \n",
    "        ,tab.PersonBranch \n",
    "        ,tab.PersonDoNotCall \n",
    "        ,tab.PersonEmail \n",
    "        ,tab.NumberofEmployees \n",
    "        ,tab.Fax \n",
    "        ,tab.PersonPrimary_Address_Street \n",
    "        ,tab.PersonPrimary_Address_City \n",
    "        ,tab.PersonPrimary_Address_State \n",
    "        ,tab.PersonPrimary_Address_Zip \n",
    "        ,tab.PersonPrimary_Address_Country \n",
    "        ,tab.PersonSecondary_Address_Street \n",
    "        ,tab.PersonSecondary_Address_City \n",
    "        ,tab.PersonSecondary_Address_State \n",
    "        ,tab.PersonSecondary_Address_Zip \n",
    "        ,tab.PersonSecondary_Address_Country \n",
    "        ,tab.PersonHomePhone \n",
    "        ,tab.PersonMobilePhone \n",
    "        ,tab.PersonBusinessPhone \n",
    "        ,tab.Ownership \n",
    "        ,tab.BusinessPhone \n",
    "        ,tab.Website \n",
    "        ,tab.RelationshipStartDate \n",
    "        ,tab.LengthOfRelationship \n",
    "        ,tab.NAICSDescription \n",
    "        ,tab.NAICSCode \n",
    "        ,tab.Type \n",
    "        ,tab.EncryptedTaxIDNumber \n",
    "        ,tab.TaxIDNum_Last4 \n",
    "        ,tab.DecryptedTaxIDNumber \n",
    "        ,tab.TinType \n",
    "        ,tab.ExternalSystem \n",
    "        ,tab.Salutation \n",
    "        ,tab.Suffix \n",
    "        ,tab.AccountSite \n",
    "        ,tab.AccountSource \n",
    "        ,tab.AnnualRevenue \n",
    "        ,tab.Assistant \n",
    "        ,tab.AsstPhone \n",
    "        ,tab.EmailOptOut \n",
    "        ,tab.FaxOptOut \n",
    "        ,tab.ConsultantRating \n",
    "        ,tab.TrustTier \n",
    "        ,tab.ClientType \n",
    "        ,tab.AtRisk \n",
    "        ,tab.MarketingNeeds \n",
    "        ,tab.Region \n",
    "        ,tab.FICOScore \n",
    "        ,tab.FICOScoreDate \n",
    "        ,tab.Alerts \n",
    "        ,tab.RelationshipManager \n",
    "        ,tab.UnderwriterWith \n",
    "        ,tab.Comments \n",
    "        ,tab.PropertyManager \n",
    "        ,tab.CREComments \n",
    "        ,tab.CRMComments \n",
    "        ,tab.COIType \n",
    "        ,tab.CurrentIncome \n",
    "        ,tab.Employment \n",
    "        ,tab.EmploymentStatus \n",
    "        ,tab.CurrentResidenceOwnorRent \n",
    "        ,tab.DMILink \n",
    "        ,tab.FISHorizonLink \n",
    "        ,tab.PriscillaMetWithClient \n",
    "        ,tab.RegO \n",
    "        ,tab.PortfolioNumber \n",
    "        ,tab.Company_ID \n",
    "        ,tab.Cust_Skey \n",
    "        ,tab.Cust_Skey_2 \n",
    "        ,tab.Cust_Skey_3 \n",
    "        ,tab.Cust_Skey_4 \n",
    "        ,tab.Cust_Skey_5 \n",
    "        ,tab.Cust_Skey_6 \n",
    "        ,tab.GID \n",
    "        ,tab.SF_Cust_Key \n",
    "        ,tab.ParentID\n",
    "        ,tab.Source\n",
    "        ,'' as IsEmployee\n",
    "        ,'' as DateofDeath\n",
    "        ,'' as BusinessEmail\n",
    "        from\n",
    "        (\n",
    "            select * from vw_parent_id_xref_master   \n",
    "        )tab\n",
    "    \"\"\"\n",
    "    df_final_FA = spark.sql(basequery)\n",
    "    df_final_FA = df_final_FA.dropDuplicates()\n",
    "    df_final_FA.createOrReplaceTempView(\"vw_final_FA\")\n",
    "\n",
    "except Exception as e:\n",
    "    raise e"
   ]
  },
  {
   "cell_type": "markdown",
   "metadata": {
    "application/vnd.databricks.v1+cell": {
     "cellMetadata": {},
     "inputWidgets": {},
     "nuid": "508ebcd6-ccb2-49b8-b5d7-1e94b6a59f0c",
     "showTitle": false,
     "tableResultSettingsMap": {},
     "title": ""
    }
   },
   "source": [
    "## Dynamic Merge"
   ]
  },
  {
   "cell_type": "code",
   "execution_count": 0,
   "metadata": {
    "application/vnd.databricks.v1+cell": {
     "cellMetadata": {
      "byteLimit": 2048000,
      "rowLimit": 10000
     },
     "inputWidgets": {},
     "nuid": "c9ab518c-ddbf-41d8-a127-3bd98bc09dd9",
     "showTitle": true,
     "tableResultSettingsMap": {},
     "title": "widgets"
    }
   },
   "outputs": [],
   "source": [
    "DestinationSchema = dbutils.widgets.text(\"DestinationSchema\",' ')\n",
    "DestinationTable = dbutils.widgets.text(\"DestinationTable\",' ')\n",
    "AddOnType=dbutils.widgets.text(\"AddOnType\",' ')\n",
    "DestinationSchema = dbutils.widgets.get(\"DestinationSchema\")\n",
    "DestinationTable = dbutils.widgets.get(\"DestinationTable\")\n",
    "AddOnType = dbutils.widgets.get(\"AddOnType\")\n",
    "\n",
    "\n",
    "print(DestinationSchema, DestinationTable, AddOnType)"
   ]
  },
  {
   "cell_type": "code",
   "execution_count": 0,
   "metadata": {
    "application/vnd.databricks.v1+cell": {
     "cellMetadata": {
      "byteLimit": 2048000,
      "rowLimit": 10000
     },
     "inputWidgets": {},
     "nuid": "b57b349a-5c56-4b98-861a-4ec4845f151b",
     "showTitle": false,
     "tableResultSettingsMap": {},
     "title": ""
    }
   },
   "outputs": [],
   "source": [
    "base_column = spark.read.table(f\"{DestinationSchema}.{DestinationTable}\").columns #get all the base columns\n",
    "set_addon = df_final_FA.columns #get only the addon columns\n",
    "get_pk = spark.sql(f\"select MergeKey from config.metadata where lower(DWHTableName)='customer_master'\").collect()[0]['MergeKey']\n",
    "set_addon = [col for col in set_addon if col != get_pk] #remove pk from the addon\n",
    "excluded_columns = ['Start_Date', 'End_Date', 'DW_Created_By', 'DW_Created_Date', 'DW_Modified_By', 'DW_Modified_Date', 'MergeHashKey', 'CurrentRecord'] + set_addon\n",
    "filtered_basetable_columns = [col for col in base_column if col not in excluded_columns]"
   ]
  },
  {
   "cell_type": "code",
   "execution_count": 0,
   "metadata": {
    "application/vnd.databricks.v1+cell": {
     "cellMetadata": {
      "byteLimit": 2048000,
      "rowLimit": 10000
     },
     "inputWidgets": {},
     "nuid": "486ce764-02ae-4777-b018-b8c76478e691",
     "showTitle": false,
     "tableResultSettingsMap": {},
     "title": ""
    }
   },
   "outputs": [],
   "source": [
    "#get required columns from base table\n",
    "df_base_required = spark.sql(f\"select {','.join(filtered_basetable_columns)} from {DestinationSchema}.{DestinationTable} where CurrentRecord = 'Yes' \")\n",
    "df_base_required.createOrReplaceTempView(\"vw_base\")  #use this as a base table\n",
    "if AddOnType == 'AddOn':\n",
    "    if df_base_required.count()>0:\n",
    "\n",
    "        df_final_base_with_addon = spark.sql(\n",
    "            f\"\"\"\n",
    "            select\n",
    "                vw_base.*,\n",
    "                {','.join([f'vw_final_FA.{col} as {col}' for col in set_addon])}\n",
    "            from \n",
    "                vw_base \n",
    "            left join \n",
    "                vw_final_FA \n",
    "            on \n",
    "                vw_base.{get_pk} = vw_final_FA.{get_pk}\n",
    "        \"\"\")\n",
    "        df_final_base_with_addon.createOrReplaceTempView(\"vw_final_base_with_addon\")\n",
    "        df_final_base_with_addon.count()\n",
    "    else:\n",
    "        print(\"Else\")\n",
    "        df_final_FA.createOrReplaceTempView(\"vw_final_base_with_addon\")\n",
    "        count=df_final_FA.count()\n",
    "        print(count)\n",
    "else:\n",
    "    print(\"Else\")\n",
    "    df_final_FA.createOrReplaceTempView(\"vw_final_base_with_addon\")\n",
    "    count=df_final_FA.count()\n",
    "    print(count)"
   ]
  },
  {
   "cell_type": "code",
   "execution_count": 0,
   "metadata": {
    "application/vnd.databricks.v1+cell": {
     "cellMetadata": {
      "byteLimit": 2048000,
      "rowLimit": 10000
     },
     "inputWidgets": {},
     "nuid": "4e8ff979-9557-45fb-a0b3-1eae4abc3edd",
     "showTitle": false,
     "tableResultSettingsMap": {},
     "title": ""
    }
   },
   "outputs": [],
   "source": [
    "# Generate the concatenated string\n",
    "base_without_pk=filtered_basetable_columns.copy()\n",
    "base_without_pk.remove(get_pk)\n",
    "Mergehashkey_columns = list(set(set_addon + base_without_pk))\n",
    "concatenated_columns = ','.join(Mergehashkey_columns)"
   ]
  },
  {
   "cell_type": "code",
   "execution_count": 0,
   "metadata": {
    "application/vnd.databricks.v1+cell": {
     "cellMetadata": {
      "byteLimit": 2048000,
      "rowLimit": 10000
     },
     "inputWidgets": {},
     "nuid": "0e073c6b-3150-4c8e-bf4a-42cc66c3a615",
     "showTitle": false,
     "tableResultSettingsMap": {},
     "title": ""
    }
   },
   "outputs": [],
   "source": [
    "# Use the concatenated string in the SQL query\n",
    "query = f\"\"\"\n",
    "select\n",
    " *,\n",
    " MD5(\n",
    "    CONCAT_WS(',', {concatenated_columns})\n",
    "  ) AS MergeHashKey\n",
    "  from\n",
    "  vw_final_base_with_addon\n",
    "\"\"\"\n",
    "df_source = spark.sql(query)\n",
    "set_addon.append('MergeHashKey')\n",
    "set_addon=set(set_addon)\n",
    "df_source.createOrReplaceTempView(\"vw_source\")"
   ]
  },
  {
   "cell_type": "code",
   "execution_count": 0,
   "metadata": {
    "application/vnd.databricks.v1+cell": {
     "cellMetadata": {
      "byteLimit": 2048000,
      "rowLimit": 10000
     },
     "inputWidgets": {},
     "nuid": "29eb2369-2c43-4b97-ba57-be4c4bc0ce5e",
     "showTitle": false,
     "tableResultSettingsMap": {},
     "title": ""
    }
   },
   "outputs": [],
   "source": [
    "query = f\"\"\"\n",
    "select \n",
    "  {','.join([f'source.{col}' for col in filtered_basetable_columns]) if spark.sql(f\"SELECT COUNT(*) FROM {DestinationSchema}.{DestinationTable}\").collect()[0][0] > 0 else ','.join([f'source.{col}' for col in get_pk.split(',')])},\n",
    "  {','.join([f'source.{col}' for col in set_addon])},\n",
    "  current_user() as DW_Created_By,\n",
    "  current_timestamp() as DW_Created_Date,\n",
    "  current_user() as DW_Modified_By,\n",
    "  current_timestamp() as DW_Modified_Date,\n",
    "  current_timestamp() as Start_Date,\n",
    "  NULL as End_Date,\n",
    "  'Yes' as CurrentRecord,\n",
    "  CASE \n",
    "    WHEN target.{get_pk} IS NULL THEN 'Insert'\n",
    "    WHEN target.{get_pk} = source.{get_pk} AND source.MergeHashKey != target.MergeHashKey THEN 'Update'\n",
    "    ELSE 'No Changes' \n",
    "  END As Action_Code  \n",
    "from (select {','.join(set_addon)}, {get_pk} from vw_source group by all ) as source\n",
    "left join (select * from {DestinationSchema}.{DestinationTable} where end_date is null) as target\n",
    "on target.{get_pk} = source.{get_pk}\n",
    " \n",
    "\"\"\"\n",
    "\n",
    "df_source = spark.sql(query)\n",
    "df_source = df_source.dropDuplicates()\n",
    "df_source.createOrReplaceTempView(\"vw_silver\")\n",
    "final_col = df_source.columns\n",
    "final_col.remove('Action_Code')"
   ]
  },
  {
   "cell_type": "code",
   "execution_count": 0,
   "metadata": {
    "application/vnd.databricks.v1+cell": {
     "cellMetadata": {
      "byteLimit": 2048000,
      "implicitDf": true,
      "rowLimit": 10000
     },
     "inputWidgets": {},
     "nuid": "e641e3b6-fa31-4872-be3f-59b70558aead",
     "showTitle": false,
     "tableResultSettingsMap": {},
     "title": ""
    }
   },
   "outputs": [],
   "source": [
    "%sql\n",
    "Select SF_Cust_Key, count(1) from silver.customer_master\n",
    "where CurrentRecord = 'Yes'\n",
    "group by SF_Cust_Key\n",
    "Having count(1) > 1"
   ]
  },
  {
   "cell_type": "code",
   "execution_count": 0,
   "metadata": {
    "application/vnd.databricks.v1+cell": {
     "cellMetadata": {
      "byteLimit": 2048000,
      "rowLimit": 10000
     },
     "inputWidgets": {},
     "nuid": "842f3e03-d9e6-4155-b436-89bb48676aa1",
     "showTitle": false,
     "tableResultSettingsMap": {},
     "title": ""
    }
   },
   "outputs": [],
   "source": [
    "spark.sql(f\"insert into {DestinationSchema}.{DestinationTable}({','.join(final_col)}) select {','.join(final_col)} from vw_silver where Action_Code in ('Insert','Update')\")\n",
    "\n",
    "spark.sql(f\"\"\"\n",
    "        MERGE INTO {DestinationSchema}.{DestinationTable} AS Target\n",
    "        USING (SELECT {','.join(final_col)} FROM VW_silver WHERE Action_Code='Update') AS Source\n",
    "        ON Target.{get_pk} = Source.{get_pk} AND Target.MergeHashKey != Source.MergeHashKey\n",
    "        WHEN MATCHED THEN UPDATE SET\n",
    "        Target.End_Date = CURRENT_TIMESTAMP(),\n",
    "        Target.DW_Modified_Date = Source.DW_Modified_Date,\n",
    "        Target.DW_Modified_By = Source.DW_Modified_By,\n",
    "        Target.CurrentRecord = 'No'\n",
    "    \"\"\")"
   ]
  },
  {
   "cell_type": "code",
   "execution_count": 0,
   "metadata": {
    "application/vnd.databricks.v1+cell": {
     "cellMetadata": {
      "byteLimit": 2048000,
      "rowLimit": 10000
     },
     "inputWidgets": {},
     "nuid": "50ee8ce7-36a7-4d2c-a27b-3e50c2e9cc0c",
     "showTitle": false,
     "tableResultSettingsMap": {},
     "title": ""
    }
   },
   "outputs": [],
   "source": [
    "df = spark.sql(f\"select * from {DestinationSchema}.{DestinationTable} where End_Date is null\")\n",
    "\n",
    "df.createOrReplaceTempView(\"target_view\")\n",
    "\n",
    "DFSourceNull = spark.sql(f\"\"\"\n",
    "                SELECT t.*,\n",
    "                    CASE WHEN s.{get_pk} IS NULL THEN 'No' ELSE 'Yes' END AS CurrentRecordTmp\n",
    "                FROM target_view t\n",
    "                FULL JOIN VW_silver s\n",
    "                ON { ' AND '.join([f's.{col} = t.{col}' for col in get_pk.split(',')]) }\n",
    "            \"\"\")\n",
    "# Filter out the 'DeleteFlag' rows for next steps\n",
    "DFSourceNull.createOrReplaceTempView(\"SourcetoInsertUpdate\")\n",
    "\n",
    "# Merge operation\n",
    "MergeQuery = f\"\"\"\n",
    "        MERGE INTO {DestinationSchema}.{DestinationTable} AS target\n",
    "        USING SourcetoInsertUpdate AS source\n",
    "        ON target.{get_pk} = source.{get_pk} \n",
    "        AND source.CurrentRecordTmp = 'No'\n",
    "        WHEN MATCHED THEN\n",
    "            UPDATE SET target.CurrentRecord = 'Deleted', target.end_date=current_date(), target.DW_modified_Date=current_date(),target.DW_Modified_By='Databricks'\n",
    "    \"\"\"\n",
    "\n",
    "spark.sql(MergeQuery)"
   ]
  },
  {
   "cell_type": "code",
   "execution_count": 0,
   "metadata": {
    "application/vnd.databricks.v1+cell": {
     "cellMetadata": {
      "byteLimit": 2048000,
      "implicitDf": true,
      "rowLimit": 10000
     },
     "inputWidgets": {},
     "nuid": "f320daab-cf56-4f6a-beee-b7ed664a0426",
     "showTitle": false,
     "tableResultSettingsMap": {},
     "title": ""
    }
   },
   "outputs": [],
   "source": [
    "%sql\n",
    "Select count(1) from silver.customer_master\n",
    "Where CurrentRecord='Yes'"
   ]
  },
  {
   "cell_type": "code",
   "execution_count": 0,
   "metadata": {
    "application/vnd.databricks.v1+cell": {
     "cellMetadata": {
      "byteLimit": 2048000,
      "implicitDf": true,
      "rowLimit": 10000
     },
     "inputWidgets": {},
     "nuid": "86b59a01-6ff8-449a-b502-28e08252f45a",
     "showTitle": true,
     "tableResultSettingsMap": {},
     "title": "dupes check"
    }
   },
   "outputs": [],
   "source": [
    "%sql\n",
    "select sf_cust_key, count(1) from silver.customer_master\n",
    "where CurrentRecord = 'Yes'\n",
    "group by SF_Cust_Key\n",
    "having count(1) > 1"
   ]
  }
 ],
 "metadata": {
  "application/vnd.databricks.v1+notebook": {
   "computePreferences": null,
   "dashboards": [],
   "environmentMetadata": {
    "base_environment": "",
    "environment_version": "2"
   },
   "inputWidgetPreferences": null,
   "language": "python",
   "notebookMetadata": {
    "mostRecentlyExecutedCommandWithImplicitDF": {
     "commandId": 7255422903230008,
     "dataframes": [
      "_sqldf"
     ]
    },
    "pythonIndentUnit": 4
   },
   "notebookName": "NB_Silver_Customer_Master_Parent_Account_ID",
   "widgets": {
    "AddOnType": {
     "currentValue": " Actual",
     "nuid": "227324a9-ba68-4c66-8fb2-2b28e8f4239c",
     "typedWidgetInfo": {
      "autoCreated": false,
      "defaultValue": " ",
      "label": null,
      "name": "AddOnType",
      "options": {
       "widgetDisplayType": "Text",
       "validationRegex": null
      },
      "parameterDataType": "String"
     },
     "widgetInfo": {
      "widgetType": "text",
      "defaultValue": " ",
      "label": null,
      "name": "AddOnType",
      "options": {
       "widgetType": "text",
       "autoCreated": null,
       "validationRegex": null
      }
     }
    },
    "DestinationSchema": {
     "currentValue": " silver",
     "nuid": "977a88e5-29b3-4e01-b688-db71fa4d2996",
     "typedWidgetInfo": {
      "autoCreated": false,
      "defaultValue": " ",
      "label": null,
      "name": "DestinationSchema",
      "options": {
       "widgetDisplayType": "Text",
       "validationRegex": null
      },
      "parameterDataType": "String"
     },
     "widgetInfo": {
      "widgetType": "text",
      "defaultValue": " ",
      "label": null,
      "name": "DestinationSchema",
      "options": {
       "widgetType": "text",
       "autoCreated": null,
       "validationRegex": null
      }
     }
    },
    "DestinationTable": {
     "currentValue": " customer_master",
     "nuid": "be291e6e-e7aa-463f-a136-b7d4915552d5",
     "typedWidgetInfo": {
      "autoCreated": false,
      "defaultValue": " ",
      "label": null,
      "name": "DestinationTable",
      "options": {
       "widgetDisplayType": "Text",
       "validationRegex": null
      },
      "parameterDataType": "String"
     },
     "widgetInfo": {
      "widgetType": "text",
      "defaultValue": " ",
      "label": null,
      "name": "DestinationTable",
      "options": {
       "widgetType": "text",
       "autoCreated": null,
       "validationRegex": null
      }
     }
    }
   }
  },
  "language_info": {
   "name": "python"
  }
 },
 "nbformat": 4,
 "nbformat_minor": 0
}
