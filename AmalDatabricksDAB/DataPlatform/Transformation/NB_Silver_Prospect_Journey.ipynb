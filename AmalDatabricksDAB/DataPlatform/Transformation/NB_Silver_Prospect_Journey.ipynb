{
 "cells": [
  {
   "cell_type": "markdown",
   "metadata": {
    "application/vnd.databricks.v1+cell": {
     "cellMetadata": {},
     "inputWidgets": {},
     "nuid": "bea5612f-5245-46d5-a8c0-f6e597767fe2",
     "showTitle": false,
     "tableResultSettingsMap": {},
     "title": ""
    }
   },
   "source": [
    "# Identify Business and Personal Prospects in the landing.account table \n",
    "developername ilike %Prospect% and customer_key (sf_cust_key) is null "
   ]
  },
  {
   "cell_type": "markdown",
   "metadata": {
    "application/vnd.databricks.v1+cell": {
     "cellMetadata": {},
     "inputWidgets": {},
     "nuid": "7535ba0d-086a-443d-9885-b2294e259511",
     "showTitle": false,
     "tableResultSettingsMap": {},
     "title": ""
    }
   },
   "source": [
    "#### Calling configuration Notebook"
   ]
  },
  {
   "cell_type": "code",
   "execution_count": 0,
   "metadata": {
    "application/vnd.databricks.v1+cell": {
     "cellMetadata": {
      "byteLimit": 2048000,
      "rowLimit": 10000
     },
     "inputWidgets": {},
     "nuid": "04b29973-b7cb-45cc-b99a-ae9b77fff320",
     "showTitle": false,
     "tableResultSettingsMap": {},
     "title": ""
    }
   },
   "outputs": [],
   "source": [
    "%run \"../General/NB_Configuration\""
   ]
  },
  {
   "cell_type": "code",
   "execution_count": 0,
   "metadata": {
    "application/vnd.databricks.v1+cell": {
     "cellMetadata": {
      "byteLimit": 2048000,
      "rowLimit": 10000
     },
     "inputWidgets": {},
     "nuid": "6fba4b1e-3288-4270-9707-e976c7198595",
     "showTitle": false,
     "tableResultSettingsMap": {},
     "title": ""
    }
   },
   "outputs": [],
   "source": [
    "spark.sql(f\"\"\"use catalog {catalog}\"\"\")"
   ]
  },
  {
   "cell_type": "code",
   "execution_count": 0,
   "metadata": {
    "application/vnd.databricks.v1+cell": {
     "cellMetadata": {
      "byteLimit": 2048000,
      "implicitDf": true,
      "rowLimit": 10000
     },
     "inputWidgets": {},
     "nuid": "6f2665ca-258d-4600-a082-9ab7e910b257",
     "showTitle": true,
     "tableResultSettingsMap": {
      "0": {
       "dataGridStateBlob": null,
       "filterBlob": "{\"version\":1,\"filterGroups\":[],\"syncTimestamp\":1750764945124}",
       "queryPlanFiltersBlob": "[]",
       "tableResultIndex": 0
      }
     },
     "title": "All Prospects in Landing"
    }
   },
   "outputs": [],
   "source": [
    "\n",
    "df = spark.sql(f'''\n",
    "SELECT regexp_replace(ACCOUNT.Tax_ID__c , '[^0-9]', '') AS Tax_ID__c,\n",
    "       Customer_Key__c,\n",
    "       ACCOUNT.Name,\n",
    "       ACCOUNT.FirstName,\n",
    "       ACCOUNT.LastName,\n",
    "       landing.DEVELOPERNAME,\n",
    "       ACCOUNT.CreatedDate\n",
    "FROM {catalog}.LANDING.ACCOUNT ACCOUNT\n",
    "INNER JOIN {catalog}.LANDING.RECORDTYPE landing ON ACCOUNT.RECORDTYPEID = landing.ID\n",
    "WHERE landing.DEVELOPERNAME ILIKE '%Prospect%'\n",
    "  AND ACCOUNT.Tax_ID__c IS NOT NULL\n",
    "  AND TRIM(ACCOUNT.Tax_ID__c) != ''\n",
    "  AND regexp_replace(ACCOUNT.Tax_ID__c, '[^0-9]', '')\n",
    "      NOT IN ('123456789', '111111111', '999999999', '111223333', '678678678', '123456787', '999887777', '12345769')\n",
    "  AND ACCOUNT.ISDELETED = FALSE\n",
    "  AND (Customer_Key__c IS NULL OR TRIM(Customer_Key__c) = '')\n",
    "  order by CreatedDate desc\n",
    "''')\n",
    "\n",
    "# Create a temporary view to hold the results\n",
    "df.createOrReplaceTempView('vw_Prospects_LandingAccount_a')\n",
    "\n",
    "# Display the DataFrame\n",
    "display(df)\n"
   ]
  },
  {
   "cell_type": "code",
   "execution_count": 0,
   "metadata": {
    "application/vnd.databricks.v1+cell": {
     "cellMetadata": {
      "byteLimit": 2048000,
      "rowLimit": 10000
     },
     "inputWidgets": {},
     "nuid": "a3b52cc9-caf2-49e4-a645-b2c96e627a82",
     "showTitle": true,
     "tableResultSettingsMap": {},
     "title": "All Customers from Landing"
    }
   },
   "outputs": [],
   "source": [
    "df = spark.sql(f'''\n",
    "    SELECT TAX_ID__C, *\n",
    "    FROM {catalog}.LANDING.ACCOUNT ACCOUNT\n",
    "    INNER JOIN {catalog}.LANDING.RECORDTYPE RECORDTYPE ON ACCOUNT.RECORDTYPEID = RECORDTYPE.ID\n",
    "    WHERE RECORDTYPE.DEVELOPERNAME IN ('Business_Customer', 'Person_Customer')\n",
    "      AND ACCOUNT.ISDELETED = FALSE\n",
    "    --   AND TAX_ID__C = '599061125'\n",
    "''')\n",
    "df.createOrReplaceTempView('vw_Prospects_LandingAccount_b')\n",
    "display(df)"
   ]
  },
  {
   "cell_type": "code",
   "execution_count": 0,
   "metadata": {
    "application/vnd.databricks.v1+cell": {
     "cellMetadata": {
      "byteLimit": 2048000,
      "implicitDf": true,
      "rowLimit": 10000
     },
     "inputWidgets": {},
     "nuid": "5bdff03f-e8d1-4185-a7ad-d8d67fb62502",
     "showTitle": true,
     "tableResultSettingsMap": {},
     "title": "Create View with Prospects"
    }
   },
   "outputs": [],
   "source": [
    "%sql\n",
    "CREATE OR REPLACE TEMP VIEW vw_Prospects_LandingAccount as Select * from vw_Prospects_LandingAccount_a where \n",
    "not exists\n",
    "(select * from vw_Prospects_LandingAccount_b where vw_Prospects_LandingAccount_a.TAX_ID__C = vw_Prospects_LandingAccount_b.TAX_ID__C)"
   ]
  },
  {
   "cell_type": "markdown",
   "metadata": {
    "application/vnd.databricks.v1+cell": {
     "cellMetadata": {},
     "inputWidgets": {},
     "nuid": "7abda7b1-90a8-4808-8d1b-9f13f488b335",
     "showTitle": false,
     "tableResultSettingsMap": {},
     "title": ""
    }
   },
   "source": [
    "# Person Prospect Journey"
   ]
  },
  {
   "cell_type": "code",
   "execution_count": 0,
   "metadata": {
    "application/vnd.databricks.v1+cell": {
     "cellMetadata": {
      "byteLimit": 2048000,
      "rowLimit": 10000
     },
     "inputWidgets": {},
     "nuid": "ff964d55-57e4-4c7b-abe2-0576f657afc6",
     "showTitle": true,
     "tableResultSettingsMap": {},
     "title": "vw_MatchedPerson"
    }
   },
   "outputs": [],
   "source": [
    "df_PersonProspectsMatched = spark.sql('''\n",
    "select  customer.SF_Cust_Key as abcdkey, vw.Tax_ID__c\n",
    "from vw_Prospects_LandingAccount vw\n",
    "inner join (\n",
    "    select\n",
    "        regexp_replace(ac.DecryptedTaxIDNumber, '[^0-9]', '')  as Tax_ID\n",
    "        , SF_Cust_Key\n",
    "    from silver.customer_master ac\n",
    "    where ac.CurrentRecord = 'Yes'\n",
    "\n",
    ") customer ON regexp_replace(vw.Tax_ID__c , '[^0-9]', '') = regexp_replace(customer.Tax_ID , '[^0-9]', '')\n",
    "''')\n",
    "df_PersonProspectsMatched.createOrReplaceTempView('vw_MatchedPerson')\n",
    "df_PersonProspectsMatched.display()"
   ]
  },
  {
   "cell_type": "markdown",
   "metadata": {
    "application/vnd.databricks.v1+cell": {
     "cellMetadata": {},
     "inputWidgets": {},
     "nuid": "a35122d7-41b0-4e7f-855c-232e1dcc2afd",
     "showTitle": false,
     "tableResultSettingsMap": {},
     "title": ""
    }
   },
   "source": [
    "if that tax id only exists in landing.account on that prospect record then stamp the sf_cust_key on it"
   ]
  },
  {
   "cell_type": "markdown",
   "metadata": {
    "application/vnd.databricks.v1+cell": {
     "cellMetadata": {},
     "inputWidgets": {},
     "nuid": "a6082871-369b-4a49-aeb2-8d8fcb330d6e",
     "showTitle": false,
     "tableResultSettingsMap": {},
     "title": ""
    }
   },
   "source": [
    "# Merge INTO LANDING "
   ]
  },
  {
   "cell_type": "code",
   "execution_count": 0,
   "metadata": {
    "application/vnd.databricks.v1+cell": {
     "cellMetadata": {
      "byteLimit": 2048000,
      "implicitDf": true,
      "rowLimit": 10000
     },
     "inputWidgets": {},
     "nuid": "7e9135fa-ccb5-45b1-8269-f7f0515a944a",
     "showTitle": true,
     "tableResultSettingsMap": {},
     "title": "Merge SF_Cust_Key"
    }
   },
   "outputs": [],
   "source": [
    "%sql\n",
    "MERGE INTO LANDING.ACCOUNT AS target\n",
    "USING (\n",
    "    SELECT Tax_ID__c, abcdkey FROM vw_MatchedPerson\n",
    ") AS source\n",
    "ON source.Tax_ID__c = target.Tax_ID__c\n",
    "WHEN MATCHED THEN \n",
    "    UPDATE SET target.Customer_Key__c = source.abcdkey"
   ]
  },
  {
   "cell_type": "markdown",
   "metadata": {
    "application/vnd.databricks.v1+cell": {
     "cellMetadata": {},
     "inputWidgets": {},
     "nuid": "714bd267-9979-4d0e-9957-e1fddded4385",
     "showTitle": false,
     "tableResultSettingsMap": {},
     "title": ""
    }
   },
   "source": [
    "# Check Merge Worked\n"
   ]
  },
  {
   "cell_type": "code",
   "execution_count": 0,
   "metadata": {
    "application/vnd.databricks.v1+cell": {
     "cellMetadata": {
      "byteLimit": 2048000,
      "implicitDf": true,
      "rowLimit": 10000
     },
     "inputWidgets": {},
     "nuid": "86b9e031-079c-4f65-b124-737ed4ae5b08",
     "showTitle": true,
     "tableResultSettingsMap": {},
     "title": "Testing that the records updated"
    }
   },
   "outputs": [],
   "source": [
    "%sql \n",
    "select Customer_Key__c, Tax_ID__c, * \n",
    "from LANDING.ACCOUNT\n",
    "INNER JOIN LANDING.RECORDTYPE RECORDTYPE\n",
    "ON ACCOUNT.RECORDTYPEID = RECORDTYPE.ID\n",
    "WHERE RECORDTYPE.DEVELOPERNAME ilike ('%Prospect%')\n",
    "AND ACCOUNT.Tax_ID__c IS NOT NULL\n",
    "AND ISDELETED = FALSE\n",
    "AND Customer_Key__c is not Null"
   ]
  }
 ],
 "metadata": {
  "application/vnd.databricks.v1+notebook": {
   "computePreferences": null,
   "dashboards": [],
   "environmentMetadata": {
    "base_environment": "",
    "environment_version": "2"
   },
   "inputWidgetPreferences": null,
   "language": "python",
   "notebookMetadata": {
    "mostRecentlyExecutedCommandWithImplicitDF": {
     "commandId": 6478691910881551,
     "dataframes": [
      "_sqldf"
     ]
    },
    "pythonIndentUnit": 4
   },
   "notebookName": "NB_Silver_Prospect_Journey",
   "widgets": {}
  },
  "language_info": {
   "name": "python"
  }
 },
 "nbformat": 4,
 "nbformat_minor": 0
}
